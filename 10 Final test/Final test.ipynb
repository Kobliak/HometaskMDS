{
 "cells": [
  {
   "cell_type": "code",
   "execution_count": 1,
   "metadata": {},
   "outputs": [],
   "source": [
    "import matplotlib.pyplot as plt\n",
    "import numpy as np\n",
    "from sympy import diff, symbols, sin, cos, tan\n",
    "from scipy.optimize import minimize\n",
    "%matplotlib inline\n",
    "from scipy.misc import derivative\n",
    "from sklearn.metrics.pairwise import cosine_similarity\n",
    "from scipy import sparse\n"
   ]
  },
  {
   "cell_type": "markdown",
   "metadata": {},
   "source": [
    "** Задание 1 **"
   ]
  },
  {
   "cell_type": "code",
   "execution_count": 3,
   "metadata": {},
   "outputs": [],
   "source": [
    "raitings = np.array([[ 4,  4,  9,  4,  1,  6, 10,  7,  9,  6,  9,  2,  8,  6,  6],\n",
    "                     [ 9,  2,  5, 10,  7,  8, 10,  5,  6,  2,  1,  6,  8,  9,  7],\n",
    "                     [ 1,  6,  8,  8,  4,  9,  3,  8, 10,  5,  2,  6,  8,  1,  6],\n",
    "                     [ 6,  1,  9,  7,  7,  9,  2,  3,  5,  1,  6,  6,  3,  2,  7],\n",
    "                     [ 3,  7,  3,  5,  7,  9,  9,  6,  2,  9,  1,  2,  8, 10,  6],\n",
    "                     [ 8,  3,  7,  3,  8,  6,  1,  8,  8,  6,  1,  9,  4, 10,  1],\n",
    "                     [ 9,  8,  4,  8,  8, 10,  6,  1,  1,  2,  9,  5,  2,  7,  2],\n",
    "                     [ 4,  1,  6,  4,  3, 10,  4,  4,  2,  8,  7,  9,  3,  8,  3],\n",
    "                     [ 2,  7,  7,  6, 10,  6,  8,  9,  8,  6, 10,  1,  7, 10,  4],\n",
    "                     [ 5, 10,  8,  8,  9,  7,  2,  9,  9, 10,  8,  8,  8,  6, 10]])"
   ]
  },
  {
   "cell_type": "markdown",
   "metadata": {},
   "source": [
    "** Часть a) **"
   ]
  },
  {
   "cell_type": "markdown",
   "metadata": {},
   "source": [
    "*** Вариант 1 - простой перебор ***"
   ]
  },
  {
   "cell_type": "code",
   "execution_count": 80,
   "metadata": {},
   "outputs": [
    {
     "data": {
      "text/plain": [
       "[[[4, 4, 9, 4, 1, 6, 10, 7, 9, 6, 9, 2, 8, 6, 6],\n",
       "  [2, 7, 7, 6, 10, 6, 8, 9, 8, 6, 10, 1, 7, 10, 4]],\n",
       " [[9, 2, 5, 10, 7, 8, 10, 5, 6, 2, 1, 6, 8, 9, 7],\n",
       "  [3, 7, 3, 5, 7, 9, 9, 6, 2, 9, 1, 2, 8, 10, 6]],\n",
       " [[1, 6, 8, 8, 4, 9, 3, 8, 10, 5, 2, 6, 8, 1, 6],\n",
       "  [5, 10, 8, 8, 9, 7, 2, 9, 9, 10, 8, 8, 8, 6, 10]],\n",
       " [[6, 1, 9, 7, 7, 9, 2, 3, 5, 1, 6, 6, 3, 2, 7],\n",
       "  [5, 10, 8, 8, 9, 7, 2, 9, 9, 10, 8, 8, 8, 6, 10]],\n",
       " [[3, 7, 3, 5, 7, 9, 9, 6, 2, 9, 1, 2, 8, 10, 6],\n",
       "  [2, 7, 7, 6, 10, 6, 8, 9, 8, 6, 10, 1, 7, 10, 4]],\n",
       " [[8, 3, 7, 3, 8, 6, 1, 8, 8, 6, 1, 9, 4, 10, 1],\n",
       "  [5, 10, 8, 8, 9, 7, 2, 9, 9, 10, 8, 8, 8, 6, 10]],\n",
       " [[9, 8, 4, 8, 8, 10, 6, 1, 1, 2, 9, 5, 2, 7, 2],\n",
       "  [6, 1, 9, 7, 7, 9, 2, 3, 5, 1, 6, 6, 3, 2, 7]],\n",
       " [[4, 1, 6, 4, 3, 10, 4, 4, 2, 8, 7, 9, 3, 8, 3],\n",
       "  [8, 3, 7, 3, 8, 6, 1, 8, 8, 6, 1, 9, 4, 10, 1]],\n",
       " [[2, 7, 7, 6, 10, 6, 8, 9, 8, 6, 10, 1, 7, 10, 4],\n",
       "  [4, 4, 9, 4, 1, 6, 10, 7, 9, 6, 9, 2, 8, 6, 6]],\n",
       " [[5, 10, 8, 8, 9, 7, 2, 9, 9, 10, 8, 8, 8, 6, 10],\n",
       "  [1, 6, 8, 8, 4, 9, 3, 8, 10, 5, 2, 6, 8, 1, 6]]]"
      ]
     },
     "execution_count": 80,
     "metadata": {},
     "output_type": "execute_result"
    }
   ],
   "source": [
    "RES = []\n",
    "pair = []\n",
    "for user in raitings:\n",
    "    res_ = []\n",
    "    for user1 in raitings:\n",
    "        res = round(np.dot(user, user1)/(np.linalg.norm(user) * np.linalg.norm(user1)),5)\n",
    "        if res == 1:\n",
    "            res_.append(0)\n",
    "        else:\n",
    "            res_.append(res)\n",
    "    RES.append([list(user), list(raitings[res_.index(max(res_))])])\n",
    "RES"
   ]
  },
  {
   "cell_type": "markdown",
   "metadata": {},
   "source": [
    "*** Вариант 2 - использование cosine_similarity ***"
   ]
  },
  {
   "cell_type": "code",
   "execution_count": 4,
   "metadata": {},
   "outputs": [
    {
     "data": {
      "text/plain": [
       "[[[4, 4, 9, 4, 1, 6, 10, 7, 9, 6, 9, 2, 8, 6, 6],\n",
       "  [2, 7, 7, 6, 10, 6, 8, 9, 8, 6, 10, 1, 7, 10, 4]],\n",
       " [[9, 2, 5, 10, 7, 8, 10, 5, 6, 2, 1, 6, 8, 9, 7],\n",
       "  [3, 7, 3, 5, 7, 9, 9, 6, 2, 9, 1, 2, 8, 10, 6]],\n",
       " [[1, 6, 8, 8, 4, 9, 3, 8, 10, 5, 2, 6, 8, 1, 6],\n",
       "  [5, 10, 8, 8, 9, 7, 2, 9, 9, 10, 8, 8, 8, 6, 10]],\n",
       " [[6, 1, 9, 7, 7, 9, 2, 3, 5, 1, 6, 6, 3, 2, 7],\n",
       "  [5, 10, 8, 8, 9, 7, 2, 9, 9, 10, 8, 8, 8, 6, 10]],\n",
       " [[3, 7, 3, 5, 7, 9, 9, 6, 2, 9, 1, 2, 8, 10, 6],\n",
       "  [2, 7, 7, 6, 10, 6, 8, 9, 8, 6, 10, 1, 7, 10, 4]],\n",
       " [[8, 3, 7, 3, 8, 6, 1, 8, 8, 6, 1, 9, 4, 10, 1],\n",
       "  [5, 10, 8, 8, 9, 7, 2, 9, 9, 10, 8, 8, 8, 6, 10]],\n",
       " [[9, 8, 4, 8, 8, 10, 6, 1, 1, 2, 9, 5, 2, 7, 2],\n",
       "  [6, 1, 9, 7, 7, 9, 2, 3, 5, 1, 6, 6, 3, 2, 7]],\n",
       " [[4, 1, 6, 4, 3, 10, 4, 4, 2, 8, 7, 9, 3, 8, 3],\n",
       "  [8, 3, 7, 3, 8, 6, 1, 8, 8, 6, 1, 9, 4, 10, 1]],\n",
       " [[2, 7, 7, 6, 10, 6, 8, 9, 8, 6, 10, 1, 7, 10, 4],\n",
       "  [4, 4, 9, 4, 1, 6, 10, 7, 9, 6, 9, 2, 8, 6, 6]],\n",
       " [[5, 10, 8, 8, 9, 7, 2, 9, 9, 10, 8, 8, 8, 6, 10],\n",
       "  [1, 6, 8, 8, 4, 9, 3, 8, 10, 5, 2, 6, 8, 1, 6]]]"
      ]
     },
     "execution_count": 4,
     "metadata": {},
     "output_type": "execute_result"
    }
   ],
   "source": [
    "RESULT = []\n",
    "similarities = cosine_similarity(raitings)\n",
    "res = similarities - np.eye(10)\n",
    "res2 = np.apply_along_axis(np.argmax, 1, res)\n",
    "for i, k in zip(raitings, res2):\n",
    "    RESULT.append([list(i), list(raitings[k])])\n",
    "RESULT"
   ]
  },
  {
   "cell_type": "markdown",
   "metadata": {},
   "source": [
    "** Часть b) **"
   ]
  },
  {
   "cell_type": "markdown",
   "metadata": {},
   "source": [
    "*** Для решения задачи применим fit_transform() к матрице raitings.\n",
    "После попробуем восстановить данные с помощью inverse_transform() и посчитаем различие с помощью MSE"
   ]
  },
  {
   "cell_type": "code",
   "execution_count": 85,
   "metadata": {},
   "outputs": [],
   "source": [
    "from sklearn.decomposition import PCA\n",
    "from sklearn.metrics import mean_squared_error"
   ]
  },
  {
   "cell_type": "code",
   "execution_count": 95,
   "metadata": {},
   "outputs": [
    {
     "name": "stdout",
     "output_type": "stream",
     "text": [
      "1.245544269672819\n"
     ]
    }
   ],
   "source": [
    "pca = PCA(n_components = 5)\n",
    "raiting_reduced = pca.fit_transform(raitings)\n",
    "raiting_recovered = pca.inverse_transform(raiting_reduced)\n",
    "mse_res = mean_squared_error(raitings, raiting_recovered)\n",
    "#print(raitings)\n",
    "#print(raiting_recovered)\n",
    "#print(raiting_reduced)\n",
    "print(mse_res)\n"
   ]
  },
  {
   "cell_type": "code",
   "execution_count": null,
   "metadata": {},
   "outputs": [],
   "source": []
  },
  {
   "cell_type": "markdown",
   "metadata": {},
   "source": [
    "** Задание 2 **"
   ]
  },
  {
   "cell_type": "code",
   "execution_count": 17,
   "metadata": {},
   "outputs": [],
   "source": [
    "def f(x):\n",
    "    return (np.tan(np.sin(x) + np.cos(2*x + 3)))**2"
   ]
  },
  {
   "cell_type": "code",
   "execution_count": 23,
   "metadata": {},
   "outputs": [
    {
     "data": {
      "text/latex": [
       "$\\displaystyle 2 \\left(- 2 \\sin{\\left(2 x + 3 \\right)} + \\cos{\\left(x \\right)}\\right) \\left(\\tan^{2}{\\left(\\sin{\\left(x \\right)} + \\cos{\\left(2 x + 3 \\right)} \\right)} + 1\\right) \\tan{\\left(\\sin{\\left(x \\right)} + \\cos{\\left(2 x + 3 \\right)} \\right)}$"
      ],
      "text/plain": [
       "2*(-2*sin(2*x + 3) + cos(x))*(tan(sin(x) + cos(2*x + 3))**2 + 1)*tan(sin(x) + cos(2*x + 3))"
      ]
     },
     "execution_count": 23,
     "metadata": {},
     "output_type": "execute_result"
    }
   ],
   "source": [
    "#расчет производной на питоне\n",
    "x = symbols('x')\n",
    "diff((tan(sin(x) + cos(2*x + 3)))**2)"
   ]
  },
  {
   "cell_type": "code",
   "execution_count": 26,
   "metadata": {},
   "outputs": [
    {
     "name": "stdout",
     "output_type": "stream",
     "text": [
      "55.3859176464222\n"
     ]
    }
   ],
   "source": [
    "#получение значения 1-й производной в точке x=1\n",
    "f_1 = derivative(f, 1.0, dx=1e-6)\n",
    "print(f_1)"
   ]
  },
  {
   "cell_type": "code",
   "execution_count": null,
   "metadata": {},
   "outputs": [],
   "source": [
    "#расчет производной руками"
   ]
  },
  {
   "cell_type": "markdown",
   "metadata": {},
   "source": [
    "f'(x) = ((tan(sin(x) + cos(2x+3)))^2)’ = 2tan(sin(x) + cos(2x+3)) * (tan(sin(x) + cos(2x+3)))’\n",
    "\n",
    "(tan(sin(x) + cos(2x+3)))’ = (sin(x) + cos(2x+3))’ / (cos(sin(x) + cos(2x+3))^2 = \n",
    "= (cos(x) – 2 sin(2x+3)) / ((cos(sin(x) + cos(2x+3))^2) = \n",
    "= (cos(x) – 2 sin(2x+3)) (tan(sin(𝑥)+cos(2𝑥+3))+1)^2\n",
    "\n",
    "f'(x) = ((tan(sin(x) + cos(2x+3)))^2)’ = 2tan(sin(x) + cos(2x+3)) *(cos(x) – 2 sin(2x+3)) * (tan(sin(𝑥)+cos(2𝑥+3))+1)^2\n",
    "f'(x=1) = 2tan(sin(1) + cos(5)) *(cos(1) – 2 sin(5)) * (tan(sin(1)+cos(5))+1)^2"
   ]
  },
  {
   "cell_type": "markdown",
   "metadata": {},
   "source": [
    "** Задание 3 **"
   ]
  },
  {
   "cell_type": "code",
   "execution_count": 125,
   "metadata": {},
   "outputs": [],
   "source": [
    "import matplotlib.pyplot as plt"
   ]
  },
  {
   "cell_type": "code",
   "execution_count": 3,
   "metadata": {},
   "outputs": [],
   "source": [
    "x = np.array([0.        , 0.26315789, 0.52631579, 0.78947368, 1.05263158,\n",
    "              1.31578947, 1.57894737, 1.84210526, 2.10526316, 2.36842105,\n",
    "              2.63157895, 2.89473684, 3.15789474, 3.42105263, 3.68421053,\n",
    "              3.94736842, 4.21052632, 4.47368421, 4.73684211, 5.        ])"
   ]
  },
  {
   "cell_type": "code",
   "execution_count": 4,
   "metadata": {},
   "outputs": [],
   "source": [
    "fx = np.array([  0.        , -12.01819092, -18.90968634, -17.68786571,\n",
    "                -8.7529108 ,   4.27524517,  16.06801336,  21.81250213,\n",
    "                19.22059845,   9.48411207,  -3.22273056, -13.48576488,\n",
    "               -16.91096359, -11.95866834,  -0.58630088,  12.56873816,\n",
    "                22.12489421,  24.20292139,  18.04522521,   6.33211092])"
   ]
  },
  {
   "cell_type": "code",
   "execution_count": 8,
   "metadata": {},
   "outputs": [],
   "source": [
    "def f(x, a, b):\n",
    "    return np.e**a * np.sin(b*x) + x\n",
    "\n",
    "def error(params):\n",
    "    return np.sum(np.abs(fx - f(x, params[0], params[1])))"
   ]
  },
  {
   "cell_type": "code",
   "execution_count": 9,
   "metadata": {},
   "outputs": [],
   "source": [
    "res = minimize(error,  (-1,0),  method='COBYLA')"
   ]
  },
  {
   "cell_type": "code",
   "execution_count": 30,
   "metadata": {},
   "outputs": [
    {
     "name": "stdout",
     "output_type": "stream",
     "text": [
      "a =  3.0 ; b =  -2.5\n"
     ]
    }
   ],
   "source": [
    "A = res.x[0]\n",
    "B = res.x[1]\n",
    "print('a = ', round(A, 1),'; b = ', round(B,1))"
   ]
  },
  {
   "cell_type": "code",
   "execution_count": 36,
   "metadata": {},
   "outputs": [
    {
     "name": "stdout",
     "output_type": "stream",
     "text": [
      "0.004152856241305125\n"
     ]
    }
   ],
   "source": [
    "error_ = []\n",
    "for i in range(len(x)):\n",
    "    error_.append(abs(fx[i] - f(x[i], A, B)))\n",
    "print(np.mean(error_))\n",
    "    "
   ]
  },
  {
   "cell_type": "code",
   "execution_count": 45,
   "metadata": {},
   "outputs": [],
   "source": [
    "def g(x):\n",
    "    return np.e**3 * np.sin(-2.5*x) + x"
   ]
  },
  {
   "cell_type": "code",
   "execution_count": 46,
   "metadata": {},
   "outputs": [
    {
     "data": {
      "image/png": "[encoded data removed]",
      "text/plain": [
       "<Figure size 432x288 with 1 Axes>"
      ]
     },
     "metadata": {
      "needs_background": "light"
     },
     "output_type": "display_data"
    }
   ],
   "source": [
    "plt.plot(x, fx)\n",
    "plt.plot(x, g(x))\n",
    "plt.show()"
   ]
  },
  {
   "cell_type": "code",
   "execution_count": null,
   "metadata": {},
   "outputs": [],
   "source": []
  },
  {
   "cell_type": "markdown",
   "metadata": {},
   "source": [
    "** Задание 4 **"
   ]
  },
  {
   "cell_type": "code",
   "execution_count": 112,
   "metadata": {},
   "outputs": [],
   "source": [
    "import random\n",
    "import pandas as pd"
   ]
  },
  {
   "cell_type": "code",
   "execution_count": 122,
   "metadata": {},
   "outputs": [
    {
     "data": {
      "text/plain": [
       "<matplotlib.axes._subplots.AxesSubplot at 0xd20b7c8>"
      ]
     },
     "execution_count": 122,
     "metadata": {},
     "output_type": "execute_result"
    },
    {
     "data": {
      "image/png": "[encoded data removed]",
      "text/plain": [
       "<Figure size 432x288 with 1 Axes>"
      ]
     },
     "metadata": {
      "needs_background": "light"
     },
     "output_type": "display_data"
    }
   ],
   "source": [
    "RES = []\n",
    "for _ in range (1000):\n",
    "    res = []\n",
    "    for _ in range(50):\n",
    "        res.append(random.randint(6, 25))\n",
    "    RES.append(np.mean(res))\n",
    "#print(RES)\n",
    "df = pd.DataFrame({'mean': RES})\n",
    "df['mean'].hist() "
   ]
  },
  {
   "cell_type": "code",
   "execution_count": null,
   "metadata": {},
   "outputs": [],
   "source": []
  },
  {
   "cell_type": "markdown",
   "metadata": {},
   "source": [
    "** Задание 5 **"
   ]
  },
  {
   "cell_type": "code",
   "execution_count": 3,
   "metadata": {},
   "outputs": [],
   "source": [
    "A = np.array([[1, 4],\n",
    "             [1, 1]\n",
    "             ])"
   ]
  },
  {
   "cell_type": "code",
   "execution_count": 4,
   "metadata": {},
   "outputs": [],
   "source": [
    "B = np.linalg.eig(A)"
   ]
  },
  {
   "cell_type": "code",
   "execution_count": 5,
   "metadata": {},
   "outputs": [
    {
     "name": "stdout",
     "output_type": "stream",
     "text": [
      "(array([ 3., -1.]), array([[ 0.89442719, -0.89442719],\n",
      "       [ 0.4472136 ,  0.4472136 ]]))\n"
     ]
    }
   ],
   "source": [
    "print(B)"
   ]
  },
  {
   "cell_type": "markdown",
   "metadata": {},
   "source": [
    "|(1-λ&4@1&1-λ)|=0 => (1- λ)^2 – 4 =0 => λ^2 - 2 λ – 3 =0\n",
    "λ1=3 λ2= -1\n"
   ]
  },
  {
   "cell_type": "code",
   "execution_count": null,
   "metadata": {},
   "outputs": [],
   "source": [
    "λ1=3\n",
    "|(1-3&4@1&1-3)|  => {(-2x+4y=0@x-2y=0)┤ => x = 2y => (2¦1)"
   ]
  },
  {
   "cell_type": "code",
   "execution_count": null,
   "metadata": {},
   "outputs": [],
   "source": [
    "λ2= -1\n",
    "|(1+1&4@1&1+1)|  => {(2x+4y=0@x+2y=0)┤ => x = -2y => (2¦(-1))\n"
   ]
  }
 ],
 "metadata": {
  "kernelspec": {
   "display_name": "Python 3",
   "language": "python",
   "name": "python3"
  },
  "language_info": {
   "codemirror_mode": {
    "name": "ipython",
    "version": 3
   },
   "file_extension": ".py",
   "mimetype": "text/x-python",
   "name": "python",
   "nbconvert_exporter": "python",
   "pygments_lexer": "ipython3",
   "version": "3.7.6"
  }
 },
 "nbformat": 4,
 "nbformat_minor": 4
}
