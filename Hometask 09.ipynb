{
 "cells": [
  {
   "cell_type": "code",
   "execution_count": 1,
   "metadata": {},
   "outputs": [],
   "source": [
    "import pandas as pd\n",
    "import numpy as np\n",
    "\n",
    "from sklearn.preprocessing import OneHotEncoder\n",
    "from sklearn.preprocessing import LabelEncoder\n",
    "\n",
    "from sklearn.model_selection import train_test_split\n",
    "from sklearn.ensemble import RandomForestClassifier\n",
    "\n",
    "from sklearn.metrics import classification_report\n",
    "from sklearn.metrics import confusion_matrix"
   ]
  },
  {
   "cell_type": "code",
   "execution_count": 2,
   "metadata": {},
   "outputs": [],
   "source": [
    "data = pd.read_csv('aac_shelter_outcomes.csv')"
   ]
  },
  {
   "cell_type": "code",
   "execution_count": null,
   "metadata": {},
   "outputs": [],
   "source": [
    "data.head()"
   ]
  },
  {
   "cell_type": "markdown",
   "metadata": {},
   "source": [
    "Обработаем 3 столбца с данными о дате, выделив из них год, месяц и день"
   ]
  },
  {
   "cell_type": "code",
   "execution_count": 3,
   "metadata": {},
   "outputs": [],
   "source": [
    "data_date_of_birth = data['date_of_birth'].str.extract(r'(\\d{4})-(\\d{2})-(\\d{2})').astype(int)\n",
    "data_datetime = data['datetime'].str.extract(r'(\\d{4})-(\\d{2})-(\\d{2})').astype(int)\n",
    "data_monthyear = data['monthyear'].str.extract(r'(\\d{4})-(\\d{2})-(\\d{2})').astype(int)"
   ]
  },
  {
   "cell_type": "markdown",
   "metadata": {},
   "source": [
    "Есть подозрение, что datetime и monthyear заполнены одинаковыми данными. Проверим это"
   ]
  },
  {
   "cell_type": "code",
   "execution_count": 4,
   "metadata": {},
   "outputs": [
    {
     "data": {
      "text/plain": [
       "0    0\n",
       "1    0\n",
       "2    0\n",
       "dtype: int64"
      ]
     },
     "execution_count": 4,
     "metadata": {},
     "output_type": "execute_result"
    }
   ],
   "source": [
    "(data_datetime - data_monthyear).sum()"
   ]
  },
  {
   "cell_type": "markdown",
   "metadata": {},
   "source": [
    "Значит один из столбцов, например, monthyear, можно будет удалить"
   ]
  },
  {
   "cell_type": "code",
   "execution_count": 5,
   "metadata": {},
   "outputs": [],
   "source": [
    "data_date_of_birth.columns = ['Year_of_birth', 'Month_of_birth', 'Day_of_birth']\n",
    "data_datetime.columns = ['Year_of_outc', 'Month_of_outc', 'Day_of_outc']\n",
    "result_data_date = pd.concat([data_date_of_birth, data_datetime], axis=1)"
   ]
  },
  {
   "cell_type": "markdown",
   "metadata": {},
   "source": [
    "для каждой строки определим возвраст в неделях"
   ]
  },
  {
   "cell_type": "code",
   "execution_count": 6,
   "metadata": {},
   "outputs": [],
   "source": [
    "data['age_in_weeks'] = (result_data_date.Year_of_outc * 52 + result_data_date.Month_of_outc * 4 + result_data_date.Day_of_outc // 7) - (result_data_date.Year_of_birth * 52 + result_data_date.Month_of_birth * 4 + result_data_date.Day_of_birth // 7) "
   ]
  },
  {
   "cell_type": "markdown",
   "metadata": {},
   "source": [
    "Удалим столбцы, которые уже использовали и которые нам не нужны"
   ]
  },
  {
   "cell_type": "code",
   "execution_count": 7,
   "metadata": {},
   "outputs": [],
   "source": [
    "data.drop(['age_upon_outcome', 'date_of_birth', 'animal_id',\n",
    "          'datetime', 'monthyear'], axis=1, inplace=True)"
   ]
  },
  {
   "cell_type": "markdown",
   "metadata": {},
   "source": [
    "Отработаем данные Имени питомца"
   ]
  },
  {
   "cell_type": "code",
   "execution_count": 8,
   "metadata": {},
   "outputs": [],
   "source": [
    "#Заполним NaN значением None \n",
    "data.name.fillna('None', inplace = True)\n",
    "#Закодируем наличие  имени через 1 и отсутствие имени через 0\n",
    "data['name_is_present'] = np.where(data.name == 'None', 0, 1)\n",
    "del data['name']"
   ]
  },
  {
   "cell_type": "markdown",
   "metadata": {},
   "source": [
    "Закодируем animal_type через OneHotEncoder"
   ]
  },
  {
   "cell_type": "code",
   "execution_count": 9,
   "metadata": {},
   "outputs": [],
   "source": [
    "ohe = OneHotEncoder()\n",
    "\n",
    "ohe_at = ohe.fit_transform(data[['animal_type']]).toarray()\n",
    "a_type = pd.DataFrame(ohe_at, index=data[['animal_type']].index, columns=[str('atype_') + str(x) for x in ohe.categories_[0]])"
   ]
  },
  {
   "cell_type": "code",
   "execution_count": 10,
   "metadata": {},
   "outputs": [],
   "source": [
    "data = pd.concat([data, a_type], axis=1)\n",
    "del data['animal_type']"
   ]
  },
  {
   "cell_type": "markdown",
   "metadata": {},
   "source": [
    "Заполним NaN sex_upon_outcome через Моду"
   ]
  },
  {
   "cell_type": "code",
   "execution_count": 11,
   "metadata": {},
   "outputs": [
    {
     "data": {
      "text/plain": [
       "array(['Intact Male', 'Spayed Female', 'Neutered Male', 'Unknown',\n",
       "       'Intact Female', nan], dtype=object)"
      ]
     },
     "execution_count": 11,
     "metadata": {},
     "output_type": "execute_result"
    }
   ],
   "source": [
    "data.sex_upon_outcome.unique()"
   ]
  },
  {
   "cell_type": "code",
   "execution_count": 12,
   "metadata": {},
   "outputs": [],
   "source": [
    "data.sex_upon_outcome.fillna(data.sex_upon_outcome.mode()[0], inplace = True)"
   ]
  },
  {
   "cell_type": "markdown",
   "metadata": {},
   "source": [
    "Закодируем sex_upon_outcome через OneHotEncoder"
   ]
  },
  {
   "cell_type": "code",
   "execution_count": 13,
   "metadata": {},
   "outputs": [],
   "source": [
    "ohe_sex = ohe.fit_transform(data[['sex_upon_outcome']]).toarray()\n",
    "sex_type = pd.DataFrame(ohe_sex, index=data[['sex_upon_outcome']].index, columns=[str('sex_type_') + str(x) for x in ohe.categories_[0]])"
   ]
  },
  {
   "cell_type": "code",
   "execution_count": 14,
   "metadata": {},
   "outputs": [],
   "source": [
    "data = pd.concat([data, sex_type], axis=1)\n",
    "del data['sex_upon_outcome']"
   ]
  },
  {
   "cell_type": "markdown",
   "metadata": {},
   "source": [
    "Отработаем цвет"
   ]
  },
  {
   "cell_type": "markdown",
   "metadata": {},
   "source": [
    "Посмотрим количество уникальных значений"
   ]
  },
  {
   "cell_type": "code",
   "execution_count": 15,
   "metadata": {},
   "outputs": [
    {
     "data": {
      "text/plain": [
       "525"
      ]
     },
     "execution_count": 15,
     "metadata": {},
     "output_type": "execute_result"
    }
   ],
   "source": [
    "data.color.nunique()"
   ]
  },
  {
   "cell_type": "markdown",
   "metadata": {},
   "source": [
    "Попробуем уменьшить количество варинатов для OneHotEncode путем выделения основного и вторичного цветов, а таже выделения признака \"полосатости\" питомца"
   ]
  },
  {
   "cell_type": "code",
   "execution_count": 16,
   "metadata": {},
   "outputs": [],
   "source": [
    "#Выделим основной цвет, наличие полосатости и вторичный цвет\n",
    "colors = data['color'].str.extract(r'(\\w*)[ ]?(\\w*)[/]?(\\w*)')\n",
    "colors = colors.rename(columns = {colors.columns[0] : 'Main', colors.columns[1] : 'Tabby', colors.columns[2] : 'Second'})\n",
    "#При отсутствии вторичного цвета поставим None\n",
    "colors['Second'] = np.where(colors['Second'] == '', 'None', colors['Second'])\n",
    "#Закодируем наличие полосатости через 1\n",
    "colors['Tabby'] = np.where(colors['Tabby'] == '', 0, 1)\n",
    "#Закодируем первичный цвет через OneHotEncoder\n",
    "ohe_main = ohe.fit_transform(colors[['Main']]).toarray()\n",
    "main_out = pd.DataFrame(ohe_main, index=colors[['Main']].index, columns=[str('Mcolor_') + str(x) for x in ohe.categories_[0]])\n",
    "#Закодируем вторичный цвет через OneHotEncoder\n",
    "ohe_second = ohe.fit_transform(colors[['Second']]).toarray()\n",
    "second_out = pd.DataFrame(ohe_second, index=colors[['Second']].index, columns=[str('Scolor_') + str(x) for x in ohe.categories_[0]])\n",
    "#объединим все в один датафрейм и удалим лишниые столбцы\n",
    "colors_full = pd.concat([colors, main_out, second_out], axis=1)\n",
    "del colors_full['Main']\n",
    "del colors_full['Second']"
   ]
  },
  {
   "cell_type": "markdown",
   "metadata": {},
   "source": [
    "размерность матрицы, кодирующей цвет, значительно снизилась"
   ]
  },
  {
   "cell_type": "code",
   "execution_count": 17,
   "metadata": {},
   "outputs": [
    {
     "data": {
      "text/plain": [
       "(78256, 59)"
      ]
     },
     "execution_count": 17,
     "metadata": {},
     "output_type": "execute_result"
    }
   ],
   "source": [
    "colors_full.shape"
   ]
  },
  {
   "cell_type": "markdown",
   "metadata": {},
   "source": [
    "Добавим данные о цвете в общий датасет"
   ]
  },
  {
   "cell_type": "code",
   "execution_count": 18,
   "metadata": {},
   "outputs": [],
   "source": [
    "data = pd.concat([data, colors_full], axis=1)\n",
    "del data['color']"
   ]
  },
  {
   "cell_type": "markdown",
   "metadata": {},
   "source": [
    "Отработаем породу.\n",
    "Попробуем уменьшить количество варинатов для OneHotEncode путем \n",
    "выделения факта смешенной породы и пород, участвующих в смешении"
   ]
  },
  {
   "cell_type": "markdown",
   "metadata": {},
   "source": [
    "Сначала выделим признак Mix и смешения пророды через указание  \"/\""
   ]
  },
  {
   "cell_type": "code",
   "execution_count": 19,
   "metadata": {},
   "outputs": [],
   "source": [
    "data['breed_mix2'] = np.where(data.breed.str.contains('/'), 1, 0)\n",
    "data['breed_mix3'] = np.where(data.breed.str.contains('Mix'), 1, 0)\n",
    "data['breed_mix'] = np.abs(data['breed_mix2'] - data['breed_mix3'])\n",
    "data.drop(['breed_mix2', 'breed_mix3'], axis=1, inplace=True)"
   ]
  },
  {
   "cell_type": "code",
   "execution_count": 20,
   "metadata": {},
   "outputs": [],
   "source": [
    "data['breed1'] = data.breed.str.replace(' Mix', '')"
   ]
  },
  {
   "cell_type": "markdown",
   "metadata": {},
   "source": [
    "Выделим основную  и вторичную породу"
   ]
  },
  {
   "cell_type": "code",
   "execution_count": 21,
   "metadata": {},
   "outputs": [],
   "source": [
    "breeds  = data['breed1'].str.extract(r'(\\w*[ ]?\\w*[ ]?\\w*)[/]?(\\w*[ ]?\\w*)')\n",
    "breeds = breeds.rename(columns = {breeds.columns[0] : 'Main', breeds.columns[1] : 'Second'})\n",
    "breeds['Second'] = np.where(breeds['Second'] == '', 'None', breeds['Second'])"
   ]
  },
  {
   "cell_type": "markdown",
   "metadata": {},
   "source": [
    "Закодируем обе породы через OneHotEncoder"
   ]
  },
  {
   "cell_type": "code",
   "execution_count": 22,
   "metadata": {},
   "outputs": [],
   "source": [
    "ohe_mbreed = ohe.fit_transform(breeds[['Main']]).toarray()\n",
    "mbreed = pd.DataFrame(ohe_mbreed, index=breeds[['Main']].index, columns=[str('Mbreed_') + str(x) for x in ohe.categories_[0]])\n",
    "\n",
    "ohe_sbreed = ohe.fit_transform(breeds[['Second']]).toarray()\n",
    "sbreed = pd.DataFrame(ohe_sbreed, index=breeds[['Second']].index, columns=[str('Sbreed_') + str(x) for x in ohe.categories_[0]])"
   ]
  },
  {
   "cell_type": "markdown",
   "metadata": {},
   "source": [
    "Добавим данные о породах в общий датасет"
   ]
  },
  {
   "cell_type": "code",
   "execution_count": 23,
   "metadata": {},
   "outputs": [],
   "source": [
    "data = pd.concat([data, mbreed, sbreed], axis=1)"
   ]
  },
  {
   "cell_type": "markdown",
   "metadata": {},
   "source": [
    "Удалим столбцы, данные которых уже отработаны и больше не требуются"
   ]
  },
  {
   "cell_type": "code",
   "execution_count": 24,
   "metadata": {},
   "outputs": [],
   "source": [
    "data.drop(['breed', 'breed1'], axis=1, inplace=True)"
   ]
  },
  {
   "cell_type": "markdown",
   "metadata": {},
   "source": [
    "Отработаем outcome_subtype"
   ]
  },
  {
   "cell_type": "code",
   "execution_count": 25,
   "metadata": {},
   "outputs": [
    {
     "data": {
      "text/plain": [
       "0.540444183193621"
      ]
     },
     "execution_count": 25,
     "metadata": {},
     "output_type": "execute_result"
    }
   ],
   "source": [
    "data.outcome_subtype.isna().sum() / len(data)"
   ]
  },
  {
   "cell_type": "markdown",
   "metadata": {},
   "source": [
    "более половины данных по этому столбцу отсутствует, данных для заполнения нет."
   ]
  },
  {
   "cell_type": "markdown",
   "metadata": {},
   "source": [
    "Рассмотрим распредление outcome_subtype по outcome_type"
   ]
  },
  {
   "cell_type": "code",
   "execution_count": 26,
   "metadata": {},
   "outputs": [
    {
     "data": {
      "text/plain": [
       "outcome_type  outcome_subtype    \n",
       "Adoption      Foster                  5558\n",
       "              Offsite                  367\n",
       "              Barn                       1\n",
       "Died          In Kennel                335\n",
       "              In Foster                164\n",
       "              Enroute                   45\n",
       "              At Vet                    33\n",
       "              In Surgery                16\n",
       "Euthanasia    Suffering               2514\n",
       "              Rabies Risk             2417\n",
       "              Aggressive               506\n",
       "              Medical                  259\n",
       "              Behavior                 142\n",
       "              Underage                  28\n",
       "              At Vet                    26\n",
       "              Court/Investigation       18\n",
       "Missing       In Foster                 18\n",
       "              Possible Theft             9\n",
       "              In Kennel                  8\n",
       "Transfer      Partner                19660\n",
       "              SCRP                    3211\n",
       "              Snr                      626\n",
       "              Barn                       2\n",
       "Name: outcome_subtype, dtype: int64"
      ]
     },
     "execution_count": 26,
     "metadata": {},
     "output_type": "execute_result"
    }
   ],
   "source": [
    "data.groupby('outcome_type').outcome_subtype.value_counts()"
   ]
  },
  {
   "cell_type": "code",
   "execution_count": 27,
   "metadata": {},
   "outputs": [
    {
     "data": {
      "text/plain": [
       "Adoption           33112\n",
       "Transfer           23499\n",
       "Return to Owner    14354\n",
       "Euthanasia          6080\n",
       "Died                 680\n",
       "Disposal             307\n",
       "Rto-Adopt            150\n",
       "Missing               46\n",
       "Relocate              16\n",
       "Name: outcome_type, dtype: int64"
      ]
     },
     "execution_count": 27,
     "metadata": {},
     "output_type": "execute_result"
    }
   ],
   "source": [
    "data.outcome_type.value_counts()"
   ]
  },
  {
   "cell_type": "markdown",
   "metadata": {},
   "source": [
    "Большинство отсутствующих данных в outcome_subtype относятся к интереующему нас классу Adoption в outcome_type\n",
    "Из 33К присутствует менее 6К данных\n",
    "Поэтому есть предлодение удалить этот столбец и не использовать его при обучении модели."
   ]
  },
  {
   "cell_type": "code",
   "execution_count": 28,
   "metadata": {},
   "outputs": [],
   "source": [
    "del data['outcome_subtype']"
   ]
  },
  {
   "cell_type": "code",
   "execution_count": 29,
   "metadata": {},
   "outputs": [
    {
     "data": {
      "text/plain": [
       "(78256, 583)"
      ]
     },
     "execution_count": 29,
     "metadata": {},
     "output_type": "execute_result"
    }
   ],
   "source": [
    "data.shape"
   ]
  },
  {
   "cell_type": "markdown",
   "metadata": {},
   "source": [
    "Обработаем пропуски в целевой переменной. Их 12. В \"масштабах\" общего количества строк эти строки можно удалить"
   ]
  },
  {
   "cell_type": "code",
   "execution_count": 30,
   "metadata": {},
   "outputs": [
    {
     "data": {
      "text/html": [
       "<div>\n",
       "<style scoped>\n",
       "    .dataframe tbody tr th:only-of-type {\n",
       "        vertical-align: middle;\n",
       "    }\n",
       "\n",
       "    .dataframe tbody tr th {\n",
       "        vertical-align: top;\n",
       "    }\n",
       "\n",
       "    .dataframe thead th {\n",
       "        text-align: right;\n",
       "    }\n",
       "</style>\n",
       "<table border=\"1\" class=\"dataframe\">\n",
       "  <thead>\n",
       "    <tr style=\"text-align: right;\">\n",
       "      <th></th>\n",
       "      <th>outcome_type</th>\n",
       "      <th>age_in_weeks</th>\n",
       "      <th>name_is_present</th>\n",
       "      <th>atype_Bird</th>\n",
       "      <th>atype_Cat</th>\n",
       "      <th>atype_Dog</th>\n",
       "      <th>atype_Livestock</th>\n",
       "      <th>atype_Other</th>\n",
       "      <th>sex_type_Intact Female</th>\n",
       "      <th>sex_type_Intact Male</th>\n",
       "      <th>...</th>\n",
       "      <th>Sbreed_Treeing Walker</th>\n",
       "      <th>Sbreed_Unknown</th>\n",
       "      <th>Sbreed_Vizsla</th>\n",
       "      <th>Sbreed_Weimaraner</th>\n",
       "      <th>Sbreed_Welsh Terrier</th>\n",
       "      <th>Sbreed_West Highland</th>\n",
       "      <th>Sbreed_Whippet</th>\n",
       "      <th>Sbreed_Wire Hair</th>\n",
       "      <th>Sbreed_Yorkshire</th>\n",
       "      <th>Sbreed_Yorkshire Terrier</th>\n",
       "    </tr>\n",
       "  </thead>\n",
       "  <tbody>\n",
       "    <tr>\n",
       "      <th>10753</th>\n",
       "      <td>NaN</td>\n",
       "      <td>52</td>\n",
       "      <td>0</td>\n",
       "      <td>0.0</td>\n",
       "      <td>0.0</td>\n",
       "      <td>0.0</td>\n",
       "      <td>0.0</td>\n",
       "      <td>1.0</td>\n",
       "      <td>0.0</td>\n",
       "      <td>0.0</td>\n",
       "      <td>...</td>\n",
       "      <td>0.0</td>\n",
       "      <td>0.0</td>\n",
       "      <td>0.0</td>\n",
       "      <td>0.0</td>\n",
       "      <td>0.0</td>\n",
       "      <td>0.0</td>\n",
       "      <td>0.0</td>\n",
       "      <td>0.0</td>\n",
       "      <td>0.0</td>\n",
       "      <td>0.0</td>\n",
       "    </tr>\n",
       "    <tr>\n",
       "      <th>13270</th>\n",
       "      <td>NaN</td>\n",
       "      <td>0</td>\n",
       "      <td>0</td>\n",
       "      <td>0.0</td>\n",
       "      <td>0.0</td>\n",
       "      <td>0.0</td>\n",
       "      <td>0.0</td>\n",
       "      <td>1.0</td>\n",
       "      <td>0.0</td>\n",
       "      <td>0.0</td>\n",
       "      <td>...</td>\n",
       "      <td>0.0</td>\n",
       "      <td>0.0</td>\n",
       "      <td>0.0</td>\n",
       "      <td>0.0</td>\n",
       "      <td>0.0</td>\n",
       "      <td>0.0</td>\n",
       "      <td>0.0</td>\n",
       "      <td>0.0</td>\n",
       "      <td>0.0</td>\n",
       "      <td>0.0</td>\n",
       "    </tr>\n",
       "    <tr>\n",
       "      <th>13302</th>\n",
       "      <td>NaN</td>\n",
       "      <td>4</td>\n",
       "      <td>0</td>\n",
       "      <td>0.0</td>\n",
       "      <td>0.0</td>\n",
       "      <td>0.0</td>\n",
       "      <td>0.0</td>\n",
       "      <td>1.0</td>\n",
       "      <td>0.0</td>\n",
       "      <td>0.0</td>\n",
       "      <td>...</td>\n",
       "      <td>0.0</td>\n",
       "      <td>0.0</td>\n",
       "      <td>0.0</td>\n",
       "      <td>0.0</td>\n",
       "      <td>0.0</td>\n",
       "      <td>0.0</td>\n",
       "      <td>0.0</td>\n",
       "      <td>0.0</td>\n",
       "      <td>0.0</td>\n",
       "      <td>0.0</td>\n",
       "    </tr>\n",
       "    <tr>\n",
       "      <th>16951</th>\n",
       "      <td>NaN</td>\n",
       "      <td>52</td>\n",
       "      <td>0</td>\n",
       "      <td>0.0</td>\n",
       "      <td>0.0</td>\n",
       "      <td>0.0</td>\n",
       "      <td>0.0</td>\n",
       "      <td>1.0</td>\n",
       "      <td>0.0</td>\n",
       "      <td>0.0</td>\n",
       "      <td>...</td>\n",
       "      <td>0.0</td>\n",
       "      <td>0.0</td>\n",
       "      <td>0.0</td>\n",
       "      <td>0.0</td>\n",
       "      <td>0.0</td>\n",
       "      <td>0.0</td>\n",
       "      <td>0.0</td>\n",
       "      <td>0.0</td>\n",
       "      <td>0.0</td>\n",
       "      <td>0.0</td>\n",
       "    </tr>\n",
       "    <tr>\n",
       "      <th>29214</th>\n",
       "      <td>NaN</td>\n",
       "      <td>52</td>\n",
       "      <td>0</td>\n",
       "      <td>0.0</td>\n",
       "      <td>0.0</td>\n",
       "      <td>0.0</td>\n",
       "      <td>0.0</td>\n",
       "      <td>1.0</td>\n",
       "      <td>0.0</td>\n",
       "      <td>0.0</td>\n",
       "      <td>...</td>\n",
       "      <td>0.0</td>\n",
       "      <td>0.0</td>\n",
       "      <td>0.0</td>\n",
       "      <td>0.0</td>\n",
       "      <td>0.0</td>\n",
       "      <td>0.0</td>\n",
       "      <td>0.0</td>\n",
       "      <td>0.0</td>\n",
       "      <td>0.0</td>\n",
       "      <td>0.0</td>\n",
       "    </tr>\n",
       "    <tr>\n",
       "      <th>64626</th>\n",
       "      <td>NaN</td>\n",
       "      <td>7</td>\n",
       "      <td>1</td>\n",
       "      <td>0.0</td>\n",
       "      <td>1.0</td>\n",
       "      <td>0.0</td>\n",
       "      <td>0.0</td>\n",
       "      <td>0.0</td>\n",
       "      <td>0.0</td>\n",
       "      <td>1.0</td>\n",
       "      <td>...</td>\n",
       "      <td>0.0</td>\n",
       "      <td>0.0</td>\n",
       "      <td>0.0</td>\n",
       "      <td>0.0</td>\n",
       "      <td>0.0</td>\n",
       "      <td>0.0</td>\n",
       "      <td>0.0</td>\n",
       "      <td>0.0</td>\n",
       "      <td>0.0</td>\n",
       "      <td>0.0</td>\n",
       "    </tr>\n",
       "    <tr>\n",
       "      <th>68246</th>\n",
       "      <td>NaN</td>\n",
       "      <td>158</td>\n",
       "      <td>1</td>\n",
       "      <td>0.0</td>\n",
       "      <td>0.0</td>\n",
       "      <td>1.0</td>\n",
       "      <td>0.0</td>\n",
       "      <td>0.0</td>\n",
       "      <td>0.0</td>\n",
       "      <td>0.0</td>\n",
       "      <td>...</td>\n",
       "      <td>0.0</td>\n",
       "      <td>0.0</td>\n",
       "      <td>0.0</td>\n",
       "      <td>0.0</td>\n",
       "      <td>0.0</td>\n",
       "      <td>0.0</td>\n",
       "      <td>0.0</td>\n",
       "      <td>0.0</td>\n",
       "      <td>0.0</td>\n",
       "      <td>0.0</td>\n",
       "    </tr>\n",
       "    <tr>\n",
       "      <th>69847</th>\n",
       "      <td>NaN</td>\n",
       "      <td>7</td>\n",
       "      <td>1</td>\n",
       "      <td>0.0</td>\n",
       "      <td>1.0</td>\n",
       "      <td>0.0</td>\n",
       "      <td>0.0</td>\n",
       "      <td>0.0</td>\n",
       "      <td>1.0</td>\n",
       "      <td>0.0</td>\n",
       "      <td>...</td>\n",
       "      <td>0.0</td>\n",
       "      <td>0.0</td>\n",
       "      <td>0.0</td>\n",
       "      <td>0.0</td>\n",
       "      <td>0.0</td>\n",
       "      <td>0.0</td>\n",
       "      <td>0.0</td>\n",
       "      <td>0.0</td>\n",
       "      <td>0.0</td>\n",
       "      <td>0.0</td>\n",
       "    </tr>\n",
       "    <tr>\n",
       "      <th>72037</th>\n",
       "      <td>NaN</td>\n",
       "      <td>7</td>\n",
       "      <td>1</td>\n",
       "      <td>0.0</td>\n",
       "      <td>1.0</td>\n",
       "      <td>0.0</td>\n",
       "      <td>0.0</td>\n",
       "      <td>0.0</td>\n",
       "      <td>1.0</td>\n",
       "      <td>0.0</td>\n",
       "      <td>...</td>\n",
       "      <td>0.0</td>\n",
       "      <td>0.0</td>\n",
       "      <td>0.0</td>\n",
       "      <td>0.0</td>\n",
       "      <td>0.0</td>\n",
       "      <td>0.0</td>\n",
       "      <td>0.0</td>\n",
       "      <td>0.0</td>\n",
       "      <td>0.0</td>\n",
       "      <td>0.0</td>\n",
       "    </tr>\n",
       "    <tr>\n",
       "      <th>76709</th>\n",
       "      <td>NaN</td>\n",
       "      <td>537</td>\n",
       "      <td>1</td>\n",
       "      <td>0.0</td>\n",
       "      <td>0.0</td>\n",
       "      <td>1.0</td>\n",
       "      <td>0.0</td>\n",
       "      <td>0.0</td>\n",
       "      <td>0.0</td>\n",
       "      <td>0.0</td>\n",
       "      <td>...</td>\n",
       "      <td>0.0</td>\n",
       "      <td>0.0</td>\n",
       "      <td>0.0</td>\n",
       "      <td>0.0</td>\n",
       "      <td>0.0</td>\n",
       "      <td>0.0</td>\n",
       "      <td>0.0</td>\n",
       "      <td>0.0</td>\n",
       "      <td>0.0</td>\n",
       "      <td>0.0</td>\n",
       "    </tr>\n",
       "    <tr>\n",
       "      <th>76710</th>\n",
       "      <td>NaN</td>\n",
       "      <td>41</td>\n",
       "      <td>1</td>\n",
       "      <td>0.0</td>\n",
       "      <td>0.0</td>\n",
       "      <td>1.0</td>\n",
       "      <td>0.0</td>\n",
       "      <td>0.0</td>\n",
       "      <td>0.0</td>\n",
       "      <td>1.0</td>\n",
       "      <td>...</td>\n",
       "      <td>0.0</td>\n",
       "      <td>0.0</td>\n",
       "      <td>0.0</td>\n",
       "      <td>0.0</td>\n",
       "      <td>0.0</td>\n",
       "      <td>0.0</td>\n",
       "      <td>0.0</td>\n",
       "      <td>0.0</td>\n",
       "      <td>0.0</td>\n",
       "      <td>0.0</td>\n",
       "    </tr>\n",
       "    <tr>\n",
       "      <th>76825</th>\n",
       "      <td>NaN</td>\n",
       "      <td>53</td>\n",
       "      <td>1</td>\n",
       "      <td>0.0</td>\n",
       "      <td>0.0</td>\n",
       "      <td>1.0</td>\n",
       "      <td>0.0</td>\n",
       "      <td>0.0</td>\n",
       "      <td>1.0</td>\n",
       "      <td>0.0</td>\n",
       "      <td>...</td>\n",
       "      <td>0.0</td>\n",
       "      <td>0.0</td>\n",
       "      <td>0.0</td>\n",
       "      <td>0.0</td>\n",
       "      <td>0.0</td>\n",
       "      <td>0.0</td>\n",
       "      <td>0.0</td>\n",
       "      <td>0.0</td>\n",
       "      <td>0.0</td>\n",
       "      <td>0.0</td>\n",
       "    </tr>\n",
       "  </tbody>\n",
       "</table>\n",
       "<p>12 rows × 583 columns</p>\n",
       "</div>"
      ],
      "text/plain": [
       "      outcome_type  age_in_weeks  name_is_present  atype_Bird  atype_Cat  \\\n",
       "10753          NaN            52                0         0.0        0.0   \n",
       "13270          NaN             0                0         0.0        0.0   \n",
       "13302          NaN             4                0         0.0        0.0   \n",
       "16951          NaN            52                0         0.0        0.0   \n",
       "29214          NaN            52                0         0.0        0.0   \n",
       "64626          NaN             7                1         0.0        1.0   \n",
       "68246          NaN           158                1         0.0        0.0   \n",
       "69847          NaN             7                1         0.0        1.0   \n",
       "72037          NaN             7                1         0.0        1.0   \n",
       "76709          NaN           537                1         0.0        0.0   \n",
       "76710          NaN            41                1         0.0        0.0   \n",
       "76825          NaN            53                1         0.0        0.0   \n",
       "\n",
       "       atype_Dog  atype_Livestock  atype_Other  sex_type_Intact Female  \\\n",
       "10753        0.0              0.0          1.0                     0.0   \n",
       "13270        0.0              0.0          1.0                     0.0   \n",
       "13302        0.0              0.0          1.0                     0.0   \n",
       "16951        0.0              0.0          1.0                     0.0   \n",
       "29214        0.0              0.0          1.0                     0.0   \n",
       "64626        0.0              0.0          0.0                     0.0   \n",
       "68246        1.0              0.0          0.0                     0.0   \n",
       "69847        0.0              0.0          0.0                     1.0   \n",
       "72037        0.0              0.0          0.0                     1.0   \n",
       "76709        1.0              0.0          0.0                     0.0   \n",
       "76710        1.0              0.0          0.0                     0.0   \n",
       "76825        1.0              0.0          0.0                     1.0   \n",
       "\n",
       "       sex_type_Intact Male  ...  Sbreed_Treeing Walker  Sbreed_Unknown  \\\n",
       "10753                   0.0  ...                    0.0             0.0   \n",
       "13270                   0.0  ...                    0.0             0.0   \n",
       "13302                   0.0  ...                    0.0             0.0   \n",
       "16951                   0.0  ...                    0.0             0.0   \n",
       "29214                   0.0  ...                    0.0             0.0   \n",
       "64626                   1.0  ...                    0.0             0.0   \n",
       "68246                   0.0  ...                    0.0             0.0   \n",
       "69847                   0.0  ...                    0.0             0.0   \n",
       "72037                   0.0  ...                    0.0             0.0   \n",
       "76709                   0.0  ...                    0.0             0.0   \n",
       "76710                   1.0  ...                    0.0             0.0   \n",
       "76825                   0.0  ...                    0.0             0.0   \n",
       "\n",
       "       Sbreed_Vizsla  Sbreed_Weimaraner  Sbreed_Welsh Terrier  \\\n",
       "10753            0.0                0.0                   0.0   \n",
       "13270            0.0                0.0                   0.0   \n",
       "13302            0.0                0.0                   0.0   \n",
       "16951            0.0                0.0                   0.0   \n",
       "29214            0.0                0.0                   0.0   \n",
       "64626            0.0                0.0                   0.0   \n",
       "68246            0.0                0.0                   0.0   \n",
       "69847            0.0                0.0                   0.0   \n",
       "72037            0.0                0.0                   0.0   \n",
       "76709            0.0                0.0                   0.0   \n",
       "76710            0.0                0.0                   0.0   \n",
       "76825            0.0                0.0                   0.0   \n",
       "\n",
       "       Sbreed_West Highland  Sbreed_Whippet  Sbreed_Wire Hair  \\\n",
       "10753                   0.0             0.0               0.0   \n",
       "13270                   0.0             0.0               0.0   \n",
       "13302                   0.0             0.0               0.0   \n",
       "16951                   0.0             0.0               0.0   \n",
       "29214                   0.0             0.0               0.0   \n",
       "64626                   0.0             0.0               0.0   \n",
       "68246                   0.0             0.0               0.0   \n",
       "69847                   0.0             0.0               0.0   \n",
       "72037                   0.0             0.0               0.0   \n",
       "76709                   0.0             0.0               0.0   \n",
       "76710                   0.0             0.0               0.0   \n",
       "76825                   0.0             0.0               0.0   \n",
       "\n",
       "       Sbreed_Yorkshire  Sbreed_Yorkshire Terrier  \n",
       "10753               0.0                       0.0  \n",
       "13270               0.0                       0.0  \n",
       "13302               0.0                       0.0  \n",
       "16951               0.0                       0.0  \n",
       "29214               0.0                       0.0  \n",
       "64626               0.0                       0.0  \n",
       "68246               0.0                       0.0  \n",
       "69847               0.0                       0.0  \n",
       "72037               0.0                       0.0  \n",
       "76709               0.0                       0.0  \n",
       "76710               0.0                       0.0  \n",
       "76825               0.0                       0.0  \n",
       "\n",
       "[12 rows x 583 columns]"
      ]
     },
     "execution_count": 30,
     "metadata": {},
     "output_type": "execute_result"
    }
   ],
   "source": [
    "data[(data.outcome_type.isnull())]"
   ]
  },
  {
   "cell_type": "code",
   "execution_count": 31,
   "metadata": {},
   "outputs": [],
   "source": [
    "data = data[~(data.outcome_type.isnull())]"
   ]
  },
  {
   "cell_type": "code",
   "execution_count": 32,
   "metadata": {},
   "outputs": [
    {
     "data": {
      "text/plain": [
       "(78244, 583)"
      ]
     },
     "execution_count": 32,
     "metadata": {},
     "output_type": "execute_result"
    }
   ],
   "source": [
    "data.shape"
   ]
  },
  {
   "cell_type": "code",
   "execution_count": 33,
   "metadata": {},
   "outputs": [
    {
     "data": {
      "text/plain": [
       "array(['Transfer', 'Adoption', 'Euthanasia', 'Return to Owner', 'Died',\n",
       "       'Disposal', 'Relocate', 'Missing', 'Rto-Adopt'], dtype=object)"
      ]
     },
     "execution_count": 33,
     "metadata": {},
     "output_type": "execute_result"
    }
   ],
   "source": [
    "data.outcome_type.unique()"
   ]
  },
  {
   "cell_type": "markdown",
   "metadata": {},
   "source": [
    "Закодиреуем искомую переменную"
   ]
  },
  {
   "cell_type": "code",
   "execution_count": 35,
   "metadata": {},
   "outputs": [],
   "source": [
    "data.outcome_type = data.outcome_type.map({'Adoption': 0,\n",
    "                                           'Transfer': 1,\n",
    "                                           'Return to Owner': 2,\n",
    "                                           'Euthanasia': 3,\n",
    "                                           'Died': 4,\n",
    "                                           'Disposal': 5,\n",
    "                                           'Rto-Adopt': 6,\n",
    "                                           'Missing': 7,\n",
    "                                           'Relocate': 8                                         \n",
    "                                          })"
   ]
  },
  {
   "cell_type": "code",
   "execution_count": null,
   "metadata": {},
   "outputs": [],
   "source": [
    "le = LabelEncoder()\n",
    "le.fit(data['outcome_type'])\n",
    "data['outcome_type'] = le.transform(data['outcome_type'])"
   ]
  },
  {
   "cell_type": "code",
   "execution_count": 36,
   "metadata": {},
   "outputs": [
    {
     "data": {
      "text/html": [
       "<div>\n",
       "<style scoped>\n",
       "    .dataframe tbody tr th:only-of-type {\n",
       "        vertical-align: middle;\n",
       "    }\n",
       "\n",
       "    .dataframe tbody tr th {\n",
       "        vertical-align: top;\n",
       "    }\n",
       "\n",
       "    .dataframe thead th {\n",
       "        text-align: right;\n",
       "    }\n",
       "</style>\n",
       "<table border=\"1\" class=\"dataframe\">\n",
       "  <thead>\n",
       "    <tr style=\"text-align: right;\">\n",
       "      <th></th>\n",
       "      <th>outcome_type</th>\n",
       "      <th>age_in_weeks</th>\n",
       "      <th>name_is_present</th>\n",
       "      <th>atype_Bird</th>\n",
       "      <th>atype_Cat</th>\n",
       "      <th>atype_Dog</th>\n",
       "      <th>atype_Livestock</th>\n",
       "      <th>atype_Other</th>\n",
       "      <th>sex_type_Intact Female</th>\n",
       "      <th>sex_type_Intact Male</th>\n",
       "      <th>...</th>\n",
       "      <th>Sbreed_Treeing Walker</th>\n",
       "      <th>Sbreed_Unknown</th>\n",
       "      <th>Sbreed_Vizsla</th>\n",
       "      <th>Sbreed_Weimaraner</th>\n",
       "      <th>Sbreed_Welsh Terrier</th>\n",
       "      <th>Sbreed_West Highland</th>\n",
       "      <th>Sbreed_Whippet</th>\n",
       "      <th>Sbreed_Wire Hair</th>\n",
       "      <th>Sbreed_Yorkshire</th>\n",
       "      <th>Sbreed_Yorkshire Terrier</th>\n",
       "    </tr>\n",
       "  </thead>\n",
       "  <tbody>\n",
       "    <tr>\n",
       "      <th>0</th>\n",
       "      <td>1</td>\n",
       "      <td>2</td>\n",
       "      <td>0</td>\n",
       "      <td>0.0</td>\n",
       "      <td>1.0</td>\n",
       "      <td>0.0</td>\n",
       "      <td>0.0</td>\n",
       "      <td>0.0</td>\n",
       "      <td>0.0</td>\n",
       "      <td>1.0</td>\n",
       "      <td>...</td>\n",
       "      <td>0.0</td>\n",
       "      <td>0.0</td>\n",
       "      <td>0.0</td>\n",
       "      <td>0.0</td>\n",
       "      <td>0.0</td>\n",
       "      <td>0.0</td>\n",
       "      <td>0.0</td>\n",
       "      <td>0.0</td>\n",
       "      <td>0.0</td>\n",
       "      <td>0.0</td>\n",
       "    </tr>\n",
       "    <tr>\n",
       "      <th>1</th>\n",
       "      <td>1</td>\n",
       "      <td>53</td>\n",
       "      <td>1</td>\n",
       "      <td>0.0</td>\n",
       "      <td>0.0</td>\n",
       "      <td>1.0</td>\n",
       "      <td>0.0</td>\n",
       "      <td>0.0</td>\n",
       "      <td>0.0</td>\n",
       "      <td>0.0</td>\n",
       "      <td>...</td>\n",
       "      <td>0.0</td>\n",
       "      <td>0.0</td>\n",
       "      <td>0.0</td>\n",
       "      <td>0.0</td>\n",
       "      <td>0.0</td>\n",
       "      <td>0.0</td>\n",
       "      <td>0.0</td>\n",
       "      <td>0.0</td>\n",
       "      <td>0.0</td>\n",
       "      <td>0.0</td>\n",
       "    </tr>\n",
       "    <tr>\n",
       "      <th>2</th>\n",
       "      <td>0</td>\n",
       "      <td>60</td>\n",
       "      <td>1</td>\n",
       "      <td>0.0</td>\n",
       "      <td>0.0</td>\n",
       "      <td>1.0</td>\n",
       "      <td>0.0</td>\n",
       "      <td>0.0</td>\n",
       "      <td>0.0</td>\n",
       "      <td>0.0</td>\n",
       "      <td>...</td>\n",
       "      <td>0.0</td>\n",
       "      <td>0.0</td>\n",
       "      <td>0.0</td>\n",
       "      <td>0.0</td>\n",
       "      <td>0.0</td>\n",
       "      <td>0.0</td>\n",
       "      <td>0.0</td>\n",
       "      <td>0.0</td>\n",
       "      <td>0.0</td>\n",
       "      <td>0.0</td>\n",
       "    </tr>\n",
       "    <tr>\n",
       "      <th>3</th>\n",
       "      <td>1</td>\n",
       "      <td>470</td>\n",
       "      <td>1</td>\n",
       "      <td>0.0</td>\n",
       "      <td>0.0</td>\n",
       "      <td>1.0</td>\n",
       "      <td>0.0</td>\n",
       "      <td>0.0</td>\n",
       "      <td>0.0</td>\n",
       "      <td>0.0</td>\n",
       "      <td>...</td>\n",
       "      <td>0.0</td>\n",
       "      <td>0.0</td>\n",
       "      <td>0.0</td>\n",
       "      <td>0.0</td>\n",
       "      <td>0.0</td>\n",
       "      <td>0.0</td>\n",
       "      <td>0.0</td>\n",
       "      <td>0.0</td>\n",
       "      <td>0.0</td>\n",
       "      <td>0.0</td>\n",
       "    </tr>\n",
       "    <tr>\n",
       "      <th>4</th>\n",
       "      <td>3</td>\n",
       "      <td>24</td>\n",
       "      <td>0</td>\n",
       "      <td>0.0</td>\n",
       "      <td>0.0</td>\n",
       "      <td>0.0</td>\n",
       "      <td>0.0</td>\n",
       "      <td>1.0</td>\n",
       "      <td>0.0</td>\n",
       "      <td>0.0</td>\n",
       "      <td>...</td>\n",
       "      <td>0.0</td>\n",
       "      <td>0.0</td>\n",
       "      <td>0.0</td>\n",
       "      <td>0.0</td>\n",
       "      <td>0.0</td>\n",
       "      <td>0.0</td>\n",
       "      <td>0.0</td>\n",
       "      <td>0.0</td>\n",
       "      <td>0.0</td>\n",
       "      <td>0.0</td>\n",
       "    </tr>\n",
       "  </tbody>\n",
       "</table>\n",
       "<p>5 rows × 583 columns</p>\n",
       "</div>"
      ],
      "text/plain": [
       "   outcome_type  age_in_weeks  name_is_present  atype_Bird  atype_Cat  \\\n",
       "0             1             2                0         0.0        1.0   \n",
       "1             1            53                1         0.0        0.0   \n",
       "2             0            60                1         0.0        0.0   \n",
       "3             1           470                1         0.0        0.0   \n",
       "4             3            24                0         0.0        0.0   \n",
       "\n",
       "   atype_Dog  atype_Livestock  atype_Other  sex_type_Intact Female  \\\n",
       "0        0.0              0.0          0.0                     0.0   \n",
       "1        1.0              0.0          0.0                     0.0   \n",
       "2        1.0              0.0          0.0                     0.0   \n",
       "3        1.0              0.0          0.0                     0.0   \n",
       "4        0.0              0.0          1.0                     0.0   \n",
       "\n",
       "   sex_type_Intact Male  ...  Sbreed_Treeing Walker  Sbreed_Unknown  \\\n",
       "0                   1.0  ...                    0.0             0.0   \n",
       "1                   0.0  ...                    0.0             0.0   \n",
       "2                   0.0  ...                    0.0             0.0   \n",
       "3                   0.0  ...                    0.0             0.0   \n",
       "4                   0.0  ...                    0.0             0.0   \n",
       "\n",
       "   Sbreed_Vizsla  Sbreed_Weimaraner  Sbreed_Welsh Terrier  \\\n",
       "0            0.0                0.0                   0.0   \n",
       "1            0.0                0.0                   0.0   \n",
       "2            0.0                0.0                   0.0   \n",
       "3            0.0                0.0                   0.0   \n",
       "4            0.0                0.0                   0.0   \n",
       "\n",
       "   Sbreed_West Highland  Sbreed_Whippet  Sbreed_Wire Hair  Sbreed_Yorkshire  \\\n",
       "0                   0.0             0.0               0.0               0.0   \n",
       "1                   0.0             0.0               0.0               0.0   \n",
       "2                   0.0             0.0               0.0               0.0   \n",
       "3                   0.0             0.0               0.0               0.0   \n",
       "4                   0.0             0.0               0.0               0.0   \n",
       "\n",
       "   Sbreed_Yorkshire Terrier  \n",
       "0                       0.0  \n",
       "1                       0.0  \n",
       "2                       0.0  \n",
       "3                       0.0  \n",
       "4                       0.0  \n",
       "\n",
       "[5 rows x 583 columns]"
      ]
     },
     "execution_count": 36,
     "metadata": {},
     "output_type": "execute_result"
    }
   ],
   "source": [
    "data.head()"
   ]
  },
  {
   "cell_type": "code",
   "execution_count": null,
   "metadata": {},
   "outputs": [],
   "source": []
  },
  {
   "cell_type": "markdown",
   "metadata": {},
   "source": [
    "Подготовим данные для обучения модели"
   ]
  },
  {
   "cell_type": "code",
   "execution_count": 37,
   "metadata": {},
   "outputs": [],
   "source": [
    "x = data.copy()\n",
    "y = data['outcome_type']\n",
    "del x['outcome_type']"
   ]
  },
  {
   "cell_type": "code",
   "execution_count": null,
   "metadata": {},
   "outputs": [],
   "source": [
    "x.shape"
   ]
  },
  {
   "cell_type": "code",
   "execution_count": 38,
   "metadata": {},
   "outputs": [],
   "source": [
    "x_train, x_test, y_train, y_test = train_test_split(x, y, test_size=0.3)"
   ]
  },
  {
   "cell_type": "code",
   "execution_count": 39,
   "metadata": {},
   "outputs": [
    {
     "data": {
      "text/plain": [
       "0.6670784697963704"
      ]
     },
     "execution_count": 39,
     "metadata": {},
     "output_type": "execute_result"
    }
   ],
   "source": [
    "model_RFC = RandomForestClassifier(n_estimators=10, max_depth=5, min_samples_leaf=20, max_features=0.5, n_jobs=-1)#(n_estimators=10, max_depth=5, n_jobs=-1)\n",
    "model_RFC.fit(x_train, y_train)\n",
    "model_RFC.score(x_test, y_test)"
   ]
  },
  {
   "cell_type": "code",
   "execution_count": 40,
   "metadata": {},
   "outputs": [],
   "source": [
    "y_pred = model_RFC.predict(x_test)"
   ]
  },
  {
   "cell_type": "code",
   "execution_count": 41,
   "metadata": {},
   "outputs": [],
   "source": []
  },
  {
   "cell_type": "code",
   "execution_count": 42,
   "metadata": {},
   "outputs": [
    {
     "data": {
      "text/plain": [
       "array([[8586,  432,  924,    4,    0,    0,    0,    0,    0],\n",
       "       [2023, 4179,  756,   33,    0,    0,    0,    0,    0],\n",
       "       [2064,  302, 1957,    5,    0,    0,    0,    0,    0],\n",
       "       [ 171,  536,  200,  937,    0,    0,    0,    0,    0],\n",
       "       [  22,  138,   10,   30,    0,    0,    0,    0,    0],\n",
       "       [  13,    9,    0,   80,    0,    0,    0,    0,    0],\n",
       "       [  31,    0,   17,    0,    0,    0,    0,    0,    0],\n",
       "       [   3,    7,    1,    0,    0,    0,    0,    0,    0],\n",
       "       [   2,    0,    0,    2,    0,    0,    0,    0,    0]],\n",
       "      dtype=int64)"
      ]
     },
     "execution_count": 42,
     "metadata": {},
     "output_type": "execute_result"
    }
   ],
   "source": [
    "confusion_matrix(y_test, y_pred)"
   ]
  },
  {
   "cell_type": "code",
   "execution_count": 43,
   "metadata": {},
   "outputs": [
    {
     "name": "stdout",
     "output_type": "stream",
     "text": [
      "              precision    recall  f1-score   support\n",
      "\n",
      "           0       0.66      0.86      0.75      9946\n",
      "           1       0.75      0.60      0.66      6991\n",
      "           2       0.51      0.45      0.48      4328\n",
      "           3       0.86      0.51      0.64      1844\n",
      "           4       0.00      0.00      0.00       200\n",
      "           5       0.00      0.00      0.00       102\n",
      "           6       0.00      0.00      0.00        48\n",
      "           7       0.00      0.00      0.00        11\n",
      "           8       0.00      0.00      0.00         4\n",
      "\n",
      "    accuracy                           0.67     23474\n",
      "   macro avg       0.31      0.27      0.28     23474\n",
      "weighted avg       0.66      0.67      0.65     23474\n",
      "\n"
     ]
    },
    {
     "name": "stderr",
     "output_type": "stream",
     "text": [
      "C:\\Users\\User\\anaconda3\\lib\\site-packages\\sklearn\\metrics\\_classification.py:1272: UndefinedMetricWarning: Precision and F-score are ill-defined and being set to 0.0 in labels with no predicted samples. Use `zero_division` parameter to control this behavior.\n",
      "  _warn_prf(average, modifier, msg_start, len(result))\n"
     ]
    }
   ],
   "source": [
    "print(classification_report(y_test, y_pred))"
   ]
  },
  {
   "cell_type": "markdown",
   "metadata": {},
   "source": [
    "F-мера по нужным нам классам составляет 0.75 и 0.66 соответственно, что больше, чем по другим классам. "
   ]
  },
  {
   "cell_type": "code",
   "execution_count": null,
   "metadata": {},
   "outputs": [],
   "source": []
  }
 ],
 "metadata": {
  "kernelspec": {
   "display_name": "Python 3",
   "language": "python",
   "name": "python3"
  },
  "language_info": {
   "codemirror_mode": {
    "name": "ipython",
    "version": 3
   },
   "file_extension": ".py",
   "mimetype": "text/x-python",
   "name": "python",
   "nbconvert_exporter": "python",
   "pygments_lexer": "ipython3",
   "version": "3.7.6"
  }
 },
 "nbformat": 4,
 "nbformat_minor": 4
}
