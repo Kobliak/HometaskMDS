{
 "cells": [
  {
   "cell_type": "markdown",
   "metadata": {},
   "source": [
    "Разработана гибридная рекомендательная система на основе каскада:\n",
    "1. сначала определим фильмы, которые наиболее близки к фильмам, которым пользователь поставил оценку 5. Для каждого фильма выделим по 10 близких фильмов \n",
    "2. далее для отобранных на 1 этапе применим KNNWithMeans для определения фильмов с наивысшей оценкой, которую мог бы поставить пользователь"
   ]
  },
  {
   "cell_type": "code",
   "execution_count": 1,
   "metadata": {},
   "outputs": [],
   "source": [
    "from surprise import KNNWithMeans\n",
    "from surprise import Dataset\n",
    "from surprise import accuracy\n",
    "from surprise import Reader\n",
    "\n",
    "from scipy.spatial.distance import correlation\n",
    "\n",
    "import pandas as pd\n",
    "import numpy as np"
   ]
  },
  {
   "cell_type": "code",
   "execution_count": 2,
   "metadata": {},
   "outputs": [],
   "source": [
    "movies = pd.read_csv('movies.csv')\n",
    "ratings = pd.read_csv('ratings.csv')"
   ]
  },
  {
   "cell_type": "code",
   "execution_count": 3,
   "metadata": {},
   "outputs": [],
   "source": [
    "movies_with_ratings = movies.join(ratings.set_index('movieId'), on='movieId').reset_index(drop=True)\n",
    "movies_with_ratings.dropna(inplace=True)"
   ]
  },
  {
   "cell_type": "markdown",
   "metadata": {},
   "source": [
    "Определим нужные функции"
   ]
  },
  {
   "cell_type": "code",
   "execution_count": 4,
   "metadata": {},
   "outputs": [],
   "source": [
    "#Функция получает на вход userid и датасет с данными по оценкам фильмов\n",
    "#Функция возвращает список фильмов, которым указанный пользователь поставил оценку 5\n",
    "def ret_user_fav_films(userid, dataset):\n",
    "    return dataset.loc[(dataset['userId'] == userid) & (dataset['rating'] == 5.0)].movieId.tolist()\n",
    "\n",
    "#Функция получает на вход датасет с данными по оценкам фильмов\n",
    "#Функция возвращает словарь векторов с оценками для каждого фильма\n",
    "def movie_vectorizer(dataset):\n",
    "    qty_users = dataset.userId.unique().shape[0]\n",
    "    movie_vector = {}\n",
    "\n",
    "    for movie, group in dataset.groupby('movieId'):\n",
    "        movie_vector[movie] = np.zeros(qty_users)\n",
    "    \n",
    "        for i in range(len(group.userId.values)):\n",
    "            u = group.userId.values[i]\n",
    "            r = group.rating.values[i]\n",
    "            movie_vector[movie][int(u - 1)] = r\n",
    "     \n",
    "    return movie_vector  \n",
    "\n",
    "#Функция получает на вход список фильмов пользователя с оценками 5, словарь векторов фильмов, \n",
    "#а также количество подбираемых рекомендаций для каждого пользовательского фильма\n",
    "#Функция возвращает фильмов, предварительно рекомендованных пользователю. \n",
    "#На основе этого списка будем делать дальнейшую рекомендацию\n",
    "def movies_recommend(my_fav_films, vector, size=10):\n",
    "    full_movies_list = []\n",
    "    for my_fav_film in my_fav_films:\n",
    "        titles = []\n",
    "        distances = []\n",
    "        for key in vector.keys():\n",
    "            if key == my_fav_film:\n",
    "                continue\n",
    "                \n",
    "            titles.append(key)\n",
    "            distances.append(correlation(vector[my_fav_film], vector[key]))\n",
    "        \n",
    "        best_indexes = np.argsort(distances)[:size]\n",
    "        best_movies = [(titles[i]) for i in best_indexes]\n",
    "        full_movies_list.extend(best_movies)\n",
    "\n",
    "    return list(set(full_movies_list) - set(my_fav_films))\n",
    "\n",
    "#Функция получает на вход датасет, userid пользователя и количество фильмов для рекомендации\n",
    "#Функция возвращает список рекомендованных пользователю фильмов\n",
    "\n",
    "def make_rec(dataset, user_id, size=5):\n",
    "    mov_id = []\n",
    "    est = []\n",
    "    for mov in dataset.iid.unique():\n",
    "        mov_id.append(mov)\n",
    "        est.append(algo.predict(uid=user_id, iid=mov).est)\n",
    "\n",
    "        best_ind = np.argsort(est)[-size:]\n",
    "        best_mov = [(mov_id[i]) for i in best_ind]\n",
    "    return best_mov\n",
    "\n"
   ]
  },
  {
   "cell_type": "code",
   "execution_count": 5,
   "metadata": {},
   "outputs": [],
   "source": [
    "#Получим список фильмов пользователя\n",
    "user_films = ret_user_fav_films(3.0, movies_with_ratings)\n",
    "#Построим словарь векторов фильмов\n",
    "movie_vector = movie_vectorizer(movies_with_ratings)\n",
    "#Получим список рекомендованных пользователю фильмов\n",
    "rec_movies_list = movies_recommend(user_films, movie_vector, 10)\n",
    "#выделим из всего датасета данные по рекомменлованным фильмам для дальнейшей обработки\n",
    "user_rec_movies = movies_with_ratings.loc[movies_with_ratings.movieId.isin(rec_movies_list)]"
   ]
  },
  {
   "cell_type": "code",
   "execution_count": 6,
   "metadata": {},
   "outputs": [
    {
     "name": "stdout",
     "output_type": "stream",
     "text": [
      "Estimating biases using als...\n",
      "Computing the pearson_baseline similarity matrix...\n",
      "Done computing similarity matrix.\n"
     ]
    },
    {
     "data": {
      "text/plain": [
       "<surprise.prediction_algorithms.knns.KNNWithMeans at 0x8382bc8>"
      ]
     },
     "execution_count": 6,
     "metadata": {},
     "output_type": "execute_result"
    }
   ],
   "source": [
    "#Подготовим данные для модели и обучим модель\n",
    "dataset = pd.DataFrame({\n",
    "    'uid': user_rec_movies.userId,\n",
    "    'iid': user_rec_movies.movieId,\n",
    "    'rating': user_rec_movies.rating\n",
    "})\n",
    "\n",
    "reader = Reader(rating_scale=(ratings.rating.min(), ratings.rating.max()))\n",
    "data = Dataset.load_from_df(dataset, reader)\n",
    "\n",
    "trainset = data.build_full_trainset()\n",
    "\n",
    "algo = KNNWithMeans(k=50, sim_options={'name': 'pearson_baseline', 'user_based': True})\n",
    "algo.fit(trainset)"
   ]
  },
  {
   "cell_type": "code",
   "execution_count": 7,
   "metadata": {},
   "outputs": [
    {
     "data": {
      "text/plain": [
       "[4180, 4813, 107771, 2529, 3740]"
      ]
     },
     "execution_count": 7,
     "metadata": {},
     "output_type": "execute_result"
    }
   ],
   "source": [
    "#Предскажем рекоммендуемые фильмы для нужного пользователя\n",
    "best_rec_mov = make_rec(dataset, 3)\n",
    "best_rec_mov"
   ]
  },
  {
   "cell_type": "code",
   "execution_count": 8,
   "metadata": {},
   "outputs": [],
   "source": [
    "#выделим из общего датасета фильмов рекомендуемые пользователю фильмы\n",
    "recommended_movies_for_user = movies.loc[movies.movieId.isin(best_rec_mov)]"
   ]
  },
  {
   "cell_type": "code",
   "execution_count": 9,
   "metadata": {},
   "outputs": [
    {
     "data": {
      "text/html": [
       "<div>\n",
       "<style scoped>\n",
       "    .dataframe tbody tr th:only-of-type {\n",
       "        vertical-align: middle;\n",
       "    }\n",
       "\n",
       "    .dataframe tbody tr th {\n",
       "        vertical-align: top;\n",
       "    }\n",
       "\n",
       "    .dataframe thead th {\n",
       "        text-align: right;\n",
       "    }\n",
       "</style>\n",
       "<table border=\"1\" class=\"dataframe\">\n",
       "  <thead>\n",
       "    <tr style=\"text-align: right;\">\n",
       "      <th></th>\n",
       "      <th>movieId</th>\n",
       "      <th>title</th>\n",
       "      <th>genres</th>\n",
       "    </tr>\n",
       "  </thead>\n",
       "  <tbody>\n",
       "    <tr>\n",
       "      <th>1905</th>\n",
       "      <td>2529</td>\n",
       "      <td>Planet of the Apes (1968)</td>\n",
       "      <td>Action|Drama|Sci-Fi</td>\n",
       "    </tr>\n",
       "    <tr>\n",
       "      <th>2798</th>\n",
       "      <td>3740</td>\n",
       "      <td>Big Trouble in Little China (1986)</td>\n",
       "      <td>Action|Adventure|Comedy|Fantasy</td>\n",
       "    </tr>\n",
       "    <tr>\n",
       "      <th>3110</th>\n",
       "      <td>4180</td>\n",
       "      <td>Reform School Girls (1986)</td>\n",
       "      <td>Action|Drama</td>\n",
       "    </tr>\n",
       "    <tr>\n",
       "      <th>3522</th>\n",
       "      <td>4813</td>\n",
       "      <td>When Worlds Collide (1951)</td>\n",
       "      <td>Sci-Fi</td>\n",
       "    </tr>\n",
       "    <tr>\n",
       "      <th>8334</th>\n",
       "      <td>107771</td>\n",
       "      <td>Only Lovers Left Alive (2013)</td>\n",
       "      <td>Drama|Horror|Romance</td>\n",
       "    </tr>\n",
       "  </tbody>\n",
       "</table>\n",
       "</div>"
      ],
      "text/plain": [
       "      movieId                               title  \\\n",
       "1905     2529           Planet of the Apes (1968)   \n",
       "2798     3740  Big Trouble in Little China (1986)   \n",
       "3110     4180          Reform School Girls (1986)   \n",
       "3522     4813          When Worlds Collide (1951)   \n",
       "8334   107771       Only Lovers Left Alive (2013)   \n",
       "\n",
       "                               genres  \n",
       "1905              Action|Drama|Sci-Fi  \n",
       "2798  Action|Adventure|Comedy|Fantasy  \n",
       "3110                     Action|Drama  \n",
       "3522                           Sci-Fi  \n",
       "8334             Drama|Horror|Romance  "
      ]
     },
     "execution_count": 9,
     "metadata": {},
     "output_type": "execute_result"
    }
   ],
   "source": [
    "recommended_movies_for_user"
   ]
  },
  {
   "cell_type": "code",
   "execution_count": null,
   "metadata": {},
   "outputs": [],
   "source": []
  }
 ],
 "metadata": {
  "kernelspec": {
   "display_name": "Python 3",
   "language": "python",
   "name": "python3"
  },
  "language_info": {
   "codemirror_mode": {
    "name": "ipython",
    "version": 3
   },
   "file_extension": ".py",
   "mimetype": "text/x-python",
   "name": "python",
   "nbconvert_exporter": "python",
   "pygments_lexer": "ipython3",
   "version": "3.7.6"
  }
 },
 "nbformat": 4,
 "nbformat_minor": 4
}
