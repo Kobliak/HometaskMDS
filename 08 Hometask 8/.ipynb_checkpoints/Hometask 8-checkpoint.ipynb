{
 "cells": [
  {
   "cell_type": "code",
   "execution_count": 1,
   "metadata": {},
   "outputs": [],
   "source": [
    "import numpy as np"
   ]
  },
  {
   "cell_type": "markdown",
   "metadata": {},
   "source": [
    "** Задача 2 **"
   ]
  },
  {
   "cell_type": "markdown",
   "metadata": {},
   "source": [
    "f(θ) = С при θ из [0;5], f(кси) = 0 при θ не из [0;5]"
   ]
  },
  {
   "cell_type": "code",
   "execution_count": null,
   "metadata": {},
   "outputs": [],
   "source": [
    "# Найдем С\n",
    "∫_0^5▒Cdx = Cx |_0^5= 5C = 1 => C = 0.2"
   ]
  },
  {
   "cell_type": "code",
   "execution_count": null,
   "metadata": {},
   "outputs": [],
   "source": [
    "#Следвательно F(x) = 0.2x"
   ]
  },
  {
   "cell_type": "markdown",
   "metadata": {},
   "source": [
    "M[x] = ∫_(-∞)^(+∞)▒0.2xdx = 0.2∫_0^5▒xdx = 0.2x^2/2 |_0^5 = 0.2 25/2 = 2.5"
   ]
  },
  {
   "attachments": {},
   "cell_type": "markdown",
   "metadata": {},
   "source": [
    "P(3.5 < θ < 7) = ∫_3.5^7▒f(x)dx = F(7) – F(3.5) = 0.2 * 7 – 0.2 * 3.5 = 0.2 * 3.5 = 0.7"
   ]
  },
  {
   "cell_type": "code",
   "execution_count": null,
   "metadata": {},
   "outputs": [],
   "source": []
  },
  {
   "cell_type": "markdown",
   "metadata": {},
   "source": [
    "** Задача 3 **"
   ]
  },
  {
   "cell_type": "markdown",
   "metadata": {},
   "source": [
    "*** Часть 1 ***"
   ]
  },
  {
   "cell_type": "code",
   "execution_count": 7,
   "metadata": {},
   "outputs": [],
   "source": [
    "red = 54\n",
    "yellow = 4\n",
    "green = 28\n",
    "total_ = red + yellow + green\n",
    "p_red = red / total_\n",
    "p_yellow = yellow / total_\n",
    "p_green = green / total_\n",
    "I_red = np.log2(1/p_red)\n",
    "I_yellow = np.log2(1/p_yellow)\n",
    "I_green = np.log2(1/p_green)"
   ]
  },
  {
   "cell_type": "code",
   "execution_count": 8,
   "metadata": {},
   "outputs": [
    {
     "name": "stdout",
     "output_type": "stream",
     "text": [
      "0.6713772525386293\n",
      "4.426264754702098\n",
      "1.6189098326444937\n"
     ]
    }
   ],
   "source": [
    "print(I_red)\n",
    "print(I_yellow)\n",
    "print(I_green)"
   ]
  },
  {
   "cell_type": "markdown",
   "metadata": {},
   "source": [
    "*** Часть 2 ***"
   ]
  },
  {
   "cell_type": "code",
   "execution_count": 13,
   "metadata": {},
   "outputs": [
    {
     "name": "stdout",
     "output_type": "stream",
     "text": [
      "1.584962500721156\n"
     ]
    }
   ],
   "source": [
    "# В случае 28, 28 и 28 секунд для каждого цвета количество информации для каждого цвета будет по формуле\n",
    "I = np.log2(1/(1/3))\n",
    "print(I)"
   ]
  },
  {
   "cell_type": "code",
   "execution_count": null,
   "metadata": {},
   "outputs": [],
   "source": []
  },
  {
   "cell_type": "code",
   "execution_count": null,
   "metadata": {},
   "outputs": [],
   "source": []
  }
 ],
 "metadata": {
  "kernelspec": {
   "display_name": "Python 3",
   "language": "python",
   "name": "python3"
  },
  "language_info": {
   "codemirror_mode": {
    "name": "ipython",
    "version": 3
   },
   "file_extension": ".py",
   "mimetype": "text/x-python",
   "name": "python",
   "nbconvert_exporter": "python",
   "pygments_lexer": "ipython3",
   "version": "3.7.6"
  }
 },
 "nbformat": 4,
 "nbformat_minor": 4
}
