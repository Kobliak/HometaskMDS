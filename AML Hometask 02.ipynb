{
 "cells": [
  {
   "cell_type": "code",
   "execution_count": 1,
   "metadata": {},
   "outputs": [],
   "source": [
    "from surprise import KNNWithMeans, KNNWithZScore, KNNBaseline\n",
    "from surprise import Dataset\n",
    "from surprise import accuracy\n",
    "from surprise import Reader\n",
    "from surprise.model_selection import train_test_split\n",
    "from surprise.model_selection import cross_validate\n",
    "\n",
    "import pandas as pd"
   ]
  },
  {
   "cell_type": "code",
   "execution_count": 2,
   "metadata": {},
   "outputs": [],
   "source": [
    "movies = pd.read_csv('movies.csv')\n",
    "ratings = pd.read_csv('ratings.csv')"
   ]
  },
  {
   "cell_type": "code",
   "execution_count": null,
   "metadata": {},
   "outputs": [],
   "source": [
    "ratings.head()"
   ]
  },
  {
   "cell_type": "code",
   "execution_count": 3,
   "metadata": {},
   "outputs": [],
   "source": [
    "movies_with_ratings = movies.join(ratings.set_index('movieId'), on='movieId').reset_index(drop=True)\n",
    "movies_with_ratings.dropna(inplace=True)"
   ]
  },
  {
   "cell_type": "code",
   "execution_count": 4,
   "metadata": {},
   "outputs": [],
   "source": [
    "dataset = pd.DataFrame({\n",
    "    'uid': movies_with_ratings.userId,\n",
    "    'iid': movies_with_ratings.title,\n",
    "    'rating': movies_with_ratings.rating\n",
    "})"
   ]
  },
  {
   "cell_type": "code",
   "execution_count": 5,
   "metadata": {},
   "outputs": [],
   "source": [
    "reader = Reader(rating_scale=(ratings.rating.min(), ratings.rating.max()))\n",
    "data = Dataset.load_from_df(dataset, reader)"
   ]
  },
  {
   "cell_type": "markdown",
   "metadata": {},
   "source": [
    "посчитаем праметры для KNNWithMeans при разном количестве соседей и разных мерах схожести"
   ]
  },
  {
   "cell_type": "code",
   "execution_count": 6,
   "metadata": {},
   "outputs": [],
   "source": [
    "model_1_10_user = KNNWithMeans(k=10, sim_options={'name': 'cosine', 'user_based': True})\n",
    "model_1_50_user = KNNWithMeans(k=50, sim_options={'name': 'cosine', 'user_based': True})\n",
    "model_1_10_item = KNNWithMeans(k=10, sim_options={'name': 'cosine', 'user_based': False})\n",
    "model_1_50_item = KNNWithMeans(k=50, sim_options={'name': 'cosine', 'user_based': False})\n"
   ]
  },
  {
   "cell_type": "code",
   "execution_count": 7,
   "metadata": {},
   "outputs": [
    {
     "name": "stdout",
     "output_type": "stream",
     "text": [
      "RMSE KNNWithMeans(k=10,cosine, user_based): 0.9113688073647708\n",
      "Evaluating RMSE of algorithm KNNWithMeans on 5 split(s).\n",
      "\n",
      "                  Fold 1  Fold 2  Fold 3  Fold 4  Fold 5  Mean    Std     \n",
      "RMSE (testset)    0.9044  0.9076  0.8933  0.8856  0.9112  0.9004  0.0095  \n",
      "Fit time          2.58    3.87    4.13    3.88    2.55    3.40    0.69    \n",
      "Test time         6.12    6.21    6.19    6.28    6.24    6.21    0.05    \n",
      "RMSE KNNWithMeans(k=50,cosine, user_based): 0.9004286396538081\n",
      "RMSE KNNWithMeans(k=10,cosine, item_based): 0.9335881000691805\n",
      "Evaluating RMSE of algorithm KNNWithMeans on 5 split(s).\n",
      "\n",
      "                  Fold 1  Fold 2  Fold 3  Fold 4  Fold 5  Mean    Std     \n",
      "RMSE (testset)    0.9029  0.9047  0.8966  0.9039  0.9050  0.9026  0.0031  \n",
      "Fit time          195.94  209.87  185.78  190.09  82.87   172.91  45.75   \n",
      "Test time         30.10   34.36   32.80   30.01   37.85   33.03   2.92    \n",
      "RMSE KNNWithMeans(k=50,cosine, item_based): 0.9026174067481116\n",
      "Wall time: 21min 1s\n"
     ]
    }
   ],
   "source": [
    "%%time\n",
    "\n",
    "CV_1 = cross_validate(model_1_10_user, data, measures=['RMSE'], cv=5, verbose=False, n_jobs=-1)['test_rmse'].mean()\n",
    "print(f'RMSE KNNWithMeans(k=10,cosine, user_based): {CV_1}')\n",
    "CV_2 = cross_validate(model_1_50_user, data, measures=['RMSE'], cv=5, verbose=True, n_jobs=-1)['test_rmse'].mean()\n",
    "print(f'RMSE KNNWithMeans(k=50,cosine, user_based): {CV_2}')\n",
    "CV_3 = cross_validate(model_1_10_item, data, measures=['RMSE'], cv=5, verbose=False, n_jobs=-1)['test_rmse'].mean()\n",
    "print(f'RMSE KNNWithMeans(k=10,cosine, item_based): {CV_3}')\n",
    "CV_4 = cross_validate(model_1_50_item, data, measures=['RMSE'], cv=5, verbose=True, n_jobs=-1)['test_rmse'].mean()\n",
    "print(f'RMSE KNNWithMeans(k=50,cosine, item_based): {CV_4}')"
   ]
  },
  {
   "cell_type": "markdown",
   "metadata": {},
   "source": [
    "посчитаем параметры для KNNWithZScore при разном количестве соседей и разных мерах схожести"
   ]
  },
  {
   "cell_type": "code",
   "execution_count": 10,
   "metadata": {},
   "outputs": [],
   "source": [
    "model_2_10_user = KNNWithZScore(k=10, sim_options={'name': 'cosine', 'user_based': True})\n",
    "model_2_50_user = KNNWithZScore(k=50, sim_options={'name': 'cosine', 'user_based': True})\n",
    "model_2_10_item = KNNWithZScore(k=10, sim_options={'name': 'cosine', 'user_based': False})\n",
    "model_2_50_item = KNNWithZScore(k=50, sim_options={'name': 'cosine', 'user_based': False})\n"
   ]
  },
  {
   "cell_type": "code",
   "execution_count": 11,
   "metadata": {},
   "outputs": [
    {
     "name": "stdout",
     "output_type": "stream",
     "text": [
      "RMSE KNNWithZScore(k=10,cosine, user_based): 0.9148521583252751\n",
      "RMSE KNNWithZScore(k=50,cosine, user_based): 0.8987411691422256\n",
      "RMSE KNNWithZScore(k=10,cosine, item_based): 0.9405630002818635\n",
      "RMSE KNNWithZScore(k=50,cosine, item_based): 0.9088132169700405\n",
      "Wall time: 20min 50s\n"
     ]
    }
   ],
   "source": [
    "%%time\n",
    "\n",
    "CV_2_1 = cross_validate(model_2_10_user, data, measures=['RMSE'], cv=5, verbose=False, n_jobs=-1)['test_rmse'].mean()\n",
    "print(f'RMSE KNNWithZScore(k=10,cosine, user_based): {CV_2_1}')\n",
    "CV_2_2 = cross_validate(model_2_50_user, data, measures=['RMSE'], cv=5, verbose=False, n_jobs=-1)['test_rmse'].mean()\n",
    "print(f'RMSE KNNWithZScore(k=50,cosine, user_based): {CV_2_2}')\n",
    "CV_2_3 = cross_validate(model_2_10_item, data, measures=['RMSE'], cv=5, verbose=False, n_jobs=-1)['test_rmse'].mean()\n",
    "print(f'RMSE KNNWithZScore(k=10,cosine, item_based): {CV_2_3}')\n",
    "CV_2_4 = cross_validate(model_2_50_item, data, measures=['RMSE'], cv=5, verbose=False, n_jobs=-1)['test_rmse'].mean()\n",
    "print(f'RMSE KNNWithZScore(k=50,cosine, item_based): {CV_2_4}')"
   ]
  },
  {
   "cell_type": "markdown",
   "metadata": {},
   "source": [
    "Расчеты без cross_validation"
   ]
  },
  {
   "cell_type": "code",
   "execution_count": 12,
   "metadata": {},
   "outputs": [
    {
     "name": "stdout",
     "output_type": "stream",
     "text": [
      "Wall time: 787 ms\n"
     ]
    }
   ],
   "source": [
    "%%time\n",
    "\n",
    "trainset, testset = train_test_split(data, test_size=.15)"
   ]
  },
  {
   "cell_type": "markdown",
   "metadata": {},
   "source": [
    "Посчитаем RMSE на тестовой выборке для двух значений количества соседей (10 и 50), для разных типов меры сходства и для рахных моделей"
   ]
  },
  {
   "cell_type": "markdown",
   "metadata": {},
   "source": [
    "Выберем лучшее значение RMSE для каждой модели"
   ]
  },
  {
   "cell_type": "markdown",
   "metadata": {},
   "source": [
    "1 - KNNWithMeans"
   ]
  },
  {
   "cell_type": "code",
   "execution_count": 13,
   "metadata": {},
   "outputs": [
    {
     "name": "stdout",
     "output_type": "stream",
     "text": [
      "Estimating biases using als...\n",
      "Computing the pearson_baseline similarity matrix...\n",
      "Done computing similarity matrix.\n",
      "RMSE: 0.8929\n",
      "Wall time: 8.94 s\n"
     ]
    },
    {
     "data": {
      "text/plain": [
       "0.8928966442553938"
      ]
     },
     "execution_count": 13,
     "metadata": {},
     "output_type": "execute_result"
    }
   ],
   "source": [
    "%%time\n",
    "\n",
    "model_1_10 = KNNWithMeans(k=10, sim_options={'name': 'pearson_baseline', 'user_based': True})\n",
    "model_1_10.fit(trainset)\n",
    "test_pred_1_10 = model_1_10.test(testset)\n",
    "accuracy.rmse(test_pred_1_10, verbose=True)"
   ]
  },
  {
   "cell_type": "code",
   "execution_count": 14,
   "metadata": {},
   "outputs": [
    {
     "name": "stdout",
     "output_type": "stream",
     "text": [
      "Estimating biases using als...\n",
      "Computing the pearson_baseline similarity matrix...\n",
      "Done computing similarity matrix.\n",
      "RMSE: 0.8896\n",
      "Wall time: 9.02 s\n"
     ]
    },
    {
     "data": {
      "text/plain": [
       "0.8896315081150958"
      ]
     },
     "execution_count": 14,
     "metadata": {},
     "output_type": "execute_result"
    }
   ],
   "source": [
    "%%time\n",
    "\n",
    "model_1_50 = KNNWithMeans(k=50, sim_options={'name': 'pearson_baseline', 'user_based': True})\n",
    "model_1_50.fit(trainset)\n",
    "test_pred_1_50 = model_1_50.test(testset)\n",
    "accuracy.rmse(test_pred_1_50, verbose=True)"
   ]
  },
  {
   "cell_type": "code",
   "execution_count": 15,
   "metadata": {},
   "outputs": [
    {
     "name": "stdout",
     "output_type": "stream",
     "text": [
      "Computing the pearson similarity matrix...\n",
      "Done computing similarity matrix.\n",
      "RMSE: 0.9013\n",
      "Wall time: 7.72 s\n"
     ]
    },
    {
     "data": {
      "text/plain": [
       "0.9013248369811929"
      ]
     },
     "execution_count": 15,
     "metadata": {},
     "output_type": "execute_result"
    }
   ],
   "source": [
    "%%time\n",
    "\n",
    "model_1_10 = KNNWithMeans(k=10, sim_options={'name': 'pearson', 'user_based': True})\n",
    "model_1_10.fit(trainset)\n",
    "test_pred_1_10 = model_1_10.test(testset)\n",
    "accuracy.rmse(test_pred_1_10, verbose=True)"
   ]
  },
  {
   "cell_type": "code",
   "execution_count": 16,
   "metadata": {},
   "outputs": [
    {
     "name": "stdout",
     "output_type": "stream",
     "text": [
      "Computing the pearson similarity matrix...\n",
      "Done computing similarity matrix.\n",
      "RMSE: 0.8909\n",
      "Wall time: 9.32 s\n"
     ]
    },
    {
     "data": {
      "text/plain": [
       "0.8908619628873401"
      ]
     },
     "execution_count": 16,
     "metadata": {},
     "output_type": "execute_result"
    }
   ],
   "source": [
    "%%time\n",
    "\n",
    "model_1_50 = KNNWithMeans(k=50, sim_options={'name': 'pearson', 'user_based': True})\n",
    "model_1_50.fit(trainset)\n",
    "test_pred_1_50 = model_1_50.test(testset)\n",
    "accuracy.rmse(test_pred_1_50, verbose=True)"
   ]
  },
  {
   "cell_type": "code",
   "execution_count": 17,
   "metadata": {},
   "outputs": [
    {
     "name": "stdout",
     "output_type": "stream",
     "text": [
      "Computing the msd similarity matrix...\n",
      "Done computing similarity matrix.\n",
      "RMSE: 0.9020\n",
      "Wall time: 5.08 s\n"
     ]
    },
    {
     "data": {
      "text/plain": [
       "0.9019548806141232"
      ]
     },
     "execution_count": 17,
     "metadata": {},
     "output_type": "execute_result"
    }
   ],
   "source": [
    "%%time\n",
    "\n",
    "model_1_10 = KNNWithMeans(k=10, sim_options={'name': 'MSD', 'user_based': True})\n",
    "model_1_10.fit(trainset)\n",
    "test_pred_1_10 = model_1_10.test(testset)\n",
    "accuracy.rmse(test_pred_1_10, verbose=True)"
   ]
  },
  {
   "cell_type": "code",
   "execution_count": 18,
   "metadata": {},
   "outputs": [
    {
     "name": "stdout",
     "output_type": "stream",
     "text": [
      "Computing the msd similarity matrix...\n",
      "Done computing similarity matrix.\n",
      "RMSE: 0.8936\n",
      "Wall time: 6.8 s\n"
     ]
    },
    {
     "data": {
      "text/plain": [
       "0.8936362645701796"
      ]
     },
     "execution_count": 18,
     "metadata": {},
     "output_type": "execute_result"
    }
   ],
   "source": [
    "%%time\n",
    "\n",
    "model_1_50 = KNNWithMeans(k=50, sim_options={'name': 'MSD', 'user_based': True})\n",
    "model_1_50.fit(trainset)\n",
    "test_pred_1_50 = model_1_50.test(testset)\n",
    "accuracy.rmse(test_pred_1_50, verbose=True)"
   ]
  },
  {
   "cell_type": "code",
   "execution_count": 19,
   "metadata": {},
   "outputs": [
    {
     "name": "stdout",
     "output_type": "stream",
     "text": [
      "Computing the cosine similarity matrix...\n",
      "Done computing similarity matrix.\n",
      "RMSE: 0.9074\n",
      "Wall time: 6.62 s\n"
     ]
    },
    {
     "data": {
      "text/plain": [
       "0.9074253205039309"
      ]
     },
     "execution_count": 19,
     "metadata": {},
     "output_type": "execute_result"
    }
   ],
   "source": [
    "%%time\n",
    "\n",
    "model_1_10 = KNNWithMeans(k=10, sim_options={'name': 'cosine', 'user_based': True})\n",
    "model_1_10.fit(trainset)\n",
    "test_pred_1_10 = model_1_10.test(testset)\n",
    "accuracy.rmse(test_pred_1_10, verbose=True)"
   ]
  },
  {
   "cell_type": "code",
   "execution_count": 20,
   "metadata": {},
   "outputs": [
    {
     "name": "stdout",
     "output_type": "stream",
     "text": [
      "Computing the cosine similarity matrix...\n",
      "Done computing similarity matrix.\n",
      "RMSE: 0.9331\n",
      "Wall time: 1min 48s\n"
     ]
    },
    {
     "data": {
      "text/plain": [
       "0.9330948162996311"
      ]
     },
     "execution_count": 20,
     "metadata": {},
     "output_type": "execute_result"
    }
   ],
   "source": [
    "%%time\n",
    "\n",
    "model_1_10 = KNNWithMeans(k=10, sim_options={'name': 'cosine', 'user_based': False})\n",
    "model_1_10.fit(trainset)\n",
    "test_pred_1_10 = model_1_10.test(testset)\n",
    "accuracy.rmse(test_pred_1_10, verbose=True)"
   ]
  },
  {
   "cell_type": "code",
   "execution_count": 21,
   "metadata": {},
   "outputs": [
    {
     "name": "stdout",
     "output_type": "stream",
     "text": [
      "Computing the cosine similarity matrix...\n",
      "Done computing similarity matrix.\n",
      "RMSE: 0.8975\n",
      "Wall time: 8.34 s\n"
     ]
    },
    {
     "data": {
      "text/plain": [
       "0.8975387429642822"
      ]
     },
     "execution_count": 21,
     "metadata": {},
     "output_type": "execute_result"
    }
   ],
   "source": [
    "%%time\n",
    "\n",
    "model_1_50 = KNNWithMeans(k=50, sim_options={'name': 'cosine', 'user_based': True})\n",
    "model_1_50.fit(trainset)\n",
    "test_pred_1_50 = model_1_50.test(testset)\n",
    "accuracy.rmse(test_pred_1_50, verbose=True)"
   ]
  },
  {
   "cell_type": "code",
   "execution_count": 22,
   "metadata": {},
   "outputs": [
    {
     "name": "stdout",
     "output_type": "stream",
     "text": [
      "Computing the cosine similarity matrix...\n",
      "Done computing similarity matrix.\n",
      "RMSE: 0.8995\n"
     ]
    },
    {
     "data": {
      "text/plain": [
       "0.899467756044995"
      ]
     },
     "execution_count": 22,
     "metadata": {},
     "output_type": "execute_result"
    }
   ],
   "source": [
    "model_1_50 = KNNWithMeans(k=50, sim_options={'name': 'cosine', 'user_based': False})\n",
    "model_1_50.fit(trainset)\n",
    "test_pred_1_50 = model_1_50.test(testset)\n",
    "accuracy.rmse(test_pred_1_50, verbose=True)"
   ]
  },
  {
   "cell_type": "markdown",
   "metadata": {},
   "source": [
    "При 10 \"соседях\" и метрике сходства \"cosine\" RMSE = 0.9278865462572169 для Item-based  и RMSE = 0.9054817956549388 для user-based"
   ]
  },
  {
   "cell_type": "markdown",
   "metadata": {},
   "source": [
    "2 - KNNWithZScore"
   ]
  },
  {
   "cell_type": "code",
   "execution_count": 23,
   "metadata": {},
   "outputs": [
    {
     "name": "stdout",
     "output_type": "stream",
     "text": [
      "Estimating biases using als...\n",
      "Computing the pearson_baseline similarity matrix...\n",
      "Done computing similarity matrix.\n",
      "RMSE: 0.8937\n",
      "Wall time: 8.47 s\n"
     ]
    },
    {
     "data": {
      "text/plain": [
       "0.8936983513415822"
      ]
     },
     "execution_count": 23,
     "metadata": {},
     "output_type": "execute_result"
    }
   ],
   "source": [
    "%%time\n",
    "\n",
    "model_2_10 = KNNWithZScore(k=10, sim_options={'name': 'pearson_baseline', 'user_based': True})\n",
    "model_2_10.fit(trainset)\n",
    "test_pred_2_10 = model_2_10.test(testset)\n",
    "accuracy.rmse(test_pred_2_10, verbose=True)"
   ]
  },
  {
   "cell_type": "code",
   "execution_count": 24,
   "metadata": {},
   "outputs": [
    {
     "name": "stdout",
     "output_type": "stream",
     "text": [
      "Estimating biases using als...\n",
      "Computing the pearson_baseline similarity matrix...\n",
      "Done computing similarity matrix.\n",
      "RMSE: 0.8897\n"
     ]
    },
    {
     "data": {
      "text/plain": [
       "0.8896500236789392"
      ]
     },
     "execution_count": 24,
     "metadata": {},
     "output_type": "execute_result"
    }
   ],
   "source": [
    "model_2_50 = KNNWithZScore(k=50, sim_options={'name': 'pearson_baseline', 'user_based': True})\n",
    "model_2_50.fit(trainset)\n",
    "test_pred_2_50 = model_2_50.test(testset)\n",
    "accuracy.rmse(test_pred_2_50, verbose=True)"
   ]
  },
  {
   "cell_type": "code",
   "execution_count": 25,
   "metadata": {},
   "outputs": [
    {
     "name": "stdout",
     "output_type": "stream",
     "text": [
      "Computing the pearson similarity matrix...\n",
      "Done computing similarity matrix.\n",
      "RMSE: 0.8982\n"
     ]
    },
    {
     "data": {
      "text/plain": [
       "0.8982241440655263"
      ]
     },
     "execution_count": 25,
     "metadata": {},
     "output_type": "execute_result"
    }
   ],
   "source": [
    "model_2_10 = KNNWithZScore(k=10, sim_options={'name': 'pearson', 'user_based': True})\n",
    "model_2_10.fit(trainset)\n",
    "test_pred_2_10 = model_2_10.test(testset)\n",
    "accuracy.rmse(test_pred_2_10, verbose=True)"
   ]
  },
  {
   "cell_type": "code",
   "execution_count": 26,
   "metadata": {},
   "outputs": [
    {
     "name": "stdout",
     "output_type": "stream",
     "text": [
      "Computing the pearson similarity matrix...\n",
      "Done computing similarity matrix.\n",
      "RMSE: 0.8885\n"
     ]
    },
    {
     "data": {
      "text/plain": [
       "0.8884758099498181"
      ]
     },
     "execution_count": 26,
     "metadata": {},
     "output_type": "execute_result"
    }
   ],
   "source": [
    "model_2_50 = KNNWithZScore(k=50, sim_options={'name': 'pearson', 'user_based': True})\n",
    "model_2_50.fit(trainset)\n",
    "test_pred_2_50 = model_2_50.test(testset)\n",
    "accuracy.rmse(test_pred_2_50, verbose=True)"
   ]
  },
  {
   "cell_type": "code",
   "execution_count": 27,
   "metadata": {},
   "outputs": [
    {
     "name": "stdout",
     "output_type": "stream",
     "text": [
      "Computing the msd similarity matrix...\n",
      "Done computing similarity matrix.\n",
      "RMSE: 0.9068\n"
     ]
    },
    {
     "data": {
      "text/plain": [
       "0.9068111116901362"
      ]
     },
     "execution_count": 27,
     "metadata": {},
     "output_type": "execute_result"
    }
   ],
   "source": [
    "model_2_10 = KNNWithZScore(k=10, sim_options={'name': 'MSD', 'user_based': True})\n",
    "model_2_10.fit(trainset)\n",
    "test_pred_2_10 = model_2_10.test(testset)\n",
    "accuracy.rmse(test_pred_2_10, verbose=True)"
   ]
  },
  {
   "cell_type": "code",
   "execution_count": 28,
   "metadata": {},
   "outputs": [
    {
     "name": "stdout",
     "output_type": "stream",
     "text": [
      "Computing the msd similarity matrix...\n",
      "Done computing similarity matrix.\n",
      "RMSE: 0.8940\n"
     ]
    },
    {
     "data": {
      "text/plain": [
       "0.8940315020911082"
      ]
     },
     "execution_count": 28,
     "metadata": {},
     "output_type": "execute_result"
    }
   ],
   "source": [
    "model_2_50 = KNNWithZScore(k=50, sim_options={'name': 'MSD', 'user_based': True})\n",
    "model_2_50.fit(trainset)\n",
    "test_pred_2_50 = model_2_50.test(testset)\n",
    "accuracy.rmse(test_pred_2_50, verbose=True)"
   ]
  },
  {
   "cell_type": "code",
   "execution_count": 29,
   "metadata": {},
   "outputs": [
    {
     "name": "stdout",
     "output_type": "stream",
     "text": [
      "Computing the cosine similarity matrix...\n",
      "Done computing similarity matrix.\n",
      "RMSE: 0.9106\n"
     ]
    },
    {
     "data": {
      "text/plain": [
       "0.9105901525563349"
      ]
     },
     "execution_count": 29,
     "metadata": {},
     "output_type": "execute_result"
    }
   ],
   "source": [
    "model_2_10 = KNNWithZScore(k=10, sim_options={'name': 'cosine', 'user_based': True})\n",
    "model_2_10.fit(trainset)\n",
    "test_pred_2_10 = model_2_10.test(testset)\n",
    "accuracy.rmse(test_pred_2_10, verbose=True)"
   ]
  },
  {
   "cell_type": "code",
   "execution_count": 30,
   "metadata": {},
   "outputs": [
    {
     "name": "stdout",
     "output_type": "stream",
     "text": [
      "Computing the cosine similarity matrix...\n",
      "Done computing similarity matrix.\n",
      "RMSE: 0.9437\n"
     ]
    },
    {
     "data": {
      "text/plain": [
       "0.9437384027043915"
      ]
     },
     "execution_count": 30,
     "metadata": {},
     "output_type": "execute_result"
    }
   ],
   "source": [
    "model_2_10 = KNNWithZScore(k=10, sim_options={'name': 'cosine', 'user_based': False})\n",
    "model_2_10.fit(trainset)\n",
    "test_pred_2_10 = model_2_10.test(testset)\n",
    "accuracy.rmse(test_pred_2_10, verbose=True)"
   ]
  },
  {
   "cell_type": "code",
   "execution_count": 31,
   "metadata": {},
   "outputs": [
    {
     "name": "stdout",
     "output_type": "stream",
     "text": [
      "Computing the cosine similarity matrix...\n",
      "Done computing similarity matrix.\n",
      "RMSE: 0.8962\n"
     ]
    },
    {
     "data": {
      "text/plain": [
       "0.8961628331155191"
      ]
     },
     "execution_count": 31,
     "metadata": {},
     "output_type": "execute_result"
    }
   ],
   "source": [
    "model_2_50 = KNNWithZScore(k=50, sim_options={'name': 'cosine', 'user_based': True})\n",
    "model_2_50.fit(trainset)\n",
    "test_pred_2_50 = model_2_50.test(testset)\n",
    "accuracy.rmse(test_pred_2_50, verbose=True)"
   ]
  },
  {
   "cell_type": "code",
   "execution_count": 32,
   "metadata": {},
   "outputs": [
    {
     "name": "stdout",
     "output_type": "stream",
     "text": [
      "Computing the cosine similarity matrix...\n",
      "Done computing similarity matrix.\n",
      "RMSE: 0.9065\n"
     ]
    },
    {
     "data": {
      "text/plain": [
       "0.9064640945626098"
      ]
     },
     "execution_count": 32,
     "metadata": {},
     "output_type": "execute_result"
    }
   ],
   "source": [
    "model_2_50 = KNNWithZScore(k=50, sim_options={'name': 'cosine', 'user_based': False})\n",
    "model_2_50.fit(trainset)\n",
    "test_pred_2_50 = model_2_50.test(testset)\n",
    "accuracy.rmse(test_pred_2_50, verbose=True)"
   ]
  },
  {
   "cell_type": "markdown",
   "metadata": {},
   "source": [
    "При 10 \"соседях\" и метрике сходства \"cosine\" RMSE = 0.9437384027043915 для Item-based  и RMSE = 0.9437384027043915 для user-based"
   ]
  },
  {
   "cell_type": "code",
   "execution_count": null,
   "metadata": {},
   "outputs": [],
   "source": []
  }
 ],
 "metadata": {
  "kernelspec": {
   "display_name": "Python 3",
   "language": "python",
   "name": "python3"
  },
  "language_info": {
   "codemirror_mode": {
    "name": "ipython",
    "version": 3
   },
   "file_extension": ".py",
   "mimetype": "text/x-python",
   "name": "python",
   "nbconvert_exporter": "python",
   "pygments_lexer": "ipython3",
   "version": "3.7.6"
  }
 },
 "nbformat": 4,
 "nbformat_minor": 4
}
