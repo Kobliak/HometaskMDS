{
 "cells": [
  {
   "cell_type": "code",
   "execution_count": 1,
   "metadata": {},
   "outputs": [],
   "source": [
    "from surprise import KNNWithMeans, KNNWithZScore, KNNBaseline\n",
    "from surprise import Dataset\n",
    "from surprise import accuracy\n",
    "from surprise import Reader\n",
    "from surprise.model_selection import train_test_split\n",
    "\n",
    "import pandas as pd"
   ]
  },
  {
   "cell_type": "code",
   "execution_count": 2,
   "metadata": {},
   "outputs": [],
   "source": [
    "movies = pd.read_csv('movies.csv')\n",
    "ratings = pd.read_csv('ratings.csv')"
   ]
  },
  {
   "cell_type": "code",
   "execution_count": null,
   "metadata": {},
   "outputs": [],
   "source": [
    "ratings.head()"
   ]
  },
  {
   "cell_type": "code",
   "execution_count": 5,
   "metadata": {},
   "outputs": [],
   "source": [
    "movies_with_ratings = movies.join(ratings.set_index('movieId'), on='movieId').reset_index(drop=True)\n",
    "movies_with_ratings.dropna(inplace=True)"
   ]
  },
  {
   "cell_type": "code",
   "execution_count": 6,
   "metadata": {},
   "outputs": [],
   "source": [
    "dataset = pd.DataFrame({\n",
    "    'uid': movies_with_ratings.userId,\n",
    "    'iid': movies_with_ratings.title,\n",
    "    'rating': movies_with_ratings.rating\n",
    "})"
   ]
  },
  {
   "cell_type": "code",
   "execution_count": 7,
   "metadata": {},
   "outputs": [],
   "source": [
    "reader = Reader(rating_scale=(ratings.rating.min(), ratings.rating.max()))\n",
    "data = Dataset.load_from_df(dataset, reader)"
   ]
  },
  {
   "cell_type": "code",
   "execution_count": 8,
   "metadata": {},
   "outputs": [
    {
     "name": "stdout",
     "output_type": "stream",
     "text": [
      "Wall time: 483 ms\n"
     ]
    }
   ],
   "source": [
    "%%time\n",
    "\n",
    "trainset, testset = train_test_split(data, test_size=.15)"
   ]
  },
  {
   "cell_type": "markdown",
   "metadata": {},
   "source": [
    "Посчитаем RMSE на тестовой выборке для двух значений количества соседей (10 и 50), для разных типов меры сходства и для рахных моделей"
   ]
  },
  {
   "cell_type": "markdown",
   "metadata": {},
   "source": [
    "Выберем лучшее значение RMSE для каждой модели"
   ]
  },
  {
   "cell_type": "markdown",
   "metadata": {},
   "source": [
    "1 - KNNWithMeans"
   ]
  },
  {
   "cell_type": "code",
   "execution_count": 9,
   "metadata": {},
   "outputs": [
    {
     "name": "stdout",
     "output_type": "stream",
     "text": [
      "Estimating biases using als...\n",
      "Computing the pearson_baseline similarity matrix...\n",
      "Done computing similarity matrix.\n",
      "RMSE: 0.8909\n",
      "Wall time: 7.34 s\n"
     ]
    },
    {
     "data": {
      "text/plain": [
       "0.8908792608189364"
      ]
     },
     "execution_count": 9,
     "metadata": {},
     "output_type": "execute_result"
    }
   ],
   "source": [
    "%%time\n",
    "\n",
    "model_1_10 = KNNWithMeans(k=10, sim_options={'name': 'pearson_baseline', 'user_based': True})\n",
    "model_1_10.fit(trainset)\n",
    "test_pred_1_10 = model_1_10.test(testset)\n",
    "accuracy.rmse(test_pred_1_10, verbose=True)"
   ]
  },
  {
   "cell_type": "code",
   "execution_count": 15,
   "metadata": {},
   "outputs": [
    {
     "name": "stdout",
     "output_type": "stream",
     "text": [
      "Estimating biases using als...\n",
      "Computing the pearson_baseline similarity matrix...\n",
      "Done computing similarity matrix.\n",
      "RMSE: 0.8858\n",
      "Wall time: 8.6 s\n"
     ]
    },
    {
     "data": {
      "text/plain": [
       "0.8857720693353685"
      ]
     },
     "execution_count": 15,
     "metadata": {},
     "output_type": "execute_result"
    }
   ],
   "source": [
    "%%time\n",
    "\n",
    "model_1_50 = KNNWithMeans(k=50, sim_options={'name': 'pearson_baseline', 'user_based': True})\n",
    "model_1_50.fit(trainset)\n",
    "test_pred_1_50 = model_1_50.test(testset)\n",
    "accuracy.rmse(test_pred_1_50, verbose=True)"
   ]
  },
  {
   "cell_type": "code",
   "execution_count": 10,
   "metadata": {},
   "outputs": [
    {
     "name": "stdout",
     "output_type": "stream",
     "text": [
      "Computing the pearson similarity matrix...\n",
      "Done computing similarity matrix.\n",
      "RMSE: 0.9015\n",
      "Wall time: 7.11 s\n"
     ]
    },
    {
     "data": {
      "text/plain": [
       "0.901541622768109"
      ]
     },
     "execution_count": 10,
     "metadata": {},
     "output_type": "execute_result"
    }
   ],
   "source": [
    "%%time\n",
    "\n",
    "model_1_10 = KNNWithMeans(k=10, sim_options={'name': 'pearson', 'user_based': True})\n",
    "model_1_10.fit(trainset)\n",
    "test_pred_1_10 = model_1_10.test(testset)\n",
    "accuracy.rmse(test_pred_1_10, verbose=True)"
   ]
  },
  {
   "cell_type": "code",
   "execution_count": 16,
   "metadata": {},
   "outputs": [
    {
     "name": "stdout",
     "output_type": "stream",
     "text": [
      "Computing the pearson similarity matrix...\n",
      "Done computing similarity matrix.\n",
      "RMSE: 0.8897\n",
      "Wall time: 8.82 s\n"
     ]
    },
    {
     "data": {
      "text/plain": [
       "0.8897190958377903"
      ]
     },
     "execution_count": 16,
     "metadata": {},
     "output_type": "execute_result"
    }
   ],
   "source": [
    "%%time\n",
    "\n",
    "model_1_50 = KNNWithMeans(k=50, sim_options={'name': 'pearson', 'user_based': True})\n",
    "model_1_50.fit(trainset)\n",
    "test_pred_1_50 = model_1_50.test(testset)\n",
    "accuracy.rmse(test_pred_1_50, verbose=True)"
   ]
  },
  {
   "cell_type": "code",
   "execution_count": 13,
   "metadata": {},
   "outputs": [
    {
     "name": "stdout",
     "output_type": "stream",
     "text": [
      "Computing the msd similarity matrix...\n",
      "Done computing similarity matrix.\n",
      "RMSE: 0.8994\n",
      "Wall time: 4.55 s\n"
     ]
    },
    {
     "data": {
      "text/plain": [
       "0.8993970547251896"
      ]
     },
     "execution_count": 13,
     "metadata": {},
     "output_type": "execute_result"
    }
   ],
   "source": [
    "%%time\n",
    "\n",
    "model_1_10 = KNNWithMeans(k=10, sim_options={'name': 'MSD', 'user_based': True})\n",
    "model_1_10.fit(trainset)\n",
    "test_pred_1_10 = model_1_10.test(testset)\n",
    "accuracy.rmse(test_pred_1_10, verbose=True)"
   ]
  },
  {
   "cell_type": "code",
   "execution_count": 17,
   "metadata": {},
   "outputs": [
    {
     "name": "stdout",
     "output_type": "stream",
     "text": [
      "Computing the msd similarity matrix...\n",
      "Done computing similarity matrix.\n",
      "RMSE: 0.8917\n",
      "Wall time: 6.41 s\n"
     ]
    },
    {
     "data": {
      "text/plain": [
       "0.8916927126963419"
      ]
     },
     "execution_count": 17,
     "metadata": {},
     "output_type": "execute_result"
    }
   ],
   "source": [
    "%%time\n",
    "\n",
    "model_1_50 = KNNWithMeans(k=50, sim_options={'name': 'MSD', 'user_based': True})\n",
    "model_1_50.fit(trainset)\n",
    "test_pred_1_50 = model_1_50.test(testset)\n",
    "accuracy.rmse(test_pred_1_50, verbose=True)"
   ]
  },
  {
   "cell_type": "code",
   "execution_count": 14,
   "metadata": {},
   "outputs": [
    {
     "name": "stdout",
     "output_type": "stream",
     "text": [
      "Computing the cosine similarity matrix...\n",
      "Done computing similarity matrix.\n",
      "RMSE: 0.9055\n",
      "Wall time: 6.55 s\n"
     ]
    },
    {
     "data": {
      "text/plain": [
       "0.9054817956549388"
      ]
     },
     "execution_count": 14,
     "metadata": {},
     "output_type": "execute_result"
    }
   ],
   "source": [
    "%%time\n",
    "\n",
    "model_1_10 = KNNWithMeans(k=10, sim_options={'name': 'cosine', 'user_based': True})\n",
    "model_1_10.fit(trainset)\n",
    "test_pred_1_10 = model_1_10.test(testset)\n",
    "accuracy.rmse(test_pred_1_10, verbose=True)"
   ]
  },
  {
   "cell_type": "code",
   "execution_count": 20,
   "metadata": {},
   "outputs": [
    {
     "name": "stdout",
     "output_type": "stream",
     "text": [
      "Computing the cosine similarity matrix...\n",
      "Done computing similarity matrix.\n",
      "RMSE: 0.9279\n",
      "Wall time: 1min 50s\n"
     ]
    },
    {
     "data": {
      "text/plain": [
       "0.9278865462572169"
      ]
     },
     "execution_count": 20,
     "metadata": {},
     "output_type": "execute_result"
    }
   ],
   "source": [
    "%%time\n",
    "\n",
    "model_1_10 = KNNWithMeans(k=10, sim_options={'name': 'cosine', 'user_based': False})\n",
    "model_1_10.fit(trainset)\n",
    "test_pred_1_10 = model_1_10.test(testset)\n",
    "accuracy.rmse(test_pred_1_10, verbose=True)"
   ]
  },
  {
   "cell_type": "code",
   "execution_count": 19,
   "metadata": {},
   "outputs": [
    {
     "name": "stdout",
     "output_type": "stream",
     "text": [
      "Computing the cosine similarity matrix...\n",
      "Done computing similarity matrix.\n",
      "RMSE: 0.8953\n",
      "Wall time: 7.95 s\n"
     ]
    },
    {
     "data": {
      "text/plain": [
       "0.8953335480231177"
      ]
     },
     "execution_count": 19,
     "metadata": {},
     "output_type": "execute_result"
    }
   ],
   "source": [
    "%%time\n",
    "\n",
    "model_1_50 = KNNWithMeans(k=50, sim_options={'name': 'cosine', 'user_based': True})\n",
    "model_1_50.fit(trainset)\n",
    "test_pred_1_50 = model_1_50.test(testset)\n",
    "accuracy.rmse(test_pred_1_50, verbose=True)"
   ]
  },
  {
   "cell_type": "code",
   "execution_count": 21,
   "metadata": {},
   "outputs": [
    {
     "name": "stdout",
     "output_type": "stream",
     "text": [
      "Computing the cosine similarity matrix...\n",
      "Done computing similarity matrix.\n",
      "RMSE: 0.8974\n"
     ]
    },
    {
     "data": {
      "text/plain": [
       "0.897416532096433"
      ]
     },
     "execution_count": 21,
     "metadata": {},
     "output_type": "execute_result"
    }
   ],
   "source": [
    "model_1_50 = KNNWithMeans(k=50, sim_options={'name': 'cosine', 'user_based': False})\n",
    "model_1_50.fit(trainset)\n",
    "test_pred_1_50 = model_1_50.test(testset)\n",
    "accuracy.rmse(test_pred_1_50, verbose=True)"
   ]
  },
  {
   "cell_type": "markdown",
   "metadata": {},
   "source": [
    "При 10 \"соседях\" и метрике сходства \"cosine\" RMSE = 0.9278865462572169 для Item-based  и RMSE = 0.9054817956549388 для user-based"
   ]
  },
  {
   "cell_type": "markdown",
   "metadata": {},
   "source": [
    "2 - KNNWithZScore"
   ]
  },
  {
   "cell_type": "code",
   "execution_count": 22,
   "metadata": {},
   "outputs": [
    {
     "name": "stdout",
     "output_type": "stream",
     "text": [
      "Estimating biases using als...\n",
      "Computing the pearson_baseline similarity matrix...\n",
      "Done computing similarity matrix.\n",
      "RMSE: 0.8897\n",
      "Wall time: 8.14 s\n"
     ]
    },
    {
     "data": {
      "text/plain": [
       "0.8896653108856911"
      ]
     },
     "execution_count": 22,
     "metadata": {},
     "output_type": "execute_result"
    }
   ],
   "source": [
    "%%time\n",
    "\n",
    "model_2_10 = KNNWithZScore(k=10, sim_options={'name': 'pearson_baseline', 'user_based': True})\n",
    "model_2_10.fit(trainset)\n",
    "test_pred_2_10 = model_2_10.test(testset)\n",
    "accuracy.rmse(test_pred_2_10, verbose=True)"
   ]
  },
  {
   "cell_type": "code",
   "execution_count": 27,
   "metadata": {},
   "outputs": [
    {
     "name": "stdout",
     "output_type": "stream",
     "text": [
      "Estimating biases using als...\n",
      "Computing the pearson_baseline similarity matrix...\n",
      "Done computing similarity matrix.\n",
      "RMSE: 0.8837\n"
     ]
    },
    {
     "data": {
      "text/plain": [
       "0.8836876752188128"
      ]
     },
     "execution_count": 27,
     "metadata": {},
     "output_type": "execute_result"
    }
   ],
   "source": [
    "model_2_50 = KNNWithZScore(k=50, sim_options={'name': 'pearson_baseline', 'user_based': True})\n",
    "model_2_50.fit(trainset)\n",
    "test_pred_2_50 = model_2_50.test(testset)\n",
    "accuracy.rmse(test_pred_2_50, verbose=True)"
   ]
  },
  {
   "cell_type": "code",
   "execution_count": 23,
   "metadata": {},
   "outputs": [
    {
     "name": "stdout",
     "output_type": "stream",
     "text": [
      "Computing the pearson similarity matrix...\n",
      "Done computing similarity matrix.\n",
      "RMSE: 0.8989\n"
     ]
    },
    {
     "data": {
      "text/plain": [
       "0.8989426038145667"
      ]
     },
     "execution_count": 23,
     "metadata": {},
     "output_type": "execute_result"
    }
   ],
   "source": [
    "model_2_10 = KNNWithZScore(k=10, sim_options={'name': 'pearson', 'user_based': True})\n",
    "model_2_10.fit(trainset)\n",
    "test_pred_2_10 = model_2_10.test(testset)\n",
    "accuracy.rmse(test_pred_2_10, verbose=True)"
   ]
  },
  {
   "cell_type": "code",
   "execution_count": 28,
   "metadata": {},
   "outputs": [
    {
     "name": "stdout",
     "output_type": "stream",
     "text": [
      "Computing the pearson similarity matrix...\n",
      "Done computing similarity matrix.\n",
      "RMSE: 0.8875\n"
     ]
    },
    {
     "data": {
      "text/plain": [
       "0.8875138936720168"
      ]
     },
     "execution_count": 28,
     "metadata": {},
     "output_type": "execute_result"
    }
   ],
   "source": [
    "model_2_50 = KNNWithZScore(k=50, sim_options={'name': 'pearson', 'user_based': True})\n",
    "model_2_50.fit(trainset)\n",
    "test_pred_2_50 = model_2_50.test(testset)\n",
    "accuracy.rmse(test_pred_2_50, verbose=True)"
   ]
  },
  {
   "cell_type": "code",
   "execution_count": 25,
   "metadata": {},
   "outputs": [
    {
     "name": "stdout",
     "output_type": "stream",
     "text": [
      "Computing the msd similarity matrix...\n",
      "Done computing similarity matrix.\n",
      "RMSE: 0.9034\n"
     ]
    },
    {
     "data": {
      "text/plain": [
       "0.9034430861177296"
      ]
     },
     "execution_count": 25,
     "metadata": {},
     "output_type": "execute_result"
    }
   ],
   "source": [
    "model_2_10 = KNNWithZScore(k=10, sim_options={'name': 'MSD', 'user_based': True})\n",
    "model_2_10.fit(trainset)\n",
    "test_pred_2_10 = model_2_10.test(testset)\n",
    "accuracy.rmse(test_pred_2_10, verbose=True)"
   ]
  },
  {
   "cell_type": "code",
   "execution_count": 29,
   "metadata": {},
   "outputs": [
    {
     "name": "stdout",
     "output_type": "stream",
     "text": [
      "Computing the msd similarity matrix...\n",
      "Done computing similarity matrix.\n",
      "RMSE: 0.8908\n"
     ]
    },
    {
     "data": {
      "text/plain": [
       "0.8907529624832639"
      ]
     },
     "execution_count": 29,
     "metadata": {},
     "output_type": "execute_result"
    }
   ],
   "source": [
    "model_2_50 = KNNWithZScore(k=50, sim_options={'name': 'MSD', 'user_based': True})\n",
    "model_2_50.fit(trainset)\n",
    "test_pred_2_50 = model_2_50.test(testset)\n",
    "accuracy.rmse(test_pred_2_50, verbose=True)"
   ]
  },
  {
   "cell_type": "code",
   "execution_count": 26,
   "metadata": {},
   "outputs": [
    {
     "name": "stdout",
     "output_type": "stream",
     "text": [
      "Computing the cosine similarity matrix...\n",
      "Done computing similarity matrix.\n",
      "RMSE: 0.9079\n"
     ]
    },
    {
     "data": {
      "text/plain": [
       "0.9079198472906613"
      ]
     },
     "execution_count": 26,
     "metadata": {},
     "output_type": "execute_result"
    }
   ],
   "source": [
    "model_2_10 = KNNWithZScore(k=10, sim_options={'name': 'cosine', 'user_based': True})\n",
    "model_2_10.fit(trainset)\n",
    "test_pred_2_10 = model_2_10.test(testset)\n",
    "accuracy.rmse(test_pred_2_10, verbose=True)"
   ]
  },
  {
   "cell_type": "code",
   "execution_count": 31,
   "metadata": {},
   "outputs": [
    {
     "name": "stdout",
     "output_type": "stream",
     "text": [
      "Computing the cosine similarity matrix...\n",
      "Done computing similarity matrix.\n",
      "RMSE: 0.9342\n"
     ]
    },
    {
     "data": {
      "text/plain": [
       "0.9342186109534091"
      ]
     },
     "execution_count": 31,
     "metadata": {},
     "output_type": "execute_result"
    }
   ],
   "source": [
    "model_2_10 = KNNWithZScore(k=10, sim_options={'name': 'cosine', 'user_based': False})\n",
    "model_2_10.fit(trainset)\n",
    "test_pred_2_10 = model_2_10.test(testset)\n",
    "accuracy.rmse(test_pred_2_10, verbose=True)"
   ]
  },
  {
   "cell_type": "code",
   "execution_count": 30,
   "metadata": {},
   "outputs": [
    {
     "name": "stdout",
     "output_type": "stream",
     "text": [
      "Computing the cosine similarity matrix...\n",
      "Done computing similarity matrix.\n",
      "RMSE: 0.8926\n"
     ]
    },
    {
     "data": {
      "text/plain": [
       "0.8926422669251445"
      ]
     },
     "execution_count": 30,
     "metadata": {},
     "output_type": "execute_result"
    }
   ],
   "source": [
    "model_2_50 = KNNWithZScore(k=50, sim_options={'name': 'cosine', 'user_based': True})\n",
    "model_2_50.fit(trainset)\n",
    "test_pred_2_50 = model_2_50.test(testset)\n",
    "accuracy.rmse(test_pred_2_50, verbose=True)"
   ]
  },
  {
   "cell_type": "code",
   "execution_count": 32,
   "metadata": {},
   "outputs": [
    {
     "name": "stdout",
     "output_type": "stream",
     "text": [
      "Computing the cosine similarity matrix...\n",
      "Done computing similarity matrix.\n",
      "RMSE: 0.9011\n"
     ]
    },
    {
     "data": {
      "text/plain": [
       "0.9010980392320191"
      ]
     },
     "execution_count": 32,
     "metadata": {},
     "output_type": "execute_result"
    }
   ],
   "source": [
    "model_2_50 = KNNWithZScore(k=50, sim_options={'name': 'cosine', 'user_based': False})\n",
    "model_2_50.fit(trainset)\n",
    "test_pred_2_50 = model_2_50.test(testset)\n",
    "accuracy.rmse(test_pred_2_50, verbose=True)"
   ]
  },
  {
   "cell_type": "markdown",
   "metadata": {},
   "source": [
    "При 10 \"соседях\" и метрике сходства \"cosine\" RMSE = 0.9342186109534091 для Item-based  и RMSE = 0.9079198472906613 для user-based"
   ]
  },
  {
   "cell_type": "markdown",
   "metadata": {},
   "source": [
    "3 - KNNBaseline"
   ]
  },
  {
   "cell_type": "code",
   "execution_count": 33,
   "metadata": {},
   "outputs": [
    {
     "name": "stdout",
     "output_type": "stream",
     "text": [
      "Estimating biases using als...\n",
      "Computing the pearson_baseline similarity matrix...\n",
      "Done computing similarity matrix.\n",
      "RMSE: 0.8736\n"
     ]
    },
    {
     "data": {
      "text/plain": [
       "0.8736499824191487"
      ]
     },
     "execution_count": 33,
     "metadata": {},
     "output_type": "execute_result"
    }
   ],
   "source": [
    "model_3_10 = KNNBaseline(k=10, sim_options={'name': 'pearson_baseline', 'user_based': True})\n",
    "model_3_10.fit(trainset)\n",
    "test_pred_3_10 = model_3_10.test(testset)\n",
    "accuracy.rmse(test_pred_3_10, verbose=True)"
   ]
  },
  {
   "cell_type": "code",
   "execution_count": 37,
   "metadata": {},
   "outputs": [
    {
     "name": "stdout",
     "output_type": "stream",
     "text": [
      "Estimating biases using als...\n",
      "Computing the pearson_baseline similarity matrix...\n",
      "Done computing similarity matrix.\n",
      "RMSE: 0.8682\n"
     ]
    },
    {
     "data": {
      "text/plain": [
       "0.8682241905626099"
      ]
     },
     "execution_count": 37,
     "metadata": {},
     "output_type": "execute_result"
    }
   ],
   "source": [
    "model_3_50 = KNNBaseline(k=50, sim_options={'name': 'pearson_baseline', 'user_based': True})\n",
    "model_3_50.fit(trainset)\n",
    "test_pred_3_50 = model_3_50.test(testset)\n",
    "accuracy.rmse(test_pred_3_50, verbose=True)"
   ]
  },
  {
   "cell_type": "code",
   "execution_count": 34,
   "metadata": {},
   "outputs": [
    {
     "name": "stdout",
     "output_type": "stream",
     "text": [
      "Estimating biases using als...\n",
      "Computing the pearson similarity matrix...\n",
      "Done computing similarity matrix.\n",
      "RMSE: 0.8829\n"
     ]
    },
    {
     "data": {
      "text/plain": [
       "0.8829292723442459"
      ]
     },
     "execution_count": 34,
     "metadata": {},
     "output_type": "execute_result"
    }
   ],
   "source": [
    "model_3_10 = KNNBaseline(k=10, sim_options={'name': 'pearson', 'user_based': True})\n",
    "model_3_10.fit(trainset)\n",
    "test_pred_3_10 = model_3_10.test(testset)\n",
    "accuracy.rmse(test_pred_3_10, verbose=True)"
   ]
  },
  {
   "cell_type": "code",
   "execution_count": 41,
   "metadata": {},
   "outputs": [
    {
     "name": "stdout",
     "output_type": "stream",
     "text": [
      "Estimating biases using als...\n",
      "Computing the pearson similarity matrix...\n",
      "Done computing similarity matrix.\n",
      "RMSE: 0.9085\n"
     ]
    },
    {
     "data": {
      "text/plain": [
       "0.9085308187527242"
      ]
     },
     "execution_count": 41,
     "metadata": {},
     "output_type": "execute_result"
    }
   ],
   "source": [
    "model_3_10 = KNNBaseline(k=10, sim_options={'name': 'pearson', 'user_based': False})\n",
    "model_3_10.fit(trainset)\n",
    "test_pred_3_10 = model_3_10.test(testset)\n",
    "accuracy.rmse(test_pred_3_10, verbose=True)"
   ]
  },
  {
   "cell_type": "code",
   "execution_count": 38,
   "metadata": {},
   "outputs": [
    {
     "name": "stdout",
     "output_type": "stream",
     "text": [
      "Estimating biases using als...\n",
      "Computing the pearson similarity matrix...\n",
      "Done computing similarity matrix.\n",
      "RMSE: 0.8713\n"
     ]
    },
    {
     "data": {
      "text/plain": [
       "0.8712643206684727"
      ]
     },
     "execution_count": 38,
     "metadata": {},
     "output_type": "execute_result"
    }
   ],
   "source": [
    "model_3_50 = KNNBaseline(k=50, sim_options={'name': 'pearson', 'user_based': True})\n",
    "model_3_50.fit(trainset)\n",
    "test_pred_3_50 = model_3_50.test(testset)\n",
    "accuracy.rmse(test_pred_3_50, verbose=True)"
   ]
  },
  {
   "cell_type": "code",
   "execution_count": 35,
   "metadata": {},
   "outputs": [
    {
     "name": "stdout",
     "output_type": "stream",
     "text": [
      "Estimating biases using als...\n",
      "Computing the msd similarity matrix...\n",
      "Done computing similarity matrix.\n",
      "RMSE: 0.8759\n"
     ]
    },
    {
     "data": {
      "text/plain": [
       "0.8758777767194426"
      ]
     },
     "execution_count": 35,
     "metadata": {},
     "output_type": "execute_result"
    }
   ],
   "source": [
    "model_3_10 = KNNBaseline(k=10, sim_options={'name': 'MSD', 'user_based': True})\n",
    "model_3_10.fit(trainset)\n",
    "test_pred_3_10 = model_3_10.test(testset)\n",
    "accuracy.rmse(test_pred_3_10, verbose=True)"
   ]
  },
  {
   "cell_type": "code",
   "execution_count": 39,
   "metadata": {},
   "outputs": [
    {
     "name": "stdout",
     "output_type": "stream",
     "text": [
      "Estimating biases using als...\n",
      "Computing the msd similarity matrix...\n",
      "Done computing similarity matrix.\n",
      "RMSE: 0.8714\n"
     ]
    },
    {
     "data": {
      "text/plain": [
       "0.871357769406199"
      ]
     },
     "execution_count": 39,
     "metadata": {},
     "output_type": "execute_result"
    }
   ],
   "source": [
    "model_3_50 = KNNBaseline(k=50, sim_options={'name': 'MSD', 'user_based': True})\n",
    "model_3_50.fit(trainset)\n",
    "test_pred_3_50 = model_3_50.test(testset)\n",
    "accuracy.rmse(test_pred_3_50, verbose=True)"
   ]
  },
  {
   "cell_type": "code",
   "execution_count": 36,
   "metadata": {},
   "outputs": [
    {
     "name": "stdout",
     "output_type": "stream",
     "text": [
      "Estimating biases using als...\n",
      "Computing the cosine similarity matrix...\n",
      "Done computing similarity matrix.\n",
      "RMSE: 0.8814\n"
     ]
    },
    {
     "data": {
      "text/plain": [
       "0.8814488560801566"
      ]
     },
     "execution_count": 36,
     "metadata": {},
     "output_type": "execute_result"
    }
   ],
   "source": [
    "model_3_10 = KNNBaseline(k=10, sim_options={'name': 'cosine', 'user_based': True})\n",
    "model_3_10.fit(trainset)\n",
    "test_pred_3_10 = model_3_10.test(testset)\n",
    "accuracy.rmse(test_pred_3_10, verbose=True)"
   ]
  },
  {
   "cell_type": "code",
   "execution_count": 40,
   "metadata": {},
   "outputs": [
    {
     "name": "stdout",
     "output_type": "stream",
     "text": [
      "Estimating biases using als...\n",
      "Computing the cosine similarity matrix...\n",
      "Done computing similarity matrix.\n",
      "RMSE: 0.8751\n"
     ]
    },
    {
     "data": {
      "text/plain": [
       "0.8751447941574624"
      ]
     },
     "execution_count": 40,
     "metadata": {},
     "output_type": "execute_result"
    }
   ],
   "source": [
    "model_3_50 = KNNBaseline(k=50, sim_options={'name': 'cosine', 'user_based': True})\n",
    "model_3_50.fit(trainset)\n",
    "test_pred_3_50 = model_3_50.test(testset)\n",
    "accuracy.rmse(test_pred_3_50, verbose=True)"
   ]
  },
  {
   "cell_type": "code",
   "execution_count": 42,
   "metadata": {},
   "outputs": [
    {
     "name": "stdout",
     "output_type": "stream",
     "text": [
      "Estimating biases using als...\n",
      "Computing the cosine similarity matrix...\n",
      "Done computing similarity matrix.\n",
      "RMSE: 0.8862\n"
     ]
    },
    {
     "data": {
      "text/plain": [
       "0.8862252509096857"
      ]
     },
     "execution_count": 42,
     "metadata": {},
     "output_type": "execute_result"
    }
   ],
   "source": [
    "model_3_50 = KNNBaseline(k=50, sim_options={'name': 'cosine', 'user_based': False})\n",
    "model_3_50.fit(trainset)\n",
    "test_pred_3_50 = model_3_50.test(testset)\n",
    "accuracy.rmse(test_pred_3_50, verbose=True)"
   ]
  },
  {
   "cell_type": "markdown",
   "metadata": {},
   "source": [
    "При 10 \"соседях\" и метрике сходства \"pearson\" RMSE = 0.9085308187527242 для Item-based  и RMSE = 0.8829292723442459 для user-based"
   ]
  },
  {
   "cell_type": "code",
   "execution_count": null,
   "metadata": {},
   "outputs": [],
   "source": []
  }
 ],
 "metadata": {
  "kernelspec": {
   "display_name": "Python 3",
   "language": "python",
   "name": "python3"
  },
  "language_info": {
   "codemirror_mode": {
    "name": "ipython",
    "version": 3
   },
   "file_extension": ".py",
   "mimetype": "text/x-python",
   "name": "python",
   "nbconvert_exporter": "python",
   "pygments_lexer": "ipython3",
   "version": "3.7.6"
  }
 },
 "nbformat": 4,
 "nbformat_minor": 4
}
