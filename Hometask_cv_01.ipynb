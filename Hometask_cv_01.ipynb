{
 "cells": [
  {
   "cell_type": "code",
   "execution_count": 6,
   "metadata": {
    "id": "3CQeH9LjD6Ac"
   },
   "outputs": [],
   "source": [
    "import numpy as np\n",
    "import tensorflow as tf\n",
    "from sklearn.metrics import accuracy_score, confusion_matrix"
   ]
  },
  {
   "cell_type": "code",
   "execution_count": 14,
   "metadata": {
    "id": "VBRdgUuhG0iN"
   },
   "outputs": [],
   "source": [
    "train_generator = keras.preprocessing.image.ImageDataGenerator(rescale=1./255., validation_split=0.15)\n",
    "val_generator = keras.preprocessing.image.ImageDataGenerator(rescale=1./255.)"
   ]
  },
  {
   "cell_type": "code",
   "execution_count": 17,
   "metadata": {
    "colab": {
     "base_uri": "https://localhost:8080/"
    },
    "id": "Abi0ojfQG0k_",
    "outputId": "6f70f352-ac05-4e99-d26f-a83cd8e90d8a"
   },
   "outputs": [
    {
     "name": "stdout",
     "output_type": "stream",
     "text": [
      "Found 208 images belonging to 2 classes.\n",
      "Found 36 images belonging to 2 classes.\n",
      "Found 153 images belonging to 2 classes.\n"
     ]
    }
   ],
   "source": [
    "train = train_generator.flow_from_directory('/content/drive/MyDrive/Colab Notebooks/Data/train', \n",
    "                                            target_size=(224, 224), batch_size=32, class_mode='binary',\n",
    "                                            subset='training', seed=42)\n",
    "test = train_generator.flow_from_directory('/content/drive/MyDrive/Colab Notebooks/Data/train', \n",
    "                                          target_size=(224, 224), batch_size=32, class_mode='binary',\n",
    "                                          subset='validation', seed=42)\n",
    "val = val_generator.flow_from_directory('/content/drive/MyDrive/Colab Notebooks/Data/val', \n",
    "                                        target_size=(224, 224), batch_size=32, class_mode='binary')"
   ]
  },
  {
   "cell_type": "code",
   "execution_count": 19,
   "metadata": {
    "id": "Gbby0U2kM5at"
   },
   "outputs": [],
   "source": [
    "x_val = np.concatenate([val.next()[0] for i in range(val.__len__())])\n",
    "y_val = np.concatenate([val.next()[1] for i in range(val.__len__())])"
   ]
  },
  {
   "cell_type": "code",
   "execution_count": 23,
   "metadata": {
    "id": "uwdlIjynG0n5"
   },
   "outputs": [],
   "source": [
    "model_1 = tf.keras.models.Sequential([\n",
    "    tf.keras.layers.Conv2D(filters=6,\n",
    "                           kernel_size=(3, 3),\n",
    "                           padding='same',\n",
    "                           activation='relu',\n",
    "                           input_shape=(224, 224, 3)),\n",
    "    tf.keras.layers.MaxPool2D(pool_size=(2, 2), padding='valid'),\n",
    "    tf.keras.layers.Conv2D(filters=16, \n",
    "                           kernel_size=(5, 5),\n",
    "                           padding='same',\n",
    "                           activation='relu'),\n",
    "    tf.keras.layers.MaxPool2D(pool_size=(2, 2), padding='valid'),\n",
    "    tf.keras.layers.Flatten(),\n",
    "    tf.keras.layers.Dense(32, activation='relu'),\n",
    "    tf.keras.layers.Dense(1, activation='sigmoid')]\n",
    ")"
   ]
  },
  {
   "cell_type": "code",
   "execution_count": 25,
   "metadata": {
    "colab": {
     "base_uri": "https://localhost:8080/"
    },
    "id": "0S-SXS6tMdRa",
    "outputId": "5e10f5fe-8091-45d3-f2bc-c300c577a00b"
   },
   "outputs": [
    {
     "name": "stdout",
     "output_type": "stream",
     "text": [
      "Model: \"sequential\"\n",
      "_________________________________________________________________\n",
      "Layer (type)                 Output Shape              Param #   \n",
      "=================================================================\n",
      "conv2d (Conv2D)              (None, 224, 224, 6)       168       \n",
      "_________________________________________________________________\n",
      "max_pooling2d (MaxPooling2D) (None, 112, 112, 6)       0         \n",
      "_________________________________________________________________\n",
      "conv2d_1 (Conv2D)            (None, 112, 112, 16)      2416      \n",
      "_________________________________________________________________\n",
      "max_pooling2d_1 (MaxPooling2 (None, 56, 56, 16)        0         \n",
      "_________________________________________________________________\n",
      "flatten (Flatten)            (None, 50176)             0         \n",
      "_________________________________________________________________\n",
      "dense (Dense)                (None, 32)                1605664   \n",
      "_________________________________________________________________\n",
      "dense_1 (Dense)              (None, 1)                 33        \n",
      "=================================================================\n",
      "Total params: 1,608,281\n",
      "Trainable params: 1,608,281\n",
      "Non-trainable params: 0\n",
      "_________________________________________________________________\n",
      "Epoch 1/15\n",
      "7/7 [==============================] - 9s 1s/step - loss: 0.4350 - accuracy: 0.8858 - val_loss: 0.8019 - val_accuracy: 0.5278\n",
      "Epoch 2/15\n",
      "7/7 [==============================] - 8s 1s/step - loss: 0.2049 - accuracy: 0.9699 - val_loss: 0.5986 - val_accuracy: 0.6944\n",
      "Epoch 3/15\n",
      "7/7 [==============================] - 8s 1s/step - loss: 0.2181 - accuracy: 0.9798 - val_loss: 0.5807 - val_accuracy: 0.6667\n",
      "Epoch 4/15\n",
      "7/7 [==============================] - 8s 1s/step - loss: 0.1745 - accuracy: 0.9801 - val_loss: 0.5698 - val_accuracy: 0.6389\n",
      "Epoch 5/15\n",
      "7/7 [==============================] - 8s 1s/step - loss: 0.0900 - accuracy: 0.9981 - val_loss: 0.5783 - val_accuracy: 0.6667\n",
      "Epoch 6/15\n",
      "7/7 [==============================] - 8s 1s/step - loss: 0.0799 - accuracy: 1.0000 - val_loss: 0.6109 - val_accuracy: 0.6389\n",
      "Epoch 7/15\n",
      "7/7 [==============================] - 8s 1s/step - loss: 0.0637 - accuracy: 1.0000 - val_loss: 0.5572 - val_accuracy: 0.7222\n",
      "Epoch 8/15\n",
      "7/7 [==============================] - 8s 1s/step - loss: 0.0339 - accuracy: 1.0000 - val_loss: 0.5383 - val_accuracy: 0.7222\n",
      "Epoch 9/15\n",
      "7/7 [==============================] - 8s 1s/step - loss: 0.0211 - accuracy: 1.0000 - val_loss: 0.5511 - val_accuracy: 0.7222\n",
      "Epoch 10/15\n",
      "7/7 [==============================] - 8s 1s/step - loss: 0.0140 - accuracy: 1.0000 - val_loss: 0.5569 - val_accuracy: 0.7222\n",
      "Epoch 11/15\n",
      "7/7 [==============================] - 8s 1s/step - loss: 0.0096 - accuracy: 1.0000 - val_loss: 0.5674 - val_accuracy: 0.7222\n",
      "Epoch 12/15\n",
      "7/7 [==============================] - 8s 1s/step - loss: 0.0078 - accuracy: 1.0000 - val_loss: 0.6142 - val_accuracy: 0.6389\n",
      "Epoch 13/15\n",
      "7/7 [==============================] - 8s 1s/step - loss: 0.0057 - accuracy: 1.0000 - val_loss: 0.5885 - val_accuracy: 0.7222\n",
      "Epoch 14/15\n",
      "7/7 [==============================] - 8s 1s/step - loss: 0.0049 - accuracy: 1.0000 - val_loss: 0.6091 - val_accuracy: 0.6667\n",
      "Epoch 15/15\n",
      "7/7 [==============================] - 8s 1s/step - loss: 0.0045 - accuracy: 1.0000 - val_loss: 0.6365 - val_accuracy: 0.6389\n"
     ]
    },
    {
     "data": {
      "text/plain": [
       "<tensorflow.python.keras.callbacks.History at 0x7f18e85bbe10>"
      ]
     },
     "execution_count": 25,
     "metadata": {
      "tags": []
     },
     "output_type": "execute_result"
    }
   ],
   "source": [
    "model_1.compile(optimizer='adam', loss='binary_crossentropy', metrics=['accuracy'])\n",
    "model_1.summary()\n",
    "model_1.fit(train, validation_data=test, epochs=15)"
   ]
  },
  {
   "cell_type": "markdown",
   "metadata": {
    "id": "MueZusUhpPcL"
   },
   "source": [
    "Посчитаем параметры модели"
   ]
  },
  {
   "cell_type": "code",
   "execution_count": 32,
   "metadata": {
    "colab": {
     "base_uri": "https://localhost:8080/"
    },
    "id": "E9m9df3eO5DN",
    "outputId": "3ff680b2-0626-4115-f308-66ab85909166"
   },
   "outputs": [
    {
     "name": "stdout",
     "output_type": "stream",
     "text": [
      "Accuracy: 0.43790849673202614\n",
      "Confusion matrix\n",
      "[[40 29]\n",
      " [57 27]]\n"
     ]
    }
   ],
   "source": [
    "y_pred_1 = model_1.predict(x_val).round()\n",
    "print(f'Accuracy: {accuracy_score(y_val, y_pred_1)}')\n",
    "print('Confusion matrix')\n",
    "print(confusion_matrix(y_val, y_pred_1))"
   ]
  },
  {
   "cell_type": "markdown",
   "metadata": {
    "id": "KwkGkofSoFBc"
   },
   "source": [
    "Получили слабенький результат, \n",
    "попробуем улучшить с помощью батч-нормализации"
   ]
  },
  {
   "cell_type": "code",
   "execution_count": 30,
   "metadata": {
    "id": "2SpZVFS2QpUt"
   },
   "outputs": [],
   "source": [
    "model_2 = tf.keras.models.Sequential([\n",
    "    tf.keras.layers.Input(shape=(224, 224, 3)),\n",
    "    tf.keras.layers.BatchNormalization(),\n",
    "    tf.keras.layers.Conv2D(filters=6,\n",
    "                           kernel_size=(3, 3),\n",
    "                           padding='same',\n",
    "                           activation='relu'),\n",
    "    tf.keras.layers.MaxPool2D(pool_size=(2, 2), padding='valid'),\n",
    "    tf.keras.layers.BatchNormalization(),\n",
    "    tf.keras.layers.Conv2D(filters=16, \n",
    "                           kernel_size=(5, 5),\n",
    "                           padding='same',\n",
    "                           activation='relu'),\n",
    "    tf.keras.layers.MaxPool2D(pool_size=(2, 2), padding='valid'),\n",
    "    tf.keras.layers.BatchNormalization(),\n",
    "    tf.keras.layers.Flatten(),\n",
    "    tf.keras.layers.Dense(32, activation='relu'),\n",
    "    tf.keras.layers.Dense(1, activation='sigmoid')]\n",
    ")"
   ]
  },
  {
   "cell_type": "code",
   "execution_count": 31,
   "metadata": {
    "colab": {
     "base_uri": "https://localhost:8080/"
    },
    "id": "vyiCr_ecQpXd",
    "outputId": "c59c3fd2-7e66-4985-e727-576f8af2b5e5"
   },
   "outputs": [
    {
     "name": "stdout",
     "output_type": "stream",
     "text": [
      "Model: \"sequential_1\"\n",
      "_________________________________________________________________\n",
      "Layer (type)                 Output Shape              Param #   \n",
      "=================================================================\n",
      "batch_normalization (BatchNo (None, 224, 224, 3)       12        \n",
      "_________________________________________________________________\n",
      "conv2d_2 (Conv2D)            (None, 224, 224, 6)       168       \n",
      "_________________________________________________________________\n",
      "max_pooling2d_2 (MaxPooling2 (None, 112, 112, 6)       0         \n",
      "_________________________________________________________________\n",
      "batch_normalization_1 (Batch (None, 112, 112, 6)       24        \n",
      "_________________________________________________________________\n",
      "conv2d_3 (Conv2D)            (None, 112, 112, 16)      2416      \n",
      "_________________________________________________________________\n",
      "max_pooling2d_3 (MaxPooling2 (None, 56, 56, 16)        0         \n",
      "_________________________________________________________________\n",
      "batch_normalization_2 (Batch (None, 56, 56, 16)        64        \n",
      "_________________________________________________________________\n",
      "flatten_1 (Flatten)          (None, 50176)             0         \n",
      "_________________________________________________________________\n",
      "dense_2 (Dense)              (None, 32)                1605664   \n",
      "_________________________________________________________________\n",
      "dense_3 (Dense)              (None, 1)                 33        \n",
      "=================================================================\n",
      "Total params: 1,608,381\n",
      "Trainable params: 1,608,331\n",
      "Non-trainable params: 50\n",
      "_________________________________________________________________\n",
      "Epoch 1/15\n",
      "7/7 [==============================] - 12s 2s/step - loss: 2.2340 - accuracy: 0.5072 - val_loss: 1.0645 - val_accuracy: 0.5278\n",
      "Epoch 2/15\n",
      "7/7 [==============================] - 11s 2s/step - loss: 1.4758 - accuracy: 0.7501 - val_loss: 0.7081 - val_accuracy: 0.5000\n",
      "Epoch 3/15\n",
      "7/7 [==============================] - 11s 2s/step - loss: 0.6583 - accuracy: 0.8312 - val_loss: 0.6911 - val_accuracy: 0.5556\n",
      "Epoch 4/15\n",
      "7/7 [==============================] - 11s 2s/step - loss: 0.2145 - accuracy: 0.9239 - val_loss: 0.7289 - val_accuracy: 0.5278\n",
      "Epoch 5/15\n",
      "7/7 [==============================] - 11s 2s/step - loss: 0.1053 - accuracy: 0.9790 - val_loss: 1.3561 - val_accuracy: 0.5278\n",
      "Epoch 6/15\n",
      "7/7 [==============================] - 11s 2s/step - loss: 0.0352 - accuracy: 0.9853 - val_loss: 1.5169 - val_accuracy: 0.5278\n",
      "Epoch 7/15\n",
      "7/7 [==============================] - 11s 2s/step - loss: 0.0256 - accuracy: 0.9821 - val_loss: 1.3129 - val_accuracy: 0.4722\n",
      "Epoch 8/15\n",
      "7/7 [==============================] - 11s 2s/step - loss: 0.0141 - accuracy: 0.9941 - val_loss: 1.2984 - val_accuracy: 0.5000\n",
      "Epoch 9/15\n",
      "7/7 [==============================] - 11s 2s/step - loss: 0.0201 - accuracy: 0.9873 - val_loss: 1.2989 - val_accuracy: 0.5000\n",
      "Epoch 10/15\n",
      "7/7 [==============================] - 11s 2s/step - loss: 0.0248 - accuracy: 0.9846 - val_loss: 1.2996 - val_accuracy: 0.4722\n",
      "Epoch 11/15\n",
      "7/7 [==============================] - 11s 2s/step - loss: 0.0149 - accuracy: 0.9905 - val_loss: 1.3348 - val_accuracy: 0.4722\n",
      "Epoch 12/15\n",
      "7/7 [==============================] - 11s 1s/step - loss: 0.0216 - accuracy: 1.0000 - val_loss: 1.3456 - val_accuracy: 0.4722\n",
      "Epoch 13/15\n",
      "7/7 [==============================] - 11s 2s/step - loss: 0.0086 - accuracy: 1.0000 - val_loss: 1.3232 - val_accuracy: 0.4722\n",
      "Epoch 14/15\n",
      "7/7 [==============================] - 11s 1s/step - loss: 0.0188 - accuracy: 1.0000 - val_loss: 1.2948 - val_accuracy: 0.4722\n",
      "Epoch 15/15\n",
      "7/7 [==============================] - 11s 1s/step - loss: 0.0116 - accuracy: 0.9981 - val_loss: 1.2629 - val_accuracy: 0.4167\n"
     ]
    }
   ],
   "source": [
    "model_2.compile(optimizer='adam', loss='binary_crossentropy', metrics=['accuracy'])\n",
    "model_2.summary()\n",
    "model_2.fit(train, validation_data=test, epochs=15);"
   ]
  },
  {
   "cell_type": "markdown",
   "metadata": {
    "id": "vdiK8-JRpI29"
   },
   "source": [
    "Посчитаем параметры модели"
   ]
  },
  {
   "cell_type": "code",
   "execution_count": 33,
   "metadata": {
    "colab": {
     "base_uri": "https://localhost:8080/"
    },
    "id": "2_5UPr9tQpcC",
    "outputId": "8c6a7b85-69c9-4969-8784-7a38176471f4"
   },
   "outputs": [
    {
     "name": "stdout",
     "output_type": "stream",
     "text": [
      "Accuracy: 0.5359477124183006\n",
      "Confusion matrix\n",
      "[[25 44]\n",
      " [27 57]]\n"
     ]
    }
   ],
   "source": [
    "y_pred_2 = model_2.predict(x_val).round()\n",
    "print(f'Accuracy: {accuracy_score(y_val, y_pred_2)}')\n",
    "print('Confusion matrix')\n",
    "print(confusion_matrix(y_val, y_pred_2))"
   ]
  },
  {
   "cell_type": "markdown",
   "metadata": {
    "id": "SeX3rLy6pepb"
   },
   "source": [
    "Батч_нормализация чуть улучшила результаты модели"
   ]
  },
  {
   "cell_type": "markdown",
   "metadata": {
    "id": "XBspY0smpsZk"
   },
   "source": [
    "Обучим ResNet 50 со случайными весами"
   ]
  },
  {
   "cell_type": "code",
   "execution_count": 34,
   "metadata": {
    "colab": {
     "base_uri": "https://localhost:8080/"
    },
    "id": "e_pqfv4vQph1",
    "outputId": "f7e3a481-eb63-4a27-be86-adccf1cd0705"
   },
   "outputs": [
    {
     "name": "stdout",
     "output_type": "stream",
     "text": [
      "Found 208 images belonging to 2 classes.\n",
      "Found 36 images belonging to 2 classes.\n",
      "Found 153 images belonging to 2 classes.\n"
     ]
    }
   ],
   "source": [
    "train_generator_RS = tf.keras.preprocessing.image.ImageDataGenerator(validation_split=0.15)\n",
    "val_generator_RS = tf.keras.preprocessing.image.ImageDataGenerator()\n",
    "\n",
    "train_RS = train_generator_RS.flow_from_directory('/content/drive/MyDrive/Colab Notebooks/Data/train', \n",
    "                                               target_size=(224, 224), batch_size=32, class_mode='binary', subset='training', seed=42)\n",
    "test_RS = train_generator_RS.flow_from_directory('/content/drive/MyDrive/Colab Notebooks/Data/train', \n",
    "                                              target_size=(224, 224), batch_size=32, class_mode='binary', subset='validation', seed=42)\n",
    "val_RS = val_generator_RS.flow_from_directory('/content/drive/MyDrive/Colab Notebooks/Data/val', \n",
    "                                           target_size=(224, 224), batch_size=32, class_mode='binary')\n",
    "\n",
    "x_val_RS = np.concatenate([val_RS.next()[0] for i in range(val_RS.__len__())])\n",
    "y_val_RS = np.concatenate([val_RS.next()[1] for i in range(val_RS.__len__())])"
   ]
  },
  {
   "cell_type": "code",
   "execution_count": 36,
   "metadata": {
    "colab": {
     "base_uri": "https://localhost:8080/"
    },
    "id": "unhrWUJpS4wy",
    "outputId": "a705759f-e3a3-4d6d-aa59-038ec9831490"
   },
   "outputs": [
    {
     "name": "stdout",
     "output_type": "stream",
     "text": [
      "Model: \"model\"\n",
      "_________________________________________________________________\n",
      "Layer (type)                 Output Shape              Param #   \n",
      "=================================================================\n",
      "input_2 (InputLayer)         [(None, 224, 224, 3)]     0         \n",
      "_________________________________________________________________\n",
      "tf.cast (TFOpLambda)         (None, 224, 224, 3)       0         \n",
      "_________________________________________________________________\n",
      "tf.__operators__.getitem (Sl (None, 224, 224, 3)       0         \n",
      "_________________________________________________________________\n",
      "tf.nn.bias_add (TFOpLambda)  (None, 224, 224, 3)       0         \n",
      "_________________________________________________________________\n",
      "resnet50 (Functional)        (None, None, None, 2048)  23587712  \n",
      "_________________________________________________________________\n",
      "flatten_2 (Flatten)          (None, 100352)            0         \n",
      "_________________________________________________________________\n",
      "dense_4 (Dense)              (None, 1)                 100353    \n",
      "=================================================================\n",
      "Total params: 23,688,065\n",
      "Trainable params: 23,634,945\n",
      "Non-trainable params: 53,120\n",
      "_________________________________________________________________\n",
      "Epoch 1/15\n",
      "7/7 [==============================] - 156s 21s/step - loss: 14.1682 - accuracy: 0.4867 - val_loss: 2569.6826 - val_accuracy: 0.5556\n",
      "Epoch 2/15\n",
      "7/7 [==============================] - 144s 20s/step - loss: 3.7353 - accuracy: 0.4997 - val_loss: 449154.8438 - val_accuracy: 0.5000\n",
      "Epoch 3/15\n",
      "7/7 [==============================] - 144s 20s/step - loss: 1.5513 - accuracy: 0.5555 - val_loss: 214683.7656 - val_accuracy: 0.5000\n",
      "Epoch 4/15\n",
      "7/7 [==============================] - 142s 20s/step - loss: 1.9169 - accuracy: 0.6533 - val_loss: 146829.7656 - val_accuracy: 0.5000\n",
      "Epoch 5/15\n",
      "7/7 [==============================] - 145s 22s/step - loss: 1.3280 - accuracy: 0.4421 - val_loss: 20101.3340 - val_accuracy: 0.5556\n",
      "Epoch 6/15\n",
      "7/7 [==============================] - 150s 21s/step - loss: 0.8378 - accuracy: 0.6698 - val_loss: 31467.2578 - val_accuracy: 0.5000\n",
      "Epoch 7/15\n",
      "7/7 [==============================] - 145s 20s/step - loss: 3.8770 - accuracy: 0.5426 - val_loss: 7516.7188 - val_accuracy: 0.5278\n",
      "Epoch 8/15\n",
      "7/7 [==============================] - 144s 22s/step - loss: 4.8624 - accuracy: 0.6580 - val_loss: 4757.0640 - val_accuracy: 0.5278\n",
      "Epoch 9/15\n",
      "7/7 [==============================] - 146s 21s/step - loss: 1.5959 - accuracy: 0.6006 - val_loss: 759.2914 - val_accuracy: 0.5278\n",
      "Epoch 10/15\n",
      "7/7 [==============================] - 155s 22s/step - loss: 2.2446 - accuracy: 0.5745 - val_loss: 269.9189 - val_accuracy: 0.6667\n",
      "Epoch 11/15\n",
      "7/7 [==============================] - 146s 21s/step - loss: 2.4244 - accuracy: 0.6676 - val_loss: 634.6872 - val_accuracy: 0.5556\n",
      "Epoch 12/15\n",
      "7/7 [==============================] - 145s 21s/step - loss: 2.6094 - accuracy: 0.5409 - val_loss: 4418.8862 - val_accuracy: 0.5556\n",
      "Epoch 13/15\n",
      "7/7 [==============================] - 149s 21s/step - loss: 3.6751 - accuracy: 0.6325 - val_loss: 8604.9297 - val_accuracy: 0.5000\n",
      "Epoch 14/15\n",
      "7/7 [==============================] - 145s 21s/step - loss: 1.8179 - accuracy: 0.6147 - val_loss: 1208.9556 - val_accuracy: 0.6111\n",
      "Epoch 15/15\n",
      "7/7 [==============================] - 145s 22s/step - loss: 1.4224 - accuracy: 0.6235 - val_loss: 265.6994 - val_accuracy: 0.6111\n"
     ]
    }
   ],
   "source": [
    "i = tf.keras.layers.Input((224, 224, 3), dtype=tf.uint8)\n",
    "o = tf.cast(i, tf.float32)\n",
    "o = tf.keras.applications.resnet50.preprocess_input(o)\n",
    "o = tf.keras.applications.ResNet50(include_top=False, weights=None)(o)\n",
    "o = tf.keras.layers.Flatten()(o)\n",
    "o = tf.keras.layers.Dense(1, activation='sigmoid')(o)\n",
    "\n",
    "model_3 = tf.keras.Model(inputs=[i], outputs=[o])\n",
    "model_3.compile(optimizer='adam', loss='binary_crossentropy', metrics=['accuracy'])\n",
    "model_3.summary()\n",
    "model_3.fit(train_RS, validation_data=test_RS, epochs=15);"
   ]
  },
  {
   "cell_type": "markdown",
   "metadata": {
    "id": "7ie76EubqOGr"
   },
   "source": [
    "Посмотрим результаты работы модели"
   ]
  },
  {
   "cell_type": "code",
   "execution_count": 37,
   "metadata": {
    "colab": {
     "base_uri": "https://localhost:8080/"
    },
    "id": "BfjOD8QlS4zh",
    "outputId": "5d2b1d5e-dc82-4cd3-921e-ba5c617f000b"
   },
   "outputs": [
    {
     "name": "stdout",
     "output_type": "stream",
     "text": [
      "Accuracy: 0.5032679738562091\n",
      "Confusion matrix\n",
      "[[18 52]\n",
      " [24 59]]\n"
     ]
    }
   ],
   "source": [
    "y_pred_3 = model_3.predict(x_val_RS).round()\n",
    "print(f'Accuracy: {accuracy_score(y_val_RS, y_pred_3)}')\n",
    "print('Confusion matrix')\n",
    "print(confusion_matrix(y_val_RS, y_pred_3))"
   ]
  },
  {
   "cell_type": "markdown",
   "metadata": {
    "id": "-DW9N5T3tUd-"
   },
   "source": [
    "Плохое качество предсказания у модели"
   ]
  },
  {
   "cell_type": "markdown",
   "metadata": {
    "id": "eOHe-GqJuK_M"
   },
   "source": [
    "Обучим ResNet 50 с весами imagenet с запретом обучения"
   ]
  },
  {
   "cell_type": "code",
   "execution_count": 39,
   "metadata": {
    "colab": {
     "base_uri": "https://localhost:8080/"
    },
    "id": "hxRHUDOpXKYW",
    "outputId": "8779b05a-028e-42fb-88fc-ac172f9defec"
   },
   "outputs": [
    {
     "name": "stdout",
     "output_type": "stream",
     "text": [
      "Model: \"model_1\"\n",
      "_________________________________________________________________\n",
      "Layer (type)                 Output Shape              Param #   \n",
      "=================================================================\n",
      "input_6 (InputLayer)         [(None, 224, 224, 3)]     0         \n",
      "_________________________________________________________________\n",
      "tf.cast_1 (TFOpLambda)       (None, 224, 224, 3)       0         \n",
      "_________________________________________________________________\n",
      "tf.__operators__.getitem_1 ( (None, 224, 224, 3)       0         \n",
      "_________________________________________________________________\n",
      "tf.nn.bias_add_1 (TFOpLambda (None, 224, 224, 3)       0         \n",
      "_________________________________________________________________\n",
      "resnet50 (Functional)        (None, None, None, 2048)  23587712  \n",
      "_________________________________________________________________\n",
      "flatten_3 (Flatten)          (None, 100352)            0         \n",
      "_________________________________________________________________\n",
      "dense_5 (Dense)              (None, 1)                 100353    \n",
      "=================================================================\n",
      "Total params: 23,688,065\n",
      "Trainable params: 100,353\n",
      "Non-trainable params: 23,587,712\n",
      "_________________________________________________________________\n",
      "Epoch 1/10\n",
      "7/7 [==============================] - 43s 6s/step - loss: 6.7320 - accuracy: 0.5342 - val_loss: 3.1012 - val_accuracy: 0.7500\n",
      "Epoch 2/10\n",
      "7/7 [==============================] - 38s 5s/step - loss: 1.0632 - accuracy: 0.8710 - val_loss: 1.5883 - val_accuracy: 0.8333\n",
      "Epoch 3/10\n",
      "7/7 [==============================] - 38s 5s/step - loss: 0.2814 - accuracy: 0.9563 - val_loss: 0.9493 - val_accuracy: 0.8611\n",
      "Epoch 4/10\n",
      "7/7 [==============================] - 38s 5s/step - loss: 4.0680e-06 - accuracy: 1.0000 - val_loss: 1.1600 - val_accuracy: 0.9444\n",
      "Epoch 5/10\n",
      "7/7 [==============================] - 38s 5s/step - loss: 0.0031 - accuracy: 0.9988 - val_loss: 1.4812 - val_accuracy: 0.9444\n",
      "Epoch 6/10\n",
      "7/7 [==============================] - 38s 5s/step - loss: 3.3230e-05 - accuracy: 1.0000 - val_loss: 1.4941 - val_accuracy: 0.9444\n",
      "Epoch 7/10\n",
      "7/7 [==============================] - 38s 5s/step - loss: 2.2968e-05 - accuracy: 1.0000 - val_loss: 1.4983 - val_accuracy: 0.9444\n",
      "Epoch 8/10\n",
      "7/7 [==============================] - 38s 5s/step - loss: 3.1645e-05 - accuracy: 1.0000 - val_loss: 1.4980 - val_accuracy: 0.9444\n",
      "Epoch 9/10\n",
      "7/7 [==============================] - 38s 6s/step - loss: 2.7095e-05 - accuracy: 1.0000 - val_loss: 1.4965 - val_accuracy: 0.9444\n",
      "Epoch 10/10\n",
      "7/7 [==============================] - 38s 5s/step - loss: 1.6877e-05 - accuracy: 1.0000 - val_loss: 1.4950 - val_accuracy: 0.9444\n"
     ]
    }
   ],
   "source": [
    "resnet50 = tf.keras.applications.ResNet50(include_top=False, weights='imagenet')\n",
    "resnet50.trainable = False\n",
    "\n",
    "i = tf.keras.layers.Input(shape=(224, 224, 3), dtype=tf.uint8)\n",
    "o = tf.cast(i, tf.float32)\n",
    "o = tf.keras.applications.resnet50.preprocess_input(o)\n",
    "o = resnet50(o)\n",
    "o = tf.keras.layers.Flatten()(o)\n",
    "o = tf.keras.layers.Dense(1, activation='sigmoid')(o)\n",
    "\n",
    "model_4 = tf.keras.Model(inputs=[i], outputs=[o])\n",
    "model_4.compile(optimizer='adam', loss='binary_crossentropy', metrics=['accuracy'])\n",
    "model_4.summary()\n",
    "model_4.fit(train_RS, validation_data=test_RS, epochs=10);"
   ]
  },
  {
   "cell_type": "code",
   "execution_count": 40,
   "metadata": {
    "colab": {
     "base_uri": "https://localhost:8080/"
    },
    "id": "KWfh5tCjXKdZ",
    "outputId": "1e7071b7-6060-44d3-949d-c3acf7227fef"
   },
   "outputs": [
    {
     "name": "stdout",
     "output_type": "stream",
     "text": [
      "Accuracy: 0.5098039215686274\n",
      "Confusion matrix\n",
      "[[34 36]\n",
      " [39 44]]\n"
     ]
    }
   ],
   "source": [
    "y_pred_4 = model_4.predict(x_val_RS).round()\n",
    "print(f'Accuracy: {accuracy_score(y_val_RS, y_pred_4)}')\n",
    "print('Confusion matrix')\n",
    "print(confusion_matrix(y_val_RS, y_pred_4))"
   ]
  },
  {
   "cell_type": "markdown",
   "metadata": {
    "id": "wSyA2WenuaPT"
   },
   "source": [
    "Наличие предустановленныех весов не помогло улучшить результаты. Походу мало данных для обучения"
   ]
  },
  {
   "cell_type": "markdown",
   "metadata": {
    "id": "gL0D5mfVunJz"
   },
   "source": [
    "Обучим ResNet 50 с весами imagenet без запрета обучения"
   ]
  },
  {
   "cell_type": "code",
   "execution_count": 42,
   "metadata": {
    "colab": {
     "base_uri": "https://localhost:8080/"
    },
    "id": "P6arH-bLfWRu",
    "outputId": "e550e325-7057-4fa9-9b11-57850017897d"
   },
   "outputs": [
    {
     "name": "stdout",
     "output_type": "stream",
     "text": [
      "Model: \"model_2\"\n",
      "_________________________________________________________________\n",
      "Layer (type)                 Output Shape              Param #   \n",
      "=================================================================\n",
      "input_10 (InputLayer)        [(None, 224, 224, 3)]     0         \n",
      "_________________________________________________________________\n",
      "tf.cast_3 (TFOpLambda)       (None, 224, 224, 3)       0         \n",
      "_________________________________________________________________\n",
      "tf.__operators__.getitem_2 ( (None, 224, 224, 3)       0         \n",
      "_________________________________________________________________\n",
      "tf.nn.bias_add_2 (TFOpLambda (None, 224, 224, 3)       0         \n",
      "_________________________________________________________________\n",
      "resnet50 (Functional)        (None, None, None, 2048)  23587712  \n",
      "_________________________________________________________________\n",
      "flatten_4 (Flatten)          (None, 100352)            0         \n",
      "_________________________________________________________________\n",
      "dense_6 (Dense)              (None, 1)                 100353    \n",
      "=================================================================\n",
      "Total params: 23,688,065\n",
      "Trainable params: 23,634,945\n",
      "Non-trainable params: 53,120\n",
      "_________________________________________________________________\n",
      "Epoch 1/10\n",
      "7/7 [==============================] - 163s 22s/step - loss: 3.9898 - accuracy: 0.6059 - val_loss: 365.1927 - val_accuracy: 0.5000\n",
      "Epoch 2/10\n",
      "7/7 [==============================] - 145s 21s/step - loss: 3.0661 - accuracy: 0.9004 - val_loss: 66132.9297 - val_accuracy: 0.5000\n",
      "Epoch 3/10\n",
      "7/7 [==============================] - 146s 21s/step - loss: 1.4032 - accuracy: 0.9032 - val_loss: 38306.7812 - val_accuracy: 0.5000\n",
      "Epoch 4/10\n",
      "7/7 [==============================] - 145s 21s/step - loss: 3.2086 - accuracy: 0.8373 - val_loss: 84687.6406 - val_accuracy: 0.5000\n",
      "Epoch 5/10\n",
      "7/7 [==============================] - 154s 22s/step - loss: 2.1853 - accuracy: 0.7866 - val_loss: 19821.3594 - val_accuracy: 0.4167\n",
      "Epoch 6/10\n",
      "7/7 [==============================] - 145s 21s/step - loss: 0.9515 - accuracy: 0.7632 - val_loss: 3810367.5000 - val_accuracy: 0.5278\n",
      "Epoch 7/10\n",
      "7/7 [==============================] - 145s 21s/step - loss: 1.0547 - accuracy: 0.7442 - val_loss: 29261458.0000 - val_accuracy: 0.5000\n",
      "Epoch 8/10\n",
      "7/7 [==============================] - 145s 21s/step - loss: 0.8373 - accuracy: 0.8185 - val_loss: 7458232.0000 - val_accuracy: 0.5000\n",
      "Epoch 9/10\n",
      "7/7 [==============================] - 145s 21s/step - loss: 5.4252 - accuracy: 0.7574 - val_loss: 202676.8125 - val_accuracy: 0.4722\n",
      "Epoch 10/10\n",
      "7/7 [==============================] - 145s 21s/step - loss: 2.6599 - accuracy: 0.6126 - val_loss: 2444.7017 - val_accuracy: 0.4722\n"
     ]
    }
   ],
   "source": [
    "resnet50_1 = tf.keras.applications.ResNet50(include_top=False, weights='imagenet')\n",
    "resnet50_1.trainable = True\n",
    "i = tf.keras.layers.Input(shape=(224, 224, 3), dtype=tf.uint8)\n",
    "o = tf.cast(i, tf.float32)\n",
    "o = tf.keras.applications.resnet50.preprocess_input(o)\n",
    "o = resnet50_1(o)\n",
    "o = tf.keras.layers.Flatten()(o)\n",
    "o = tf.keras.layers.Dense(1, activation='sigmoid')(o)\n",
    "\n",
    "model_5 = tf.keras.Model(inputs=[i], outputs=[o])\n",
    "model_5.compile(optimizer='adam', loss='binary_crossentropy', metrics=['accuracy'])\n",
    "model_5.summary()\n",
    "model_5.fit(train_RS, validation_data=test_RS, epochs=10);"
   ]
  },
  {
   "cell_type": "code",
   "execution_count": 43,
   "metadata": {
    "colab": {
     "base_uri": "https://localhost:8080/"
    },
    "id": "SAqrits4fWU1",
    "outputId": "7cb8abd9-17ea-4eea-a004-4df72dd861af"
   },
   "outputs": [
    {
     "name": "stdout",
     "output_type": "stream",
     "text": [
      "Accuracy: 0.5490196078431373\n",
      "Confusion matrix\n",
      "[[ 9 61]\n",
      " [ 8 75]]\n"
     ]
    }
   ],
   "source": [
    "y_pred_5 = model_5.predict(x_val_RS).round()\n",
    "print(f'Accuracy: {accuracy_score(y_val_RS, y_pred_5)}')\n",
    "print('Confusion matrix')\n",
    "print(confusion_matrix(y_val_RS, y_pred_5))"
   ]
  },
  {
   "cell_type": "markdown",
   "metadata": {
    "id": "EOivXhxnu1tC"
   },
   "source": [
    "Получили самое лучшее значение Accuracy для этой выборки"
   ]
  },
  {
   "cell_type": "code",
   "execution_count": null,
   "metadata": {
    "id": "Cpe_KqYJHWXo"
   },
   "outputs": [],
   "source": []
  }
 ],
 "metadata": {
  "colab": {
   "collapsed_sections": [],
   "name": "Hometask cv 01.ipynb",
   "provenance": []
  },
  "kernelspec": {
   "display_name": "Python 3",
   "language": "python",
   "name": "python3"
  },
  "language_info": {
   "codemirror_mode": {
    "name": "ipython",
    "version": 3
   },
   "file_extension": ".py",
   "mimetype": "text/x-python",
   "name": "python",
   "nbconvert_exporter": "python",
   "pygments_lexer": "ipython3",
   "version": "3.8.5"
  }
 },
 "nbformat": 4,
 "nbformat_minor": 1
}
