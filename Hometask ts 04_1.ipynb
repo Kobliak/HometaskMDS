{
 "cells": [
  {
   "cell_type": "code",
   "execution_count": 10,
   "metadata": {},
   "outputs": [],
   "source": [
    "import pandas as pd\n",
    "import numpy as np\n",
    "import tqdm\n",
    "import statsmodels.api as sm\n",
    "import statsmodels.tsa.api as smt\n",
    "\n",
    "from arch import arch_model\n",
    "\n",
    "from warnings import filterwarnings \n",
    "filterwarnings('ignore')"
   ]
  },
  {
   "cell_type": "code",
   "execution_count": 4,
   "metadata": {},
   "outputs": [],
   "source": [
    "sales_of_company = pd.read_csv('monthly-sales-of-company-x-jan-6.csv')\n",
    "robberies_in_boston = pd.read_csv('monthly-boston-armed-robberies-j.csv')\n",
    "#airlines_passengers = pd.read_csv(\"international-airline-passengers.csv\")\n",
    "mean_monthly_temp = pd.read_csv(\"mean-monthly-air-temperature-deg.csv\")\n",
    "dowjones_closing = pd.read_csv(\"weekly-closings-of-the-dowjones-.csv\")\n",
    "female_births = pd.read_csv(\"daily-total-female-births-in-cal.csv\")\n",
    "\n",
    "all_series = {\n",
    "    \"Sales\": sales_of_company[\"Count\"],\n",
    "    \"Robberies\": robberies_in_boston[\"Count\"],\n",
    "    \"Temperature\": mean_monthly_temp[\"Deg\"],\n",
    "    \"Dow_Jones\": dowjones_closing[\"Close\"],\n",
    "    \"Births\": female_births[\"Count\"]\n",
    "}"
   ]
  },
  {
   "cell_type": "markdown",
   "metadata": {},
   "source": [
    "Построим ARCH и GARCH модели для разных рядов"
   ]
  },
  {
   "cell_type": "markdown",
   "metadata": {},
   "source": [
    "Для GARCH моделей будем использовать \"лучшие\" параметры ARIMA модели"
   ]
  },
  {
   "cell_type": "markdown",
   "metadata": {},
   "source": [
    "1. Ряд Sales"
   ]
  },
  {
   "cell_type": "code",
   "execution_count": 16,
   "metadata": {},
   "outputs": [
    {
     "name": "stdout",
     "output_type": "stream",
     "text": [
      "aic: 858.17298 | order: (3, 1, 2)\n",
      "Wall time: 37.5 s\n"
     ]
    }
   ],
   "source": [
    "%%time\n",
    "\n",
    "best_aic_sales = np.inf \n",
    "best_order_sales = None\n",
    "best_mdl_sales = None\n",
    "\n",
    "for i in range(10):\n",
    "    for d in range(10):\n",
    "        for j in range(10):\n",
    "            try:\n",
    "                tmp_mdl = smt.ARIMA(all_series['Sales'], order=(i,d,j)).fit(method='mle', trend='nc')\n",
    "                tmp_aic = tmp_mdl.aic\n",
    "                if tmp_aic < best_aic_sales:\n",
    "                    best_aic_sales = tmp_aic\n",
    "                    best_order_sales = (i, d, j)\n",
    "                    best_mdl_sales = tmp_mdl\n",
    "            except: continue\n",
    "\n",
    "\n",
    "print('aic: {:6.5f} | order: {}'.format(best_aic_sales, best_order_sales))\n"
   ]
  },
  {
   "cell_type": "code",
   "execution_count": 20,
   "metadata": {},
   "outputs": [
    {
     "name": "stdout",
     "output_type": "stream",
     "text": [
      "GARCH model\n",
      "                      Constant Mean - GJR-GARCH Model Results                       \n",
      "====================================================================================\n",
      "Dep. Variable:                        Close   R-squared:                      -0.153\n",
      "Mean Model:                   Constant Mean   Adj. R-squared:                 -0.153\n",
      "Vol Model:                        GJR-GARCH   Log-Likelihood:               -853.880\n",
      "Distribution:      Standardized Student's t   AIC:                           1725.76\n",
      "Method:                  Maximum Likelihood   BIC:                           1753.55\n",
      "                                              No. Observations:                  162\n",
      "Date:                      Fri, Jan 29 2021   Df Residuals:                      153\n",
      "Time:                              17:27:22   Df Model:                            9\n",
      "                                 Mean Model                                 \n",
      "============================================================================\n",
      "                 coef    std err          t      P>|t|      95.0% Conf. Int.\n",
      "----------------------------------------------------------------------------\n",
      "mu           931.1394    356.968      2.608  9.095e-03 [2.315e+02,1.631e+03]\n",
      "                               Volatility Model                              \n",
      "=============================================================================\n",
      "                 coef    std err          t      P>|t|       95.0% Conf. Int.\n",
      "-----------------------------------------------------------------------------\n",
      "omega        364.5031  2.288e+04  1.593e-02      0.987 [-4.448e+04,4.521e+04]\n",
      "alpha[1]       0.7051      4.115      0.171      0.864      [ -7.360,  8.770]\n",
      "alpha[2]   1.0398e-14     51.052  2.037e-16      1.000 [-1.001e+02,1.001e+02]\n",
      "alpha[3]   4.1349e-15      8.897  4.648e-16      1.000      [-17.437, 17.437]\n",
      "gamma[1]       0.2775      9.250  3.000e-02      0.976      [-17.853, 18.408]\n",
      "beta[1]        0.0437     55.651  7.860e-04      0.999 [-1.090e+02,1.091e+02]\n",
      "beta[2]    1.9945e-15      6.217  3.208e-16      1.000      [-12.184, 12.184]\n",
      "                                 Distribution                                \n",
      "=============================================================================\n",
      "                 coef    std err          t      P>|t|       95.0% Conf. Int.\n",
      "-----------------------------------------------------------------------------\n",
      "nu           212.1938    557.263      0.381      0.703 [-8.800e+02,1.304e+03]\n",
      "=============================================================================\n",
      "\n",
      "Covariance estimator: robust\n",
      "+++++++++++++++++++++++++\n",
      "ARCH model\n",
      "                         Constant Mean - ARCH Model Results                         \n",
      "====================================================================================\n",
      "Dep. Variable:                        Close   R-squared:                      -0.145\n",
      "Mean Model:                   Constant Mean   Adj. R-squared:                 -0.145\n",
      "Vol Model:                             ARCH   Log-Likelihood:               -854.302\n",
      "Distribution:      Standardized Student's t   AIC:                           1720.60\n",
      "Method:                  Maximum Likelihood   BIC:                           1739.13\n",
      "                                              No. Observations:                  162\n",
      "Date:                      Fri, Jan 29 2021   Df Residuals:                      156\n",
      "Time:                              17:27:22   Df Model:                            6\n",
      "                                Mean Model                                \n",
      "==========================================================================\n",
      "                 coef    std err          t      P>|t|    95.0% Conf. Int.\n",
      "--------------------------------------------------------------------------\n",
      "mu           930.4741    428.452      2.172  2.988e-02 [ 90.723,1.770e+03]\n",
      "                               Volatility Model                              \n",
      "=============================================================================\n",
      "                 coef    std err          t      P>|t|       95.0% Conf. Int.\n",
      "-----------------------------------------------------------------------------\n",
      "omega        364.5625   6559.888  5.557e-02      0.956 [-1.249e+04,1.322e+04]\n",
      "alpha[1]       0.8932      1.103      0.810      0.418      [ -1.269,  3.055]\n",
      "alpha[2]       0.0544      3.295  1.650e-02      0.987      [ -6.404,  6.513]\n",
      "alpha[3]   3.1002e-15      1.554  1.995e-15      1.000      [ -3.045,  3.045]\n",
      "                                 Distribution                                \n",
      "=============================================================================\n",
      "                 coef    std err          t      P>|t|       95.0% Conf. Int.\n",
      "-----------------------------------------------------------------------------\n",
      "nu           291.2076    898.046      0.324      0.746 [-1.469e+03,2.051e+03]\n",
      "=============================================================================\n",
      "\n",
      "Covariance estimator: robust\n"
     ]
    }
   ],
   "source": [
    "p_sales, o_sales, q_sales = best_order_sales\n",
    "\n",
    "am_sales_garch = arch_model(all_series['Dow_Jones'], p=p_sales, o=o_sales, q=q_sales, dist='StudentsT')\n",
    "res_sales_garch = am_sales_garch.fit(update_freq=5, disp='off')\n",
    "\n",
    "am_sales_arch = arch_model(all_series['Dow_Jones'], p=p_sales, o=o_sales, q=q_sales, dist='StudentsT', vol='ARCH')\n",
    "res_sales_arch = am_sales_arch.fit(update_freq=5, disp='off')\n",
    "print('GARCH model')\n",
    "print(res_sales_garch.summary())\n",
    "print('+++++++++++++++++++++++++')\n",
    "print('ARCH model')\n",
    "print(res_sales_arch.summary())"
   ]
  },
  {
   "cell_type": "markdown",
   "metadata": {},
   "source": [
    "2. Ряд Dow_Jones"
   ]
  },
  {
   "cell_type": "code",
   "execution_count": 14,
   "metadata": {},
   "outputs": [
    {
     "name": "stdout",
     "output_type": "stream",
     "text": [
      "aic: 1416.27670 | order: (2, 2, 3)\n",
      "Wall time: 20min 25s\n"
     ]
    }
   ],
   "source": [
    "%%time\n",
    "\n",
    "best_aic_dj = np.inf \n",
    "best_order_dj = None\n",
    "best_mdl_dj = None\n",
    "\n",
    "for i in range(10):\n",
    "    for d in range(10):\n",
    "        for j in range(10):\n",
    "            try:\n",
    "                tmp_mdl = smt.ARIMA(all_series['Dow_Jones'], order=(i,d,j)).fit(method='mle', trend='nc')\n",
    "                tmp_aic = tmp_mdl.aic\n",
    "                if tmp_aic < best_aic_dj:\n",
    "                    best_aic_dj = tmp_aic\n",
    "                    best_order_dj = (i, d, j)\n",
    "                    best_mdl_dj = tmp_mdl\n",
    "            except: continue\n",
    "\n",
    "\n",
    "print('aic: {:6.5f} | order: {}'.format(best_aic_dj, best_order_dj))\n",
    "\n",
    "#print(best_mdl_dj.summary())\n",
    "#tsplot(best_mdl_dj.resid, lags=30)"
   ]
  },
  {
   "cell_type": "code",
   "execution_count": 15,
   "metadata": {},
   "outputs": [
    {
     "name": "stdout",
     "output_type": "stream",
     "text": [
      "                      Constant Mean - GJR-GARCH Model Results                       \n",
      "====================================================================================\n",
      "Dep. Variable:                        Close   R-squared:                      -0.000\n",
      "Mean Model:                   Constant Mean   Adj. R-squared:                 -0.000\n",
      "Vol Model:                        GJR-GARCH   Log-Likelihood:               -853.463\n",
      "Distribution:      Standardized Student's t   AIC:                           1726.93\n",
      "Method:                  Maximum Likelihood   BIC:                           1757.80\n",
      "                                              No. Observations:                  162\n",
      "Date:                      Fri, Jan 29 2021   Df Residuals:                      152\n",
      "Time:                              17:16:45   Df Model:                           10\n",
      "                                 Mean Model                                 \n",
      "============================================================================\n",
      "                 coef    std err          t      P>|t|      95.0% Conf. Int.\n",
      "----------------------------------------------------------------------------\n",
      "mu           908.0853     11.288     80.446      0.000 [8.860e+02,9.302e+02]\n",
      "                               Volatility Model                              \n",
      "=============================================================================\n",
      "                 coef    std err          t      P>|t|       95.0% Conf. Int.\n",
      "-----------------------------------------------------------------------------\n",
      "omega        276.9640    272.720      1.016      0.310 [-2.576e+02,8.115e+02]\n",
      "alpha[1]       0.6572      0.362      1.813  6.982e-02   [-5.324e-02,  1.368]\n",
      "alpha[2]       0.2951      0.153      1.923  5.452e-02   [-5.724e-03,  0.596]\n",
      "gamma[1]       0.3382      0.933      0.363      0.717      [ -1.490,  2.166]\n",
      "gamma[2]      -0.2951      0.815     -0.362      0.717      [ -1.893,  1.302]\n",
      "beta[1]    7.0030e-18      0.336  2.086e-17      1.000      [ -0.658,  0.658]\n",
      "beta[2]        0.0261      0.421  6.204e-02      0.951      [ -0.799,  0.851]\n",
      "beta[3]    4.1370e-18      0.285  1.451e-17      1.000      [ -0.559,  0.559]\n",
      "                                Distribution                                \n",
      "============================================================================\n",
      "                 coef    std err          t      P>|t|      95.0% Conf. Int.\n",
      "----------------------------------------------------------------------------\n",
      "nu           340.2069     50.332      6.759  1.387e-11 [2.416e+02,4.389e+02]\n",
      "============================================================================\n",
      "\n",
      "Covariance estimator: robust\n"
     ]
    }
   ],
   "source": [
    "p_dj, o_dj, q_dj = best_order_dj\n",
    "\n",
    "# Using student T distribution usually provides better fit\n",
    "am_dj = arch_model(all_series['Dow_Jones'], p=p_dj, o=o_dj, q=q_dj, dist='StudentsT')\n",
    "res_dj = am_dj.fit(update_freq=5, disp='off')\n",
    "print(res_dj.summary())"
   ]
  },
  {
   "cell_type": "markdown",
   "metadata": {},
   "source": [
    "3. Ряд Births"
   ]
  },
  {
   "cell_type": "code",
   "execution_count": 12,
   "metadata": {},
   "outputs": [
    {
     "name": "stdout",
     "output_type": "stream",
     "text": [
      "aic: 2452.86209 | order: (3, 1, 4)\n",
      "Wall time: 1min 58s\n"
     ]
    }
   ],
   "source": [
    "%%time\n",
    "\n",
    "best_aic_b = np.inf \n",
    "best_order_b = None\n",
    "best_mdl_b = None\n",
    "\n",
    "for i in range(7):\n",
    "    for d in range(7):\n",
    "        for j in range(7):\n",
    "            try:\n",
    "                tmp_mdl = smt.ARIMA(all_series['Births'], order=(i,d,j)).fit(method='mle', trend='nc')\n",
    "                tmp_aic = tmp_mdl.aic\n",
    "                if tmp_aic < best_aic_b:\n",
    "                    best_aic_b = tmp_aic\n",
    "                    best_order_b = (i, d, j)\n",
    "                    best_mdl_b = tmp_mdl\n",
    "            except: continue\n",
    "\n",
    "\n",
    "print('aic: {:6.5f} | order: {}'.format(best_aic_b, best_order_b))\n",
    "\n",
    "#print(best_mdl_b.summary())\n",
    "#tsplot(best_mdl_b.resid, lags=30)"
   ]
  },
  {
   "cell_type": "code",
   "execution_count": 13,
   "metadata": {},
   "outputs": [
    {
     "name": "stdout",
     "output_type": "stream",
     "text": [
      "                      Constant Mean - GJR-GARCH Model Results                       \n",
      "====================================================================================\n",
      "Dep. Variable:                        Count   R-squared:                      -0.001\n",
      "Mean Model:                   Constant Mean   Adj. R-squared:                 -0.001\n",
      "Vol Model:                        GJR-GARCH   Log-Likelihood:               -1241.35\n",
      "Distribution:      Standardized Student's t   AIC:                           2504.70\n",
      "Method:                  Maximum Likelihood   BIC:                           2547.60\n",
      "                                              No. Observations:                  365\n",
      "Date:                      Fri, Jan 29 2021   Df Residuals:                      354\n",
      "Time:                              16:34:03   Df Model:                           11\n",
      "                               Mean Model                               \n",
      "========================================================================\n",
      "                 coef    std err          t      P>|t|  95.0% Conf. Int.\n",
      "------------------------------------------------------------------------\n",
      "mu            41.7617      0.709     58.887      0.000 [ 40.372, 43.152]\n",
      "                               Volatility Model                              \n",
      "=============================================================================\n",
      "                 coef    std err          t      P>|t|       95.0% Conf. Int.\n",
      "-----------------------------------------------------------------------------\n",
      "omega         17.7511    373.246  4.756e-02      0.962 [-7.138e+02,7.493e+02]\n",
      "alpha[1]   4.6385e-03      0.496  9.347e-03      0.993      [ -0.968,  0.977]\n",
      "alpha[2]       0.0000      0.833      0.000      1.000      [ -1.632,  1.632]\n",
      "alpha[3]       0.0786      0.644      0.122      0.903      [ -1.184,  1.341]\n",
      "gamma[1]       0.0919      1.880  4.889e-02      0.961      [ -3.593,  3.777]\n",
      "beta[1]        0.0000      1.012      0.000      1.000      [ -1.983,  1.983]\n",
      "beta[2]        0.0000      3.777      0.000      1.000      [ -7.403,  7.403]\n",
      "beta[3]        0.0416      2.455  1.695e-02      0.986      [ -4.770,  4.853]\n",
      "beta[4]        0.5033      1.366      0.369      0.712      [ -2.174,  3.180]\n",
      "                              Distribution                              \n",
      "========================================================================\n",
      "                 coef    std err          t      P>|t|  95.0% Conf. Int.\n",
      "------------------------------------------------------------------------\n",
      "nu            12.3651     10.513      1.176      0.240 [ -8.240, 32.970]\n",
      "========================================================================\n",
      "\n",
      "Covariance estimator: robust\n"
     ]
    }
   ],
   "source": [
    "p_, o_, q_ = best_order_b\n",
    "\n",
    "# Using student T distribution usually provides better fit\n",
    "am = arch_model(all_series['Births'], p=p_, o=o_, q=q_, dist='StudentsT')\n",
    "res = am.fit(update_freq=5, disp='off')\n",
    "print(res.summary())"
   ]
  },
  {
   "cell_type": "code",
   "execution_count": null,
   "metadata": {},
   "outputs": [],
   "source": []
  }
 ],
 "metadata": {
  "kernelspec": {
   "display_name": "Python 3",
   "language": "python",
   "name": "python3"
  },
  "language_info": {
   "codemirror_mode": {
    "name": "ipython",
    "version": 3
   },
   "file_extension": ".py",
   "mimetype": "text/x-python",
   "name": "python",
   "nbconvert_exporter": "python",
   "pygments_lexer": "ipython3",
   "version": "3.8.5"
  }
 },
 "nbformat": 4,
 "nbformat_minor": 4
}
