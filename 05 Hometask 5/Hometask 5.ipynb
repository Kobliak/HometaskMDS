{
 "cells": [
  {
   "cell_type": "code",
   "execution_count": 2,
   "metadata": {},
   "outputs": [],
   "source": [
    "from sympy import *\n",
    "import numpy as np\n",
    "from scipy.optimize import approx_fprime\n",
    "from scipy.optimize import minimize"
   ]
  },
  {
   "cell_type": "markdown",
   "metadata": {},
   "source": [
    "** Задание 1 **"
   ]
  },
  {
   "cell_type": "markdown",
   "metadata": {},
   "source": [
    "** Часть 1 ** "
   ]
  },
  {
   "cell_type": "markdown",
   "metadata": {},
   "source": [
    "f(x,y) = 2*x^2*y^3 + 1/x + y^2*x +7\n",
    "f'_x = 2*2*x*y^3 + (-1) * 1 / x^2 + y^2 = 4*x*y^3 - 1 / x^2 + y^2\n",
    "f'_y = 3*y^2*2*x^2 + 2*y*x = 6*x^2*y^2 + 2*x*y\n",
    "f'_x(1, 2) = 4*1*2^3 - 1 / 1^2 + 2^2 = 32 - 1 + 4 = 35\n",
    "f'_y(1, 2) = 6*1^2*2^2 + 2*2*1 = 24 + 4 = 28\n",
    "grad_f(1, 2) = (35, 28)"
   ]
  },
  {
   "cell_type": "code",
   "execution_count": null,
   "metadata": {},
   "outputs": [],
   "source": [
    "x, y = symbols('x y')"
   ]
  },
  {
   "cell_type": "code",
   "execution_count": 5,
   "metadata": {},
   "outputs": [],
   "source": [
    "f_x = diff(2*(x**2)*(y**3) + 1 / x + (y**2)*x + 7, x)\n",
    "f_y = diff(2*(x**2)*(y**3) + 1 / x + (y**2)*x + 7, y)"
   ]
  },
  {
   "cell_type": "code",
   "execution_count": 6,
   "metadata": {},
   "outputs": [
    {
     "name": "stdout",
     "output_type": "stream",
     "text": [
      "4*x*y**3 + y**2 - 1/x**2\n",
      "6*x**2*y**2 + 2*x*y\n"
     ]
    }
   ],
   "source": [
    "print(f_x)\n",
    "print(f_y)"
   ]
  },
  {
   "cell_type": "code",
   "execution_count": 8,
   "metadata": {},
   "outputs": [],
   "source": [
    "def func (z):\n",
    "    return 2*(z[0]**2)*(z[1]**3) + 1 / z[0] + (z[1]**2)*z[0] + 7"
   ]
  },
  {
   "cell_type": "code",
   "execution_count": 17,
   "metadata": {},
   "outputs": [
    {
     "data": {
      "text/plain": [
       "array([35.00000024, 28.00000024])"
      ]
     },
     "execution_count": 17,
     "metadata": {},
     "output_type": "execute_result"
    }
   ],
   "source": [
    "z = np.array([1, 2])\n",
    "eps = np.sqrt(np.finfo(float).eps)\n",
    "approx_fprime(z, func, [eps, eps])"
   ]
  },
  {
   "cell_type": "markdown",
   "metadata": {},
   "source": [
    "** Часть 2 **"
   ]
  },
  {
   "cell_type": "markdown",
   "metadata": {},
   "source": [
    "f(x, y) = x^2*y - sin(x*y) + cos(x^2) + 6*y\n",
    "f'_x = 2*x*y - cos(x*y)*y - sin(x^2)*2*x\n",
    "f'_y = x^2 - cos(x*y)*x + 6"
   ]
  },
  {
   "cell_type": "code",
   "execution_count": 18,
   "metadata": {},
   "outputs": [],
   "source": [
    "x, y = symbols('x y')\n",
    "g_x = diff((x**2)*y - sin(x*y) + cos(x**2) + 6*y, x)\n",
    "g_y = diff((x**2)*y - sin(x*y) + cos(x**2) + 6*y, y)"
   ]
  },
  {
   "cell_type": "code",
   "execution_count": 19,
   "metadata": {},
   "outputs": [
    {
     "name": "stdout",
     "output_type": "stream",
     "text": [
      "2*x*y - 2*x*sin(x**2) - y*cos(x*y)\n",
      "x**2 - x*cos(x*y) + 6\n"
     ]
    }
   ],
   "source": [
    "print(g_x)\n",
    "print(g_y)"
   ]
  },
  {
   "cell_type": "markdown",
   "metadata": {},
   "source": [
    "** Задание 2 **"
   ]
  },
  {
   "cell_type": "code",
   "execution_count": 3,
   "metadata": {},
   "outputs": [],
   "source": [
    "def f(x):\n",
    "    return (x[0]**2) + (x[1]**2)"
   ]
  },
  {
   "cell_type": "code",
   "execution_count": 40,
   "metadata": {},
   "outputs": [
    {
     "name": "stdout",
     "output_type": "stream",
     "text": [
      "Минимум достигается в :  [0.00058459 0.00116919]\n",
      "Значение функции в минимуме:  1.70876364085429e-06\n"
     ]
    }
   ],
   "source": [
    "x = np.array([100,200])\n",
    "eps = np.sqrt(np.finfo(float).eps)\n",
    "learning_rate = 0.1\n",
    "\n",
    "f_prev = f(x)\n",
    "for i in range(100):\n",
    "    grad = approx_fprime(x, f, [eps, eps])\n",
    "    x = x - learning_rate * grad\n",
    "    if abs(f_prev - f(x)) <= 1e-6 or np.linalg.norm(grad) <= 1e-6:\n",
    "#        print(i)\n",
    "        break\n",
    "    else:\n",
    "        f_prev = f(x)\n",
    "\n",
    "\n",
    "print('Минимум достигается в : ', x)\n",
    "print('Значение функции в минимуме: ', f(x))"
   ]
  },
  {
   "cell_type": "code",
   "execution_count": null,
   "metadata": {},
   "outputs": [],
   "source": []
  },
  {
   "cell_type": "code",
   "execution_count": 4,
   "metadata": {},
   "outputs": [
    {
     "name": "stdout",
     "output_type": "stream",
     "text": [
      "Optimization terminated successfully.\n",
      "         Current function value: 0.000000\n",
      "         Iterations: 72\n",
      "         Function evaluations: 138\n"
     ]
    }
   ],
   "source": [
    "res = minimize(f, [100,200], method='nelder-mead', options={'xtol': 1e-6, 'disp': True})"
   ]
  },
  {
   "cell_type": "code",
   "execution_count": 5,
   "metadata": {},
   "outputs": [
    {
     "data": {
      "text/plain": [
       " final_simplex: (array([[ 2.95771327e-07,  6.94893813e-08],\n",
       "       [-4.58440767e-07,  4.28023999e-07],\n",
       "       [-1.29572072e-08, -7.25847730e-07]]), array([9.23094520e-14, 3.93372481e-13, 5.27022817e-13]))\n",
       "           fun: 9.23094520377088e-14\n",
       "       message: 'Optimization terminated successfully.'\n",
       "          nfev: 138\n",
       "           nit: 72\n",
       "        status: 0\n",
       "       success: True\n",
       "             x: array([2.95771327e-07, 6.94893813e-08])"
      ]
     },
     "execution_count": 5,
     "metadata": {},
     "output_type": "execute_result"
    }
   ],
   "source": [
    "res"
   ]
  },
  {
   "cell_type": "code",
   "execution_count": null,
   "metadata": {},
   "outputs": [],
   "source": []
  }
 ],
 "metadata": {
  "kernelspec": {
   "display_name": "Python 3",
   "language": "python",
   "name": "python3"
  },
  "language_info": {
   "codemirror_mode": {
    "name": "ipython",
    "version": 3
   },
   "file_extension": ".py",
   "mimetype": "text/x-python",
   "name": "python",
   "nbconvert_exporter": "python",
   "pygments_lexer": "ipython3",
   "version": "3.7.6"
  }
 },
 "nbformat": 4,
 "nbformat_minor": 4
}
