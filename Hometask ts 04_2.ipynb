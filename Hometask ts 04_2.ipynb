{
 "cells": [
  {
   "cell_type": "code",
   "execution_count": 8,
   "metadata": {},
   "outputs": [],
   "source": [
    "import pandas as pd\n",
    "import numpy as np\n",
    "import tqdm\n",
    "import statsmodels.api as sm\n",
    "import statsmodels.tsa.api as smt\n",
    "from statsmodels.tsa.stattools import adfuller\n",
    "from scipy.stats import boxcox\n",
    "from arch import arch_model\n",
    "\n",
    "from warnings import filterwarnings \n",
    "filterwarnings('ignore')"
   ]
  },
  {
   "cell_type": "code",
   "execution_count": 2,
   "metadata": {},
   "outputs": [],
   "source": [
    "sales_of_company = pd.read_csv('monthly-sales-of-company-x-jan-6.csv')\n",
    "robberies_in_boston = pd.read_csv('monthly-boston-armed-robberies-j.csv')\n",
    "#airlines_passengers = pd.read_csv(\"international-airline-passengers.csv\")\n",
    "mean_monthly_temp = pd.read_csv(\"mean-monthly-air-temperature-deg.csv\")\n",
    "dowjones_closing = pd.read_csv(\"weekly-closings-of-the-dowjones-.csv\")\n",
    "female_births = pd.read_csv(\"daily-total-female-births-in-cal.csv\")\n",
    "\n",
    "all_series = {\n",
    "    \"Sales\": sales_of_company[\"Count\"],\n",
    "    \"Robberies\": robberies_in_boston[\"Count\"],\n",
    "    \"Temperature\": mean_monthly_temp[\"Deg\"],\n",
    "    \"Dow_Jones\": dowjones_closing[\"Close\"],\n",
    "    \"Births\": female_births[\"Count\"]\n",
    "}"
   ]
  },
  {
   "cell_type": "code",
   "execution_count": 3,
   "metadata": {},
   "outputs": [],
   "source": [
    "def test_stationarity(timeseries):\n",
    "    print('Results of Dickey-Fuller Test:')\n",
    "    dftest = adfuller(timeseries, autolag='AIC')\n",
    "    dfoutput = pd.Series(dftest[0:4], index=['Test Statistic', 'p-value', '#Lags Used', 'Number of Observations Used'])\n",
    "    for [key, value] in dftest[4].items():\n",
    "        dfoutput['Critical Value (%s)' % key] = value\n",
    "    print(dfoutput)"
   ]
  },
  {
   "cell_type": "markdown",
   "metadata": {},
   "source": [
    "Построим ARCH и GARCH модели для разных рядов"
   ]
  },
  {
   "cell_type": "markdown",
   "metadata": {},
   "source": [
    "Для GARCH моделей будем использовать \"лучшие\" параметры ARIMA модели"
   ]
  },
  {
   "cell_type": "markdown",
   "metadata": {},
   "source": [
    "1. Ряд Sales"
   ]
  },
  {
   "cell_type": "code",
   "execution_count": 6,
   "metadata": {},
   "outputs": [
    {
     "name": "stdout",
     "output_type": "stream",
     "text": [
      "Results of Dickey-Fuller Test:\n",
      "Test Statistic                  0.654715\n",
      "p-value                         0.988889\n",
      "#Lags Used                     12.000000\n",
      "Number of Observations Used    64.000000\n",
      "Critical Value (1%)            -3.536928\n",
      "Critical Value (5%)            -2.907887\n",
      "Critical Value (10%)           -2.591493\n",
      "dtype: float64\n"
     ]
    }
   ],
   "source": [
    "test_stationarity(all_series['Sales'])"
   ]
  },
  {
   "cell_type": "markdown",
   "metadata": {},
   "source": [
    "тест Дики-Фуллера не позволяет отвергнуть гипотезу о нестационарности ряда. Попробуем обработать ряд при помощи преобразования Бокса-Кокса и дифференцирования"
   ]
  },
  {
   "cell_type": "code",
   "execution_count": 9,
   "metadata": {},
   "outputs": [],
   "source": [
    "sales_new = boxcox(all_series['Sales'], 0)\n",
    "sales_new_1 = np.diff(sales_new, 1)"
   ]
  },
  {
   "cell_type": "code",
   "execution_count": 10,
   "metadata": {},
   "outputs": [
    {
     "name": "stdout",
     "output_type": "stream",
     "text": [
      "Results of Dickey-Fuller Test:\n",
      "Test Statistic                 -3.135644\n",
      "p-value                         0.024025\n",
      "#Lags Used                     11.000000\n",
      "Number of Observations Used    64.000000\n",
      "Critical Value (1%)            -3.536928\n",
      "Critical Value (5%)            -2.907887\n",
      "Critical Value (10%)           -2.591493\n",
      "dtype: float64\n"
     ]
    }
   ],
   "source": [
    "test_stationarity(sales_new_1)"
   ]
  },
  {
   "cell_type": "markdown",
   "metadata": {},
   "source": [
    "Теперь тест Дики-Фуллера отвергает гипотезу о нестационарности ряда"
   ]
  },
  {
   "cell_type": "markdown",
   "metadata": {},
   "source": [
    "Используем обработанные данные для построения ARCH и GARCH моделей"
   ]
  },
  {
   "cell_type": "code",
   "execution_count": 11,
   "metadata": {},
   "outputs": [
    {
     "name": "stdout",
     "output_type": "stream",
     "text": [
      "aic: -37.58410 | order: (7, 0, 2)\n",
      "Wall time: 1min 31s\n"
     ]
    }
   ],
   "source": [
    "%%time\n",
    "\n",
    "best_aic_sales = np.inf \n",
    "best_order_sales = None\n",
    "best_mdl_sales = None\n",
    "\n",
    "for i in range(10):\n",
    "    for d in range(10):\n",
    "        for j in range(10):\n",
    "            try:\n",
    "                tmp_mdl = smt.ARIMA(sales_new_1, order=(i,d,j)).fit(method='mle', trend='nc')\n",
    "                tmp_aic = tmp_mdl.aic\n",
    "                if tmp_aic < best_aic_sales:\n",
    "                    best_aic_sales = tmp_aic\n",
    "                    best_order_sales = (i, d, j)\n",
    "                    best_mdl_sales = tmp_mdl\n",
    "            except: continue\n",
    "\n",
    "\n",
    "print('aic: {:6.5f} | order: {}'.format(best_aic_sales, best_order_sales))\n"
   ]
  },
  {
   "cell_type": "code",
   "execution_count": 12,
   "metadata": {},
   "outputs": [
    {
     "name": "stdout",
     "output_type": "stream",
     "text": [
      "GARCH model\n",
      "                        Constant Mean - GARCH Model Results                         \n",
      "====================================================================================\n",
      "Dep. Variable:                            y   R-squared:                      -0.003\n",
      "Mean Model:                   Constant Mean   Adj. R-squared:                 -0.003\n",
      "Vol Model:                            GARCH   Log-Likelihood:               -16.7007\n",
      "Distribution:      Standardized Student's t   AIC:                           57.4014\n",
      "Method:                  Maximum Likelihood   BIC:                           85.3702\n",
      "                                              No. Observations:                   76\n",
      "Date:                      Wed, Feb 10 2021   Df Residuals:                       64\n",
      "Time:                              16:01:01   Df Model:                           12\n",
      "                                  Mean Model                                 \n",
      "=============================================================================\n",
      "                 coef    std err          t      P>|t|       95.0% Conf. Int.\n",
      "-----------------------------------------------------------------------------\n",
      "mu             0.0252  1.375e-02      1.834  6.669e-02 [-1.736e-03,5.218e-02]\n",
      "                               Volatility Model                              \n",
      "=============================================================================\n",
      "                 coef    std err          t      P>|t|       95.0% Conf. Int.\n",
      "-----------------------------------------------------------------------------\n",
      "omega      1.2664e-14  3.483e-02  3.636e-13      1.000 [-6.827e-02,6.827e-02]\n",
      "alpha[1]   7.8731e-15  9.297e-02  8.469e-14      1.000      [ -0.182,  0.182]\n",
      "alpha[2]   8.8381e-15      0.276  3.205e-14      1.000      [ -0.540,  0.540]\n",
      "alpha[3]   5.4824e-15      0.198  2.762e-14      1.000      [ -0.389,  0.389]\n",
      "alpha[4]       0.0565      0.105      0.536      0.592      [ -0.150,  0.263]\n",
      "alpha[5]       0.3666      0.128      2.861  4.219e-03      [  0.115,  0.618]\n",
      "alpha[6]   1.2643e-14  8.839e-02  1.430e-13      1.000      [ -0.173,  0.173]\n",
      "alpha[7]       0.4580      0.240      1.910  5.619e-02   [-1.209e-02,  0.928]\n",
      "beta[1]        0.1189      0.126      0.940      0.347      [ -0.129,  0.367]\n",
      "beta[2]    3.1056e-14      0.356  8.734e-14      1.000      [ -0.697,  0.697]\n",
      "                                Distribution                                \n",
      "============================================================================\n",
      "                 coef    std err          t      P>|t|      95.0% Conf. Int.\n",
      "----------------------------------------------------------------------------\n",
      "nu           205.6970     35.893      5.731  9.990e-09 [1.353e+02,2.760e+02]\n",
      "============================================================================\n",
      "\n",
      "Covariance estimator: robust\n",
      "+++++++++++++++++++++++++\n",
      "ARCH model\n",
      "                         Constant Mean - ARCH Model Results                         \n",
      "====================================================================================\n",
      "Dep. Variable:                            y   R-squared:                      -0.003\n",
      "Mean Model:                   Constant Mean   Adj. R-squared:                 -0.003\n",
      "Vol Model:                             ARCH   Log-Likelihood:               -17.2633\n",
      "Distribution:      Standardized Student's t   AIC:                           54.5267\n",
      "Method:                  Maximum Likelihood   BIC:                           77.8340\n",
      "                                              No. Observations:                   76\n",
      "Date:                      Wed, Feb 10 2021   Df Residuals:                       66\n",
      "Time:                              16:01:01   Df Model:                           10\n",
      "                               Mean Model                               \n",
      "========================================================================\n",
      "                 coef    std err          t      P>|t|  95.0% Conf. Int.\n",
      "------------------------------------------------------------------------\n",
      "mu             0.0255  6.897e-02      0.370      0.711 [ -0.110,  0.161]\n",
      "                               Volatility Model                              \n",
      "=============================================================================\n",
      "                 coef    std err          t      P>|t|       95.0% Conf. Int.\n",
      "-----------------------------------------------------------------------------\n",
      "omega          0.0155  4.124e-02      0.375      0.707 [-6.535e-02,9.631e-02]\n",
      "alpha[1]   2.6280e-14      0.883  2.975e-14      1.000      [ -1.731,  1.731]\n",
      "alpha[2]   1.5162e-14      0.209  7.253e-14      1.000      [ -0.410,  0.410]\n",
      "alpha[3]   3.2821e-14      1.831  1.793e-14      1.000      [ -3.588,  3.588]\n",
      "alpha[4]       0.0301      0.106      0.283      0.777      [ -0.178,  0.239]\n",
      "alpha[5]       0.3680      0.393      0.936      0.349      [ -0.402,  1.138]\n",
      "alpha[6]       0.0667  7.706e-02      0.866      0.387   [-8.431e-02,  0.218]\n",
      "alpha[7]       0.3992      0.628      0.635      0.525      [ -0.833,  1.631]\n",
      "                                Distribution                                \n",
      "============================================================================\n",
      "                 coef    std err          t      P>|t|      95.0% Conf. Int.\n",
      "----------------------------------------------------------------------------\n",
      "nu           211.3223     25.227      8.377  5.444e-17 [1.619e+02,2.608e+02]\n",
      "============================================================================\n",
      "\n",
      "Covariance estimator: robust\n"
     ]
    }
   ],
   "source": [
    "p_sales, o_sales, q_sales = best_order_sales\n",
    "\n",
    "am_sales_garch = arch_model(sales_new_1, p=p_sales, o=o_sales, q=q_sales, dist='StudentsT')\n",
    "res_sales_garch = am_sales_garch.fit(update_freq=5, disp='off')\n",
    "\n",
    "am_sales_arch = arch_model(sales_new_1, p=p_sales, o=o_sales, q=q_sales, dist='StudentsT', vol='ARCH')\n",
    "res_sales_arch = am_sales_arch.fit(update_freq=5, disp='off')\n",
    "print('GARCH model')\n",
    "print(res_sales_garch.summary())\n",
    "print('+++++++++++++++++++++++++')\n",
    "print('ARCH model')\n",
    "print(res_sales_arch.summary())"
   ]
  },
  {
   "cell_type": "markdown",
   "metadata": {},
   "source": [
    "2. Ряд Dow_Jones"
   ]
  },
  {
   "cell_type": "code",
   "execution_count": 13,
   "metadata": {},
   "outputs": [
    {
     "name": "stdout",
     "output_type": "stream",
     "text": [
      "Results of Dickey-Fuller Test:\n",
      "Test Statistic                  -1.314625\n",
      "p-value                          0.622455\n",
      "#Lags Used                       0.000000\n",
      "Number of Observations Used    161.000000\n",
      "Critical Value (1%)             -3.471633\n",
      "Critical Value (5%)             -2.879665\n",
      "Critical Value (10%)            -2.576434\n",
      "dtype: float64\n"
     ]
    }
   ],
   "source": [
    "test_stationarity(all_series['Dow_Jones'])"
   ]
  },
  {
   "cell_type": "markdown",
   "metadata": {},
   "source": [
    "тест Дики-Фуллера не позволяет отвергнуть гипотезу о нестационарности ряда. Попробуем обработать ряд при помощи преобразования Бокса-Кокса и дифференцирования"
   ]
  },
  {
   "cell_type": "code",
   "execution_count": 16,
   "metadata": {},
   "outputs": [
    {
     "name": "stdout",
     "output_type": "stream",
     "text": [
      "Results of Dickey-Fuller Test:\n",
      "Test Statistic                -1.299582e+01\n",
      "p-value                        2.751609e-24\n",
      "#Lags Used                     0.000000e+00\n",
      "Number of Observations Used    1.600000e+02\n",
      "Critical Value (1%)           -3.471896e+00\n",
      "Critical Value (5%)           -2.879780e+00\n",
      "Critical Value (10%)          -2.576495e+00\n",
      "dtype: float64\n"
     ]
    }
   ],
   "source": [
    "DJ_new = boxcox(all_series['Dow_Jones'], 0)\n",
    "DJ_new_1 = np.diff(DJ_new, 1)\n",
    "test_stationarity(DJ_new_1)"
   ]
  },
  {
   "cell_type": "markdown",
   "metadata": {},
   "source": [
    "Тест Дики-Фуллера отвергает гипотезу о нестационарности ряда"
   ]
  },
  {
   "cell_type": "markdown",
   "metadata": {},
   "source": [
    "Используем обработанные данные для построения ARCH и GARCH моделей"
   ]
  },
  {
   "cell_type": "code",
   "execution_count": 17,
   "metadata": {},
   "outputs": [
    {
     "name": "stdout",
     "output_type": "stream",
     "text": [
      "aic: -770.01581 | order: (2, 0, 2)\n",
      "Wall time: 9min 3s\n"
     ]
    }
   ],
   "source": [
    "%%time\n",
    "\n",
    "best_aic_dj = np.inf \n",
    "best_order_dj = None\n",
    "best_mdl_dj = None\n",
    "\n",
    "for i in range(10):\n",
    "    for d in range(10):\n",
    "        for j in range(10):\n",
    "            try:\n",
    "                tmp_mdl = smt.ARIMA(DJ_new_1, order=(i,d,j)).fit(method='mle', trend='nc')\n",
    "                tmp_aic = tmp_mdl.aic\n",
    "                if tmp_aic < best_aic_dj:\n",
    "                    best_aic_dj = tmp_aic\n",
    "                    best_order_dj = (i, d, j)\n",
    "                    best_mdl_dj = tmp_mdl\n",
    "            except: continue\n",
    "\n",
    "\n",
    "print('aic: {:6.5f} | order: {}'.format(best_aic_dj, best_order_dj))\n",
    "\n",
    "#print(best_mdl_dj.summary())\n",
    "#tsplot(best_mdl_dj.resid, lags=30)"
   ]
  },
  {
   "cell_type": "code",
   "execution_count": 18,
   "metadata": {},
   "outputs": [
    {
     "name": "stdout",
     "output_type": "stream",
     "text": [
      "                        Constant Mean - GARCH Model Results                         \n",
      "====================================================================================\n",
      "Dep. Variable:                            y   R-squared:                      -0.005\n",
      "Mean Model:                   Constant Mean   Adj. R-squared:                 -0.005\n",
      "Vol Model:                            GARCH   Log-Likelihood:                393.514\n",
      "Distribution:      Standardized Student's t   AIC:                          -773.029\n",
      "Method:                  Maximum Likelihood   BIC:                          -751.459\n",
      "                                              No. Observations:                  161\n",
      "Date:                      Wed, Feb 10 2021   Df Residuals:                      154\n",
      "Time:                              16:25:40   Df Model:                            7\n",
      "                                  Mean Model                                 \n",
      "=============================================================================\n",
      "                 coef    std err          t      P>|t|       95.0% Conf. Int.\n",
      "-----------------------------------------------------------------------------\n",
      "mu         4.6351e-04  1.958e-03      0.237      0.813 [-3.373e-03,4.300e-03]\n",
      "                              Volatility Model                              \n",
      "============================================================================\n",
      "                 coef    std err          t      P>|t|      95.0% Conf. Int.\n",
      "----------------------------------------------------------------------------\n",
      "omega      8.8170e-06  1.645e-08    535.873      0.000 [8.785e-06,8.849e-06]\n",
      "alpha[1]       0.0000      0.191      0.000      1.000     [ -0.375,  0.375]\n",
      "alpha[2]       0.0917      0.185      0.496      0.620     [ -0.271,  0.454]\n",
      "beta[1]        0.8966      1.044      0.859      0.390     [ -1.150,  2.943]\n",
      "beta[2]        0.0000      1.040      0.000      1.000     [ -2.039,  2.039]\n",
      "                                 Distribution                                \n",
      "=============================================================================\n",
      "                 coef    std err          t      P>|t|       95.0% Conf. Int.\n",
      "-----------------------------------------------------------------------------\n",
      "nu           287.0058    266.795      1.076      0.282 [-2.359e+02,8.099e+02]\n",
      "=============================================================================\n",
      "\n",
      "Covariance estimator: robust\n"
     ]
    }
   ],
   "source": [
    "p_dj, o_dj, q_dj = best_order_dj\n",
    "\n",
    "# Using student T distribution usually provides better fit\n",
    "am_dj = arch_model(DJ_new_1, p=p_dj, o=o_dj, q=q_dj, dist='StudentsT')\n",
    "res_dj = am_dj.fit(update_freq=5, disp='off')\n",
    "print(res_dj.summary())"
   ]
  },
  {
   "cell_type": "markdown",
   "metadata": {},
   "source": [
    "3. Ряд Births"
   ]
  },
  {
   "cell_type": "code",
   "execution_count": 19,
   "metadata": {},
   "outputs": [
    {
     "name": "stdout",
     "output_type": "stream",
     "text": [
      "Results of Dickey-Fuller Test:\n",
      "Test Statistic                  -4.808291\n",
      "p-value                          0.000052\n",
      "#Lags Used                       6.000000\n",
      "Number of Observations Used    358.000000\n",
      "Critical Value (1%)             -3.448749\n",
      "Critical Value (5%)             -2.869647\n",
      "Critical Value (10%)            -2.571089\n",
      "dtype: float64\n"
     ]
    }
   ],
   "source": [
    "test_stationarity(all_series['Births'])"
   ]
  },
  {
   "cell_type": "markdown",
   "metadata": {},
   "source": [
    "Тест Дики-Фуллера отвергает гипотезу о нестационарности ряда"
   ]
  },
  {
   "cell_type": "code",
   "execution_count": 20,
   "metadata": {},
   "outputs": [
    {
     "name": "stdout",
     "output_type": "stream",
     "text": [
      "aic: 2452.86209 | order: (3, 1, 4)\n",
      "Wall time: 1min 37s\n"
     ]
    }
   ],
   "source": [
    "%%time\n",
    "\n",
    "best_aic_b = np.inf \n",
    "best_order_b = None\n",
    "best_mdl_b = None\n",
    "\n",
    "for i in range(7):\n",
    "    for d in range(7):\n",
    "        for j in range(7):\n",
    "            try:\n",
    "                tmp_mdl = smt.ARIMA(all_series['Births'], order=(i,d,j)).fit(method='mle', trend='nc')\n",
    "                tmp_aic = tmp_mdl.aic\n",
    "                if tmp_aic < best_aic_b:\n",
    "                    best_aic_b = tmp_aic\n",
    "                    best_order_b = (i, d, j)\n",
    "                    best_mdl_b = tmp_mdl\n",
    "            except: continue\n",
    "\n",
    "\n",
    "print('aic: {:6.5f} | order: {}'.format(best_aic_b, best_order_b))\n",
    "\n",
    "#print(best_mdl_b.summary())\n",
    "#tsplot(best_mdl_b.resid, lags=30)"
   ]
  },
  {
   "cell_type": "code",
   "execution_count": 21,
   "metadata": {},
   "outputs": [
    {
     "name": "stdout",
     "output_type": "stream",
     "text": [
      "                      Constant Mean - GJR-GARCH Model Results                       \n",
      "====================================================================================\n",
      "Dep. Variable:                        Count   R-squared:                      -0.001\n",
      "Mean Model:                   Constant Mean   Adj. R-squared:                 -0.001\n",
      "Vol Model:                        GJR-GARCH   Log-Likelihood:               -1241.35\n",
      "Distribution:      Standardized Student's t   AIC:                           2504.70\n",
      "Method:                  Maximum Likelihood   BIC:                           2547.60\n",
      "                                              No. Observations:                  365\n",
      "Date:                      Wed, Feb 10 2021   Df Residuals:                      354\n",
      "Time:                              16:29:32   Df Model:                           11\n",
      "                               Mean Model                               \n",
      "========================================================================\n",
      "                 coef    std err          t      P>|t|  95.0% Conf. Int.\n",
      "------------------------------------------------------------------------\n",
      "mu            41.7617      0.709     58.887      0.000 [ 40.372, 43.152]\n",
      "                               Volatility Model                              \n",
      "=============================================================================\n",
      "                 coef    std err          t      P>|t|       95.0% Conf. Int.\n",
      "-----------------------------------------------------------------------------\n",
      "omega         17.7511    373.246  4.756e-02      0.962 [-7.138e+02,7.493e+02]\n",
      "alpha[1]   4.6385e-03      0.496  9.347e-03      0.993      [ -0.968,  0.977]\n",
      "alpha[2]       0.0000      0.833      0.000      1.000      [ -1.632,  1.632]\n",
      "alpha[3]       0.0786      0.644      0.122      0.903      [ -1.184,  1.341]\n",
      "gamma[1]       0.0919      1.880  4.889e-02      0.961      [ -3.593,  3.777]\n",
      "beta[1]        0.0000      1.012      0.000      1.000      [ -1.983,  1.983]\n",
      "beta[2]        0.0000      3.777      0.000      1.000      [ -7.403,  7.403]\n",
      "beta[3]        0.0416      2.455  1.695e-02      0.986      [ -4.770,  4.853]\n",
      "beta[4]        0.5033      1.366      0.369      0.712      [ -2.174,  3.180]\n",
      "                              Distribution                              \n",
      "========================================================================\n",
      "                 coef    std err          t      P>|t|  95.0% Conf. Int.\n",
      "------------------------------------------------------------------------\n",
      "nu            12.3651     10.513      1.176      0.240 [ -8.240, 32.970]\n",
      "========================================================================\n",
      "\n",
      "Covariance estimator: robust\n"
     ]
    }
   ],
   "source": [
    "p_, o_, q_ = best_order_b\n",
    "\n",
    "# Using student T distribution usually provides better fit\n",
    "am = arch_model(all_series['Births'], p=p_, o=o_, q=q_, dist='StudentsT')\n",
    "res = am.fit(update_freq=5, disp='off')\n",
    "print(res.summary())"
   ]
  },
  {
   "cell_type": "code",
   "execution_count": null,
   "metadata": {},
   "outputs": [],
   "source": []
  }
 ],
 "metadata": {
  "kernelspec": {
   "display_name": "Python 3",
   "language": "python",
   "name": "python3"
  },
  "language_info": {
   "codemirror_mode": {
    "name": "ipython",
    "version": 3
   },
   "file_extension": ".py",
   "mimetype": "text/x-python",
   "name": "python",
   "nbconvert_exporter": "python",
   "pygments_lexer": "ipython3",
   "version": "3.8.5"
  }
 },
 "nbformat": 4,
 "nbformat_minor": 4
}
