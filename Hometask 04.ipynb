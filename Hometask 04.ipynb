{
 "cells": [
  {
   "cell_type": "code",
   "execution_count": 2,
   "metadata": {
    "id": "K5eWJ55h4edI"
   },
   "outputs": [],
   "source": [
    "import numpy as np\n",
    "import pandas as pd\n",
    "import seaborn as sns\n",
    "\n",
    "from sklearn.linear_model import LinearRegression"
   ]
  },
  {
   "cell_type": "code",
   "execution_count": 39,
   "metadata": {
    "colab": {
     "base_uri": "https://localhost:8080/",
     "height": 204
    },
    "id": "wr7uA1fW4edM",
    "outputId": "3805ec12-1656-4c9f-8ee7-2c9ab6cb53f1"
   },
   "outputs": [
    {
     "data": {
      "text/html": [
       "<div>\n",
       "<style scoped>\n",
       "    .dataframe tbody tr th:only-of-type {\n",
       "        vertical-align: middle;\n",
       "    }\n",
       "\n",
       "    .dataframe tbody tr th {\n",
       "        vertical-align: top;\n",
       "    }\n",
       "\n",
       "    .dataframe thead th {\n",
       "        text-align: right;\n",
       "    }\n",
       "</style>\n",
       "<table border=\"1\" class=\"dataframe\">\n",
       "  <thead>\n",
       "    <tr style=\"text-align: right;\">\n",
       "      <th></th>\n",
       "      <th>rate</th>\n",
       "      <th>project_qty</th>\n",
       "      <th>experience</th>\n",
       "      <th>hazardous_production</th>\n",
       "      <th>Cost</th>\n",
       "    </tr>\n",
       "  </thead>\n",
       "  <tbody>\n",
       "    <tr>\n",
       "      <th>0</th>\n",
       "      <td>3000</td>\n",
       "      <td>9</td>\n",
       "      <td>4</td>\n",
       "      <td>1</td>\n",
       "      <td>31200</td>\n",
       "    </tr>\n",
       "    <tr>\n",
       "      <th>1</th>\n",
       "      <td>3000</td>\n",
       "      <td>8</td>\n",
       "      <td>4</td>\n",
       "      <td>1</td>\n",
       "      <td>28200</td>\n",
       "    </tr>\n",
       "    <tr>\n",
       "      <th>2</th>\n",
       "      <td>2000</td>\n",
       "      <td>4</td>\n",
       "      <td>4</td>\n",
       "      <td>1</td>\n",
       "      <td>11200</td>\n",
       "    </tr>\n",
       "    <tr>\n",
       "      <th>3</th>\n",
       "      <td>3000</td>\n",
       "      <td>8</td>\n",
       "      <td>4</td>\n",
       "      <td>1</td>\n",
       "      <td>28200</td>\n",
       "    </tr>\n",
       "    <tr>\n",
       "      <th>4</th>\n",
       "      <td>1000</td>\n",
       "      <td>6</td>\n",
       "      <td>3</td>\n",
       "      <td>0</td>\n",
       "      <td>6900</td>\n",
       "    </tr>\n",
       "    <tr>\n",
       "      <th>5</th>\n",
       "      <td>1000</td>\n",
       "      <td>8</td>\n",
       "      <td>2</td>\n",
       "      <td>1</td>\n",
       "      <td>9600</td>\n",
       "    </tr>\n",
       "    <tr>\n",
       "      <th>6</th>\n",
       "      <td>3000</td>\n",
       "      <td>6</td>\n",
       "      <td>2</td>\n",
       "      <td>0</td>\n",
       "      <td>18600</td>\n",
       "    </tr>\n",
       "    <tr>\n",
       "      <th>7</th>\n",
       "      <td>3000</td>\n",
       "      <td>2</td>\n",
       "      <td>2</td>\n",
       "      <td>1</td>\n",
       "      <td>9600</td>\n",
       "    </tr>\n",
       "    <tr>\n",
       "      <th>8</th>\n",
       "      <td>1000</td>\n",
       "      <td>6</td>\n",
       "      <td>2</td>\n",
       "      <td>0</td>\n",
       "      <td>6600</td>\n",
       "    </tr>\n",
       "    <tr>\n",
       "      <th>9</th>\n",
       "      <td>3000</td>\n",
       "      <td>5</td>\n",
       "      <td>1</td>\n",
       "      <td>1</td>\n",
       "      <td>18300</td>\n",
       "    </tr>\n",
       "  </tbody>\n",
       "</table>\n",
       "</div>"
      ],
      "text/plain": [
       "   rate  project_qty  experience  hazardous_production   Cost\n",
       "0  3000            9           4                     1  31200\n",
       "1  3000            8           4                     1  28200\n",
       "2  2000            4           4                     1  11200\n",
       "3  3000            8           4                     1  28200\n",
       "4  1000            6           3                     0   6900\n",
       "5  1000            8           2                     1   9600\n",
       "6  3000            6           2                     0  18600\n",
       "7  3000            2           2                     1   9600\n",
       "8  1000            6           2                     0   6600\n",
       "9  3000            5           1                     1  18300"
      ]
     },
     "execution_count": 39,
     "metadata": {},
     "output_type": "execute_result"
    }
   ],
   "source": [
    "# Создаём сэмпл\n",
    "n_samples = 1000\n",
    "\n",
    "#Пробуем создать датасет с данными по фонду оплаты труда сотрудников проитзводства, но без учета налогов\n",
    "\n",
    "hazardous_production = np.random.randint(0,2, n_samples) #Факт участия на вредном произвостве и, соответстенно, оплата\n",
    "experience = np.random.randint(1, 6, n_samples)          #опыт сотрудника, как дополнительный бонус к ставке\n",
    "rate = np.random.randint(1, 4, n_samples) * 1000         #ставка сотрудника за каждый проект, в котором он участвует\n",
    "project_qty = np.random.randint(1, 10, n_samples)        #количество проектов, на которых работает сотрудник\n",
    "\n",
    "#Фонд оплаты сотрудника складывается как умноженная на количество проектов плюс бонус за опыт - бонус * на 300\n",
    "# и плюс бонус за вредное производство - плюс еще одна ставка в случае вредного производства.\n",
    "Cost = rate * project_qty + experience * 300  + hazardous_production * rate\n",
    "\n",
    "\n",
    "data = pd.DataFrame({'rate': rate,\n",
    "                     'project_qty': project_qty,\n",
    "                     'experience': experience, \n",
    "                     'hazardous_production': hazardous_production, \n",
    "                     'Cost': Cost})\n",
    "data.head(10)"
   ]
  },
  {
   "cell_type": "markdown",
   "metadata": {},
   "source": [
    "попробуем предсказать фонд оплаты по данным ставки, количества проектов, опыта и наличия вредного производства"
   ]
  },
  {
   "cell_type": "code",
   "execution_count": 48,
   "metadata": {},
   "outputs": [
    {
     "name": "stdout",
     "output_type": "stream",
     "text": [
      "Weights: [   5.51727364 2050.83205756  276.59356131 2124.55071605]\n",
      "Bias: -11351.664117758215\n",
      "Error: 1541.9658866293717\n",
      "y.mean:  12087.4\n"
     ]
    }
   ],
   "source": [
    "X = data[['rate', 'project_qty', 'experience', 'hazardous_production']]\n",
    "y = data['Cost']\n",
    "reg = LinearRegression().fit(X, y)\n",
    "print('Weights: {}'.format(reg.coef_))\n",
    "print('Bias: {}'.format(reg.intercept_))\n",
    "\n",
    "pred_values = reg.predict(data[['rate', 'project_qty', 'experience', 'hazardous_production']])\n",
    "print('Error: {}'.format(mean_absolute_error(pred_values, y)))\n",
    "print('y.mean: ', y.mean())"
   ]
  },
  {
   "cell_type": "markdown",
   "metadata": {},
   "source": [
    "Коэффициенты \"зашкаливают\", среднее значение целевой переменной по модулю очень близко к bias\n",
    "Надо проверить зависимости коэффициентов"
   ]
  },
  {
   "cell_type": "code",
   "execution_count": 40,
   "metadata": {
    "colab": {
     "base_uri": "https://localhost:8080/",
     "height": 920
    },
    "id": "6kLeXsNE4nHd",
    "outputId": "b10d2419-e265-4cc4-cf1b-6025d399ceb3"
   },
   "outputs": [
    {
     "data": {
      "text/plain": [
       "<seaborn.axisgrid.PairGrid at 0x16f8dc08>"
      ]
     },
     "execution_count": 40,
     "metadata": {},
     "output_type": "execute_result"
    },
    {
     "data": {
      "image/png": "[encoded data removed]",
      "text/plain": [
       "<Figure size 900x900 with 30 Axes>"
      ]
     },
     "metadata": {
      "needs_background": "light"
     },
     "output_type": "display_data"
    }
   ],
   "source": [
    "sns.pairplot(data)"
   ]
  },
  {
   "cell_type": "markdown",
   "metadata": {},
   "source": [
    "Из графиков можно следать вывод, что целевая переменная линейно зависит от количества проектов и от ставки.\n",
    "Попробуем сделать новый признак"
   ]
  },
  {
   "cell_type": "code",
   "execution_count": 43,
   "metadata": {
    "colab": {
     "base_uri": "https://localhost:8080/",
     "height": 204
    },
    "id": "xQlxW3S34edZ",
    "outputId": "99c9546f-b6a3-4ec9-86ec-2218879ae8ae"
   },
   "outputs": [
    {
     "data": {
      "text/html": [
       "<div>\n",
       "<style scoped>\n",
       "    .dataframe tbody tr th:only-of-type {\n",
       "        vertical-align: middle;\n",
       "    }\n",
       "\n",
       "    .dataframe tbody tr th {\n",
       "        vertical-align: top;\n",
       "    }\n",
       "\n",
       "    .dataframe thead th {\n",
       "        text-align: right;\n",
       "    }\n",
       "</style>\n",
       "<table border=\"1\" class=\"dataframe\">\n",
       "  <thead>\n",
       "    <tr style=\"text-align: right;\">\n",
       "      <th></th>\n",
       "      <th>rate</th>\n",
       "      <th>project_qty</th>\n",
       "      <th>experience</th>\n",
       "      <th>hazardous_production</th>\n",
       "      <th>Cost</th>\n",
       "      <th>Cost_1</th>\n",
       "    </tr>\n",
       "  </thead>\n",
       "  <tbody>\n",
       "    <tr>\n",
       "      <th>0</th>\n",
       "      <td>3000</td>\n",
       "      <td>9</td>\n",
       "      <td>4</td>\n",
       "      <td>1</td>\n",
       "      <td>31200</td>\n",
       "      <td>27000</td>\n",
       "    </tr>\n",
       "    <tr>\n",
       "      <th>1</th>\n",
       "      <td>3000</td>\n",
       "      <td>8</td>\n",
       "      <td>4</td>\n",
       "      <td>1</td>\n",
       "      <td>28200</td>\n",
       "      <td>24000</td>\n",
       "    </tr>\n",
       "    <tr>\n",
       "      <th>2</th>\n",
       "      <td>2000</td>\n",
       "      <td>4</td>\n",
       "      <td>4</td>\n",
       "      <td>1</td>\n",
       "      <td>11200</td>\n",
       "      <td>8000</td>\n",
       "    </tr>\n",
       "    <tr>\n",
       "      <th>3</th>\n",
       "      <td>3000</td>\n",
       "      <td>8</td>\n",
       "      <td>4</td>\n",
       "      <td>1</td>\n",
       "      <td>28200</td>\n",
       "      <td>24000</td>\n",
       "    </tr>\n",
       "    <tr>\n",
       "      <th>4</th>\n",
       "      <td>1000</td>\n",
       "      <td>6</td>\n",
       "      <td>3</td>\n",
       "      <td>0</td>\n",
       "      <td>6900</td>\n",
       "      <td>6000</td>\n",
       "    </tr>\n",
       "  </tbody>\n",
       "</table>\n",
       "</div>"
      ],
      "text/plain": [
       "   rate  project_qty  experience  hazardous_production   Cost  Cost_1\n",
       "0  3000            9           4                     1  31200   27000\n",
       "1  3000            8           4                     1  28200   24000\n",
       "2  2000            4           4                     1  11200    8000\n",
       "3  3000            8           4                     1  28200   24000\n",
       "4  1000            6           3                     0   6900    6000"
      ]
     },
     "execution_count": 43,
     "metadata": {},
     "output_type": "execute_result"
    }
   ],
   "source": [
    "# Создаем новый признак\n",
    "data['Cost_1'] = data['rate'] * data['project_qty']\n",
    "data.head(5)"
   ]
  },
  {
   "cell_type": "markdown",
   "metadata": {},
   "source": [
    "Попробуем предсказать фонд на основе нового признака, а также опыта и наличия вредного производства"
   ]
  },
  {
   "cell_type": "code",
   "execution_count": 45,
   "metadata": {
    "colab": {
     "base_uri": "https://localhost:8080/"
    },
    "id": "gVL2XBTK4edb",
    "outputId": "847b10d9-2f1c-4833-ebc7-de6c1e1a9b42"
   },
   "outputs": [
    {
     "name": "stdout",
     "output_type": "stream",
     "text": [
      "Weights: [1.03510413e+00 3.12176296e+02 2.02565357e+03]\n",
      "Bias: -397.14429295280206\n",
      "Error: 398.8030769058002\n"
     ]
    }
   ],
   "source": [
    "X_new = data[['Cost_1', 'experience', 'hazardous_production']]\n",
    "#y = data['Cost']\n",
    "reg1 = LinearRegression().fit(X_new, y)\n",
    "print('Weights: {}'.format(reg1.coef_))\n",
    "print('Bias: {}'.format(reg1.intercept_))\n",
    "\n",
    "pred_values = reg1.predict(data[['Cost_1', 'experience', 'hazardous_production']])\n",
    "print('Error: {}'.format(mean_absolute_error(pred_values, y)))"
   ]
  },
  {
   "cell_type": "markdown",
   "metadata": {
    "id": "oYcPnE4G4edf"
   },
   "source": [
    "Коэффициенты практически совпадают с нашей исходной моделью"
   ]
  },
  {
   "cell_type": "code",
   "execution_count": null,
   "metadata": {
    "id": "JlNBp0Ex4edh"
   },
   "outputs": [],
   "source": []
  },
  {
   "cell_type": "code",
   "execution_count": null,
   "metadata": {
    "id": "JmYy-jYh4edm"
   },
   "outputs": [],
   "source": []
  },
  {
   "cell_type": "code",
   "execution_count": null,
   "metadata": {
    "id": "QQ1fgAuH4edo"
   },
   "outputs": [],
   "source": []
  }
 ],
 "metadata": {
  "colab": {
   "name": "material_31_10.ipynb",
   "provenance": []
  },
  "kernelspec": {
   "display_name": "Python 3",
   "language": "python",
   "name": "python3"
  },
  "language_info": {
   "codemirror_mode": {
    "name": "ipython",
    "version": 3
   },
   "file_extension": ".py",
   "mimetype": "text/x-python",
   "name": "python",
   "nbconvert_exporter": "python",
   "pygments_lexer": "ipython3",
   "version": "3.7.6"
  }
 },
 "nbformat": 4,
 "nbformat_minor": 1
}
