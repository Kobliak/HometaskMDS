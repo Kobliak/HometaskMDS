{
 "cells": [
  {
   "cell_type": "code",
   "execution_count": 1,
   "metadata": {},
   "outputs": [],
   "source": [
    "from sklearn.datasets import load_boston\n",
    "import pandas as pd\n",
    "import numpy as np\n",
    "from sklearn.model_selection import train_test_split\n",
    "from sklearn.linear_model import LinearRegression\n",
    "from sklearn.metrics import mean_squared_error\n",
    "import matplotlib.pyplot as plt\n",
    "import seaborn as sns\n",
    "from sklearn.tree import DecisionTreeRegressor"
   ]
  },
  {
   "cell_type": "code",
   "execution_count": 2,
   "metadata": {},
   "outputs": [],
   "source": [
    "boston = load_boston()"
   ]
  },
  {
   "cell_type": "code",
   "execution_count": 95,
   "metadata": {},
   "outputs": [],
   "source": [
    "x = pd.DataFrame(boston.data)\n",
    "x.columns = boston.feature_names\n",
    "y=pd.DataFrame(boston.target)\n",
    "y.columns=['MEDV']"
   ]
  },
  {
   "cell_type": "markdown",
   "metadata": {},
   "source": [
    "Попробуем предсказать значение MEDV для полного датасета "
   ]
  },
  {
   "cell_type": "code",
   "execution_count": 96,
   "metadata": {},
   "outputs": [],
   "source": [
    "x_train, x_test, y_train, y_test = train_test_split(x, y, test_size=0.3)"
   ]
  },
  {
   "cell_type": "code",
   "execution_count": 84,
   "metadata": {},
   "outputs": [],
   "source": [
    "model = DecisionTreeRegressor(max_depth=2)"
   ]
  },
  {
   "cell_type": "code",
   "execution_count": 85,
   "metadata": {},
   "outputs": [
    {
     "data": {
      "text/plain": [
       "DecisionTreeRegressor(ccp_alpha=0.0, criterion='mse', max_depth=2,\n",
       "                      max_features=None, max_leaf_nodes=None,\n",
       "                      min_impurity_decrease=0.0, min_impurity_split=None,\n",
       "                      min_samples_leaf=1, min_samples_split=2,\n",
       "                      min_weight_fraction_leaf=0.0, presort='deprecated',\n",
       "                      random_state=None, splitter='best')"
      ]
     },
     "execution_count": 85,
     "metadata": {},
     "output_type": "execute_result"
    }
   ],
   "source": [
    "model.fit(x_train, y_train)"
   ]
  },
  {
   "cell_type": "code",
   "execution_count": 86,
   "metadata": {},
   "outputs": [],
   "source": [
    "y_pred = model.predict(x_test)"
   ]
  },
  {
   "cell_type": "code",
   "execution_count": 87,
   "metadata": {},
   "outputs": [
    {
     "name": "stdout",
     "output_type": "stream",
     "text": [
      "0.5654596342597229\n",
      "5.894648134627109\n"
     ]
    }
   ],
   "source": [
    "rmse = (np.sqrt(mean_squared_error(y_test, y_pred)))\n",
    "print(model.score(x_test, y_test))\n",
    "print(rmse)"
   ]
  },
  {
   "cell_type": "code",
   "execution_count": null,
   "metadata": {},
   "outputs": [],
   "source": []
  },
  {
   "cell_type": "code",
   "execution_count": null,
   "metadata": {},
   "outputs": [],
   "source": []
  },
  {
   "cell_type": "code",
   "execution_count": 89,
   "metadata": {},
   "outputs": [
    {
     "name": "stdout",
     "output_type": "stream",
     "text": [
      "Criterion: mse\n",
      " Splitter: best\n",
      "   Tree depth: 3\n",
      "     Model score: 0.650729914892964\n",
      "     Model rmse: 5.28473869482761\n",
      "   Tree depth: 4\n",
      "     Model score: 0.7162475681462626\n",
      "     Model rmse: 4.763351380429844\n",
      "   Tree depth: 5\n",
      "     Model score: 0.7160685993379273\n",
      "     Model rmse: 4.764853318115199\n",
      "   Tree depth: 6\n",
      "     Model score: 0.7230531388707584\n",
      "     Model rmse: 4.705882151393174\n",
      "   Tree depth: 7\n",
      "     Model score: 0.7037412686234873\n",
      "     Model rmse: 4.8671911507618075\n",
      "   Tree depth: 8\n",
      "     Model score: 0.7417517299161258\n",
      "     Model rmse: 4.544242863752973\n",
      "   Tree depth: 9\n",
      "     Model score: 0.698184403237146\n",
      "     Model rmse: 4.91262555187526\n",
      " Splitter: random\n",
      "   Tree depth: 3\n",
      "     Model score: 0.4558163571073307\n",
      "     Model rmse: 6.596530353614514\n",
      "   Tree depth: 4\n",
      "     Model score: 0.6525041981894417\n",
      "     Model rmse: 5.271298433852888\n",
      "   Tree depth: 5\n",
      "     Model score: 0.571869104053319\n",
      "     Model rmse: 5.85101360866798\n",
      "   Tree depth: 6\n",
      "     Model score: 0.5643157741993152\n",
      "     Model rmse: 5.902401408760693\n",
      "   Tree depth: 7\n",
      "     Model score: 0.6893878516980998\n",
      "     Model rmse: 4.983701727042894\n",
      "   Tree depth: 8\n",
      "     Model score: 0.724679308062341\n",
      "     Model rmse: 4.692045873975703\n",
      "   Tree depth: 9\n",
      "     Model score: 0.5968766783987571\n",
      "     Model rmse: 5.677560689813454\n",
      "Criterion: friedman_mse\n",
      " Splitter: best\n",
      "   Tree depth: 3\n",
      "     Model score: 0.650729914892964\n",
      "     Model rmse: 5.2847386948276105\n",
      "   Tree depth: 4\n",
      "     Model score: 0.7294070377665753\n",
      "     Model rmse: 4.651586183350101\n",
      "   Tree depth: 5\n",
      "     Model score: 0.705188749983654\n",
      "     Model rmse: 4.855286362396795\n",
      "   Tree depth: 6\n",
      "     Model score: 0.726232471600395\n",
      "     Model rmse: 4.678792563163775\n",
      "   Tree depth: 7\n",
      "     Model score: 0.7075400219318717\n",
      "     Model rmse: 4.835885894860684\n",
      "   Tree depth: 8\n",
      "     Model score: 0.6651181618812987\n",
      "     Model rmse: 5.174741034314811\n",
      "   Tree depth: 9\n",
      "     Model score: 0.730419961585379\n",
      "     Model rmse: 4.642871765835271\n",
      " Splitter: random\n",
      "   Tree depth: 3\n",
      "     Model score: 0.3739404272067992\n",
      "     Model rmse: 7.075394401886174\n",
      "   Tree depth: 4\n",
      "     Model score: 0.6436376375024588\n",
      "     Model rmse: 5.3381249860959965\n",
      "   Tree depth: 5\n",
      "     Model score: 0.6288664805219275\n",
      "     Model rmse: 5.447633895304594\n",
      "   Tree depth: 6\n",
      "     Model score: 0.4815112055312625\n",
      "     Model rmse: 6.438912313510836\n",
      "   Tree depth: 7\n",
      "     Model score: 0.5997218710777825\n",
      "     Model rmse: 5.657489464640424\n",
      "   Tree depth: 8\n",
      "     Model score: 0.6647716642193016\n",
      "     Model rmse: 5.177417459098424\n",
      "   Tree depth: 9\n",
      "     Model score: 0.5149852069790348\n",
      "     Model rmse: 6.2275943476816344\n",
      "Criterion: mae\n",
      " Splitter: best\n",
      "   Tree depth: 3\n",
      "     Model score: 0.5862208598763308\n",
      "     Model rmse: 5.752109166942249\n",
      "   Tree depth: 4\n",
      "     Model score: 0.6802659210553701\n",
      "     Model rmse: 5.0563518547414565\n",
      "   Tree depth: 5\n",
      "     Model score: 0.6536691171517419\n",
      "     Model rmse: 5.262455462994438\n",
      "   Tree depth: 6\n",
      "     Model score: 0.6883885741894418\n",
      "     Model rmse: 4.99171188070786\n",
      "   Tree depth: 7\n",
      "     Model score: 0.641469505097173\n",
      "     Model rmse: 5.354339115934015\n",
      "   Tree depth: 8\n",
      "     Model score: 0.6808424669336888\n",
      "     Model rmse: 5.051790979965735\n",
      "   Tree depth: 9\n",
      "     Model score: 0.6118513375094127\n",
      "     Model rmse: 5.571111754776647\n",
      " Splitter: random\n",
      "   Tree depth: 3\n",
      "     Model score: 0.5515676346519804\n",
      "     Model rmse: 5.98813107870807\n",
      "   Tree depth: 4\n",
      "     Model score: 0.607299031630373\n",
      "     Model rmse: 5.603686228020379\n",
      "   Tree depth: 5\n",
      "     Model score: 0.5673906616878055\n",
      "     Model rmse: 5.881536117823571\n",
      "   Tree depth: 6\n",
      "     Model score: 0.5880066505704308\n",
      "     Model rmse: 5.739683250475541\n",
      "   Tree depth: 7\n",
      "     Model score: 0.5345172621805765\n",
      "     Model rmse: 6.100909929976365\n",
      "   Tree depth: 8\n",
      "     Model score: 0.5443765463708894\n",
      "     Model rmse: 6.035953136262566\n",
      "   Tree depth: 9\n",
      "     Model score: 0.6346852693838003\n",
      "     Model rmse: 5.404760024372278\n"
     ]
    }
   ],
   "source": [
    "criterion = ['mse', 'friedman_mse', 'mae']\n",
    "splitter = ['best', 'random']\n",
    "\n",
    "\n",
    "dict_full = {}\n",
    "for crit in criterion:\n",
    "    dict_split = {}\n",
    "    print(f'Criterion: {crit}')\n",
    "    for split in splitter:\n",
    "        print(f' Splitter: {split}')\n",
    "        for depth in range (3,10):\n",
    "            print(f'   Tree depth: {depth}')\n",
    "            res = []\n",
    "            model = DecisionTreeRegressor(criterion=crit, splitter=split, max_depth=depth)\n",
    "            model.fit(x_train, y_train)\n",
    "            score = model.score(x_test, y_test)\n",
    "            print(f'     Model score: {score}')\n",
    "            res.append(score)\n",
    "            y_pred = model.predict(x_test)\n",
    "            rmse = np.sqrt(mean_squared_error(y_test, y_pred))\n",
    "            res.append(rmse)\n",
    "            print(f'     Model rmse: {rmse}')\n",
    "            dict_depth[depth] = res\n",
    "        dict_split[split] = dict_depth\n",
    "    dict_full[crit] = dict_split\n"
   ]
  },
  {
   "cell_type": "markdown",
   "metadata": {},
   "source": [
    "лучшие показатели модели достигаются при следующих параметрах:\n",
    "Criterion: mse\n",
    "Splitter: best\n",
    "Tree depth: 8\n",
    "\n",
    "Результаты:\n",
    "     Model score: 0.7417517299161258\n",
    "     Model rmse: 4.544242863752973 "
   ]
  },
  {
   "cell_type": "code",
   "execution_count": null,
   "metadata": {},
   "outputs": [],
   "source": []
  },
  {
   "cell_type": "code",
   "execution_count": 103,
   "metadata": {},
   "outputs": [
    {
     "data": {
      "text/plain": [
       "array([0.13478476, 0.01608115, 0.02211776, 0.0212766 , 0.01400297,\n",
       "       0.42345374, 0.04705591, 0.01311232, 0.02315685, 0.01627907,\n",
       "       0.01019297, 0.05329045, 0.20519545])"
      ]
     },
     "execution_count": 103,
     "metadata": {},
     "output_type": "execute_result"
    }
   ],
   "source": [
    "model.feature_importances_"
   ]
  },
  {
   "cell_type": "code",
   "execution_count": 104,
   "metadata": {},
   "outputs": [
    {
     "data": {
      "text/plain": [
       "<function matplotlib.pyplot.show(*args, **kw)>"
      ]
     },
     "execution_count": 104,
     "metadata": {},
     "output_type": "execute_result"
    },
    {
     "data": {
      "image/png": "[encoded data removed]",
      "text/plain": [
       "<Figure size 432x288 with 1 Axes>"
      ]
     },
     "metadata": {
      "needs_background": "light"
     },
     "output_type": "display_data"
    }
   ],
   "source": [
    "plt.barh(np.arange(len(model.feature_importances_)), model.feature_importances_)\n",
    "plt.yticks(np.arange(len(x.columns)),x.columns)\n",
    "plt.show"
   ]
  },
  {
   "cell_type": "code",
   "execution_count": null,
   "metadata": {},
   "outputs": [],
   "source": []
  },
  {
   "cell_type": "code",
   "execution_count": null,
   "metadata": {},
   "outputs": [],
   "source": []
  },
  {
   "cell_type": "code",
   "execution_count": null,
   "metadata": {},
   "outputs": [],
   "source": []
  },
  {
   "cell_type": "code",
   "execution_count": null,
   "metadata": {},
   "outputs": [],
   "source": []
  }
 ],
 "metadata": {
  "kernelspec": {
   "display_name": "Python 3",
   "language": "python",
   "name": "python3"
  },
  "language_info": {
   "codemirror_mode": {
    "name": "ipython",
    "version": 3
   },
   "file_extension": ".py",
   "mimetype": "text/x-python",
   "name": "python",
   "nbconvert_exporter": "python",
   "pygments_lexer": "ipython3",
   "version": "3.7.6"
  }
 },
 "nbformat": 4,
 "nbformat_minor": 4
}
