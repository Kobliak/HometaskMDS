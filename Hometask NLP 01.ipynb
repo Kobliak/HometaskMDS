{
 "cells": [
  {
   "cell_type": "code",
   "execution_count": 2,
   "metadata": {},
   "outputs": [],
   "source": [
    "import pandas as pd\n",
    "import numpy as np\n",
    "from collections import defaultdict"
   ]
  },
  {
   "cell_type": "code",
   "execution_count": 10,
   "metadata": {},
   "outputs": [],
   "source": [
    "import warnings\n",
    "warnings.filterwarnings('ignore')\n",
    "\n",
    "import string\n",
    "spec_chars = string.digits + string.punctuation + '-\\n\\xa0«»\\t\\(\\)…' \n",
    "\n",
    "import nltk\n",
    "\n",
    "\n",
    "from nltk import word_tokenize\n",
    "from nltk.probability import FreqDist\n",
    "\n",
    "from sklearn.feature_extraction.text import TfidfVectorizer\n",
    "import numpy as np\n",
    "\n",
    "from pymorphy2 import MorphAnalyzer"
   ]
  },
  {
   "cell_type": "code",
   "execution_count": 16,
   "metadata": {},
   "outputs": [
    {
     "name": "stderr",
     "output_type": "stream",
     "text": [
      "[nltk_data] Downloading package stopwords to C:\\Users\\Andrey\n",
      "[nltk_data]     Kobliakov\\AppData\\Roaming\\nltk_data...\n",
      "[nltk_data]   Package stopwords is already up-to-date!\n",
      "[nltk_data] Downloading package punkt to C:\\Users\\Andrey\n",
      "[nltk_data]     Kobliakov\\AppData\\Roaming\\nltk_data...\n",
      "[nltk_data]   Package punkt is already up-to-date!\n"
     ]
    }
   ],
   "source": [
    "nltk.download('stopwords')\n",
    "nltk.download('punkt')\n",
    "from nltk.corpus import stopwords as nltk_stopwords\n",
    "stopwords = set(nltk_stopwords.words('russian') )"
   ]
  },
  {
   "cell_type": "code",
   "execution_count": 7,
   "metadata": {},
   "outputs": [],
   "source": [
    "import re\n",
    "regex = re.compile(\"[А-Яа-я]+\")\n",
    "\n",
    "def len_text_sym(text):\n",
    "    return len(text)\n",
    "\n",
    "def len_text_words(text, regex=regex):\n",
    "    text = \" \".join(regex.findall(text))\n",
    "    return len(text.split(' '))\n",
    "\n",
    "def remove_chars_from_text(text, chars=spec_chars):\n",
    "    return \"\".join([ch for ch in text if ch not in chars])"
   ]
  },
  {
   "cell_type": "code",
   "execution_count": 4,
   "metadata": {},
   "outputs": [
    {
     "data": {
      "text/html": [
       "<div>\n",
       "<style scoped>\n",
       "    .dataframe tbody tr th:only-of-type {\n",
       "        vertical-align: middle;\n",
       "    }\n",
       "\n",
       "    .dataframe tbody tr th {\n",
       "        vertical-align: top;\n",
       "    }\n",
       "\n",
       "    .dataframe thead th {\n",
       "        text-align: right;\n",
       "    }\n",
       "</style>\n",
       "<table border=\"1\" class=\"dataframe\">\n",
       "  <thead>\n",
       "    <tr style=\"text-align: right;\">\n",
       "      <th></th>\n",
       "      <th>city</th>\n",
       "      <th>rating_not_checked</th>\n",
       "      <th>title</th>\n",
       "      <th>num_comments</th>\n",
       "      <th>bank_license</th>\n",
       "      <th>author</th>\n",
       "      <th>bank_name</th>\n",
       "      <th>datetime</th>\n",
       "      <th>text</th>\n",
       "      <th>rating_grade</th>\n",
       "    </tr>\n",
       "  </thead>\n",
       "  <tbody>\n",
       "    <tr>\n",
       "      <th>0</th>\n",
       "      <td>г. воронеж</td>\n",
       "      <td>True</td>\n",
       "      <td>Ипотека на 5+</td>\n",
       "      <td>0</td>\n",
       "      <td>лицензия № 1623</td>\n",
       "      <td>e.novikova</td>\n",
       "      <td>втб 24</td>\n",
       "      <td>2015-06-08 11:06:56</td>\n",
       "      <td>здравствуйте!  хотелось бы выразить благодарно...</td>\n",
       "      <td>5.0</td>\n",
       "    </tr>\n",
       "    <tr>\n",
       "      <th>1</th>\n",
       "      <td>г. казань</td>\n",
       "      <td>True</td>\n",
       "      <td>ЗВОНКИ СОСЕДЯМ</td>\n",
       "      <td>0</td>\n",
       "      <td>лицензия № 2289</td>\n",
       "      <td>KZN\\Vorontsova_NA</td>\n",
       "      <td>русский стандарт</td>\n",
       "      <td>2015-06-06 18:17:52</td>\n",
       "      <td>уважаемые представители департамента по работе...</td>\n",
       "      <td>2.0</td>\n",
       "    </tr>\n",
       "    <tr>\n",
       "      <th>2</th>\n",
       "      <td>г. санкт-петербург</td>\n",
       "      <td>True</td>\n",
       "      <td>Ложная информация!!!!</td>\n",
       "      <td>0</td>\n",
       "      <td>лицензия № 2307</td>\n",
       "      <td>Evgenia15</td>\n",
       "      <td>союз</td>\n",
       "      <td>2015-06-07 19:08:33</td>\n",
       "      <td>здравствуйте. столкнулась с такой ситуацией. в...</td>\n",
       "      <td>2.0</td>\n",
       "    </tr>\n",
       "    <tr>\n",
       "      <th>3</th>\n",
       "      <td>г. москва</td>\n",
       "      <td>True</td>\n",
       "      <td>Банкомат не зачислил деньги на счет</td>\n",
       "      <td>1</td>\n",
       "      <td>лицензия № 2557</td>\n",
       "      <td>dolgov.work</td>\n",
       "      <td>ситибанк</td>\n",
       "      <td>2015-06-07 19:22:00</td>\n",
       "      <td>1 июня 2015 в москве в отделении по адресу смо...</td>\n",
       "      <td>1.0</td>\n",
       "    </tr>\n",
       "    <tr>\n",
       "      <th>4</th>\n",
       "      <td>г. волгоград</td>\n",
       "      <td>True</td>\n",
       "      <td>Невозможно закрыть карту 2(два)!!!</td>\n",
       "      <td>0</td>\n",
       "      <td>лицензия № 3354</td>\n",
       "      <td>copLine</td>\n",
       "      <td>ренессанс кредит</td>\n",
       "      <td>2015-06-08 14:54:55</td>\n",
       "      <td>история очень долгая! пришел я в банк (это раз...</td>\n",
       "      <td>1.0</td>\n",
       "    </tr>\n",
       "  </tbody>\n",
       "</table>\n",
       "</div>"
      ],
      "text/plain": [
       "                 city  rating_not_checked  \\\n",
       "0          г. воронеж                True   \n",
       "1           г. казань                True   \n",
       "2  г. санкт-петербург                True   \n",
       "3           г. москва                True   \n",
       "4        г. волгоград                True   \n",
       "\n",
       "                                 title  num_comments     bank_license  \\\n",
       "0                        Ипотека на 5+             0  лицензия № 1623   \n",
       "1                       ЗВОНКИ СОСЕДЯМ             0  лицензия № 2289   \n",
       "2                Ложная информация!!!!             0  лицензия № 2307   \n",
       "3  Банкомат не зачислил деньги на счет             1  лицензия № 2557   \n",
       "4   Невозможно закрыть карту 2(два)!!!             0  лицензия № 3354   \n",
       "\n",
       "              author         bank_name            datetime  \\\n",
       "0         e.novikova            втб 24 2015-06-08 11:06:56   \n",
       "1  KZN\\Vorontsova_NA  русский стандарт 2015-06-06 18:17:52   \n",
       "2          Evgenia15              союз 2015-06-07 19:08:33   \n",
       "3        dolgov.work          ситибанк 2015-06-07 19:22:00   \n",
       "4            copLine  ренессанс кредит 2015-06-08 14:54:55   \n",
       "\n",
       "                                                text  rating_grade  \n",
       "0  здравствуйте!  хотелось бы выразить благодарно...           5.0  \n",
       "1  уважаемые представители департамента по работе...           2.0  \n",
       "2  здравствуйте. столкнулась с такой ситуацией. в...           2.0  \n",
       "3  1 июня 2015 в москве в отделении по адресу смо...           1.0  \n",
       "4  история очень долгая! пришел я в банк (это раз...           1.0  "
      ]
     },
     "execution_count": 4,
     "metadata": {},
     "output_type": "execute_result"
    }
   ],
   "source": [
    "df = pd.read_json('banki_responses.json', lines = True)\n",
    "\n",
    "df.text = df.text.str.lower()\n",
    "df.city = df.city.str.lower()\n",
    "df.bank_name = df.bank_name.str.lower()\n",
    "df.head()\n",
    "#df.drop(['city', 'bank_name', 'rating_not_checked', 'num_comments', 'bank_license', 'author', 'datetime', 'rating_grade'], axis=1, inplace=True)"
   ]
  },
  {
   "cell_type": "markdown",
   "metadata": {},
   "source": [
    "Часть 1. Анализ текстов [40/100]"
   ]
  },
  {
   "cell_type": "markdown",
   "metadata": {},
   "source": [
    "Посчитайте количество отзывов в разных городах и на разные банки"
   ]
  },
  {
   "cell_type": "code",
   "execution_count": 5,
   "metadata": {},
   "outputs": [],
   "source": [
    "df_1 = df.copy() #code df for calculations\n",
    "df_1.drop(['rating_not_checked', 'title', \n",
    "           'num_comments', 'bank_license', 'author', \n",
    "           'datetime', 'rating_grade'], axis=1, inplace=True)"
   ]
  },
  {
   "cell_type": "code",
   "execution_count": 6,
   "metadata": {},
   "outputs": [],
   "source": [
    "df_1.dropna(subset = ['city', 'bank_name'], inplace=True) #delete from df all Nan data in city and bank_name"
   ]
  },
  {
   "cell_type": "code",
   "execution_count": 7,
   "metadata": {},
   "outputs": [
    {
     "data": {
      "text/html": [
       "<div>\n",
       "<style scoped>\n",
       "    .dataframe tbody tr th:only-of-type {\n",
       "        vertical-align: middle;\n",
       "    }\n",
       "\n",
       "    .dataframe tbody tr th {\n",
       "        vertical-align: top;\n",
       "    }\n",
       "\n",
       "    .dataframe thead th {\n",
       "        text-align: right;\n",
       "    }\n",
       "</style>\n",
       "<table border=\"1\" class=\"dataframe\">\n",
       "  <thead>\n",
       "    <tr style=\"text-align: right;\">\n",
       "      <th></th>\n",
       "      <th>city</th>\n",
       "      <th>bank_name</th>\n",
       "      <th>text</th>\n",
       "    </tr>\n",
       "  </thead>\n",
       "  <tbody>\n",
       "    <tr>\n",
       "      <th>0</th>\n",
       "      <td>г. воронеж</td>\n",
       "      <td>втб 24</td>\n",
       "      <td>здравствуйте!  хотелось бы выразить благодарно...</td>\n",
       "    </tr>\n",
       "    <tr>\n",
       "      <th>1</th>\n",
       "      <td>г. казань</td>\n",
       "      <td>русский стандарт</td>\n",
       "      <td>уважаемые представители департамента по работе...</td>\n",
       "    </tr>\n",
       "    <tr>\n",
       "      <th>2</th>\n",
       "      <td>г. санкт-петербург</td>\n",
       "      <td>союз</td>\n",
       "      <td>здравствуйте. столкнулась с такой ситуацией. в...</td>\n",
       "    </tr>\n",
       "    <tr>\n",
       "      <th>3</th>\n",
       "      <td>г. москва</td>\n",
       "      <td>ситибанк</td>\n",
       "      <td>1 июня 2015 в москве в отделении по адресу смо...</td>\n",
       "    </tr>\n",
       "    <tr>\n",
       "      <th>4</th>\n",
       "      <td>г. волгоград</td>\n",
       "      <td>ренессанс кредит</td>\n",
       "      <td>история очень долгая! пришел я в банк (это раз...</td>\n",
       "    </tr>\n",
       "  </tbody>\n",
       "</table>\n",
       "</div>"
      ],
      "text/plain": [
       "                 city         bank_name  \\\n",
       "0          г. воронеж            втб 24   \n",
       "1           г. казань  русский стандарт   \n",
       "2  г. санкт-петербург              союз   \n",
       "3           г. москва          ситибанк   \n",
       "4        г. волгоград  ренессанс кредит   \n",
       "\n",
       "                                                text  \n",
       "0  здравствуйте!  хотелось бы выразить благодарно...  \n",
       "1  уважаемые представители департамента по работе...  \n",
       "2  здравствуйте. столкнулась с такой ситуацией. в...  \n",
       "3  1 июня 2015 в москве в отделении по адресу смо...  \n",
       "4  история очень долгая! пришел я в банк (это раз...  "
      ]
     },
     "execution_count": 7,
     "metadata": {},
     "output_type": "execute_result"
    }
   ],
   "source": [
    "df_1.head()"
   ]
  },
  {
   "cell_type": "code",
   "execution_count": 8,
   "metadata": {},
   "outputs": [],
   "source": [
    "df_1.city = df_1.city.str.replace('г\\.','') #delete from cityname г. \n",
    "df_1.city = df_1.city.str.replace('ст\\. ','') #delete from cityname ст. \n",
    "df_1.city = df_1.city.str.replace('обл ','область') #rename обл to область\n",
    "df_1.city = df_1.city.str.replace('спб\\.','санктпетербург') #rename спб to санктпетербург"
   ]
  },
  {
   "cell_type": "code",
   "execution_count": 9,
   "metadata": {},
   "outputs": [],
   "source": [
    "df_1['city'] = df_1.city.apply(remove_chars_from_text)"
   ]
  },
  {
   "cell_type": "code",
   "execution_count": 10,
   "metadata": {},
   "outputs": [],
   "source": [
    "df1 = df_1.groupby(['city', 'bank_name']).agg('count').reset_index().sort_values(by=['city'])\n",
    "#df2 = df_1.sort_values(by=['city'], ascending=False)"
   ]
  },
  {
   "cell_type": "code",
   "execution_count": 11,
   "metadata": {},
   "outputs": [
    {
     "data": {
      "text/html": [
       "<div>\n",
       "<style scoped>\n",
       "    .dataframe tbody tr th:only-of-type {\n",
       "        vertical-align: middle;\n",
       "    }\n",
       "\n",
       "    .dataframe tbody tr th {\n",
       "        vertical-align: top;\n",
       "    }\n",
       "\n",
       "    .dataframe thead th {\n",
       "        text-align: right;\n",
       "    }\n",
       "</style>\n",
       "<table border=\"1\" class=\"dataframe\">\n",
       "  <thead>\n",
       "    <tr style=\"text-align: right;\">\n",
       "      <th></th>\n",
       "      <th>city</th>\n",
       "      <th>bank_name</th>\n",
       "      <th>text</th>\n",
       "    </tr>\n",
       "  </thead>\n",
       "  <tbody>\n",
       "    <tr>\n",
       "      <th>0</th>\n",
       "      <td></td>\n",
       "      <td>авангард</td>\n",
       "      <td>3</td>\n",
       "    </tr>\n",
       "    <tr>\n",
       "      <th>1</th>\n",
       "      <td></td>\n",
       "      <td>альфа-банк</td>\n",
       "      <td>1</td>\n",
       "    </tr>\n",
       "    <tr>\n",
       "      <th>2</th>\n",
       "      <td></td>\n",
       "      <td>бинбанк кредитные карты</td>\n",
       "      <td>1</td>\n",
       "    </tr>\n",
       "    <tr>\n",
       "      <th>3</th>\n",
       "      <td></td>\n",
       "      <td>русский стандарт</td>\n",
       "      <td>2</td>\n",
       "    </tr>\n",
       "    <tr>\n",
       "      <th>4</th>\n",
       "      <td></td>\n",
       "      <td>русфинанс банк</td>\n",
       "      <td>1</td>\n",
       "    </tr>\n",
       "    <tr>\n",
       "      <th>...</th>\n",
       "      <td>...</td>\n",
       "      <td>...</td>\n",
       "      <td>...</td>\n",
       "    </tr>\n",
       "    <tr>\n",
       "      <th>20489</th>\n",
       "      <td>яшалта</td>\n",
       "      <td>россельхозбанк</td>\n",
       "      <td>1</td>\n",
       "    </tr>\n",
       "    <tr>\n",
       "      <th>20490</th>\n",
       "      <td>яшкино</td>\n",
       "      <td>совкомбанк</td>\n",
       "      <td>1</td>\n",
       "    </tr>\n",
       "    <tr>\n",
       "      <th>20491</th>\n",
       "      <td>яшкино</td>\n",
       "      <td>хоум кредит банк</td>\n",
       "      <td>1</td>\n",
       "    </tr>\n",
       "    <tr>\n",
       "      <th>20492</th>\n",
       "      <td>ёбург</td>\n",
       "      <td>сбербанк россии</td>\n",
       "      <td>1</td>\n",
       "    </tr>\n",
       "    <tr>\n",
       "      <th>20493</th>\n",
       "      <td>ёсаратов</td>\n",
       "      <td>ренессанс кредит</td>\n",
       "      <td>1</td>\n",
       "    </tr>\n",
       "  </tbody>\n",
       "</table>\n",
       "<p>20494 rows × 3 columns</p>\n",
       "</div>"
      ],
      "text/plain": [
       "            city                bank_name  text\n",
       "0                                авангард     3\n",
       "1                              альфа-банк     1\n",
       "2                 бинбанк кредитные карты     1\n",
       "3                        русский стандарт     2\n",
       "4                          русфинанс банк     1\n",
       "...          ...                      ...   ...\n",
       "20489     яшалта           россельхозбанк     1\n",
       "20490     яшкино               совкомбанк     1\n",
       "20491     яшкино         хоум кредит банк     1\n",
       "20492      ёбург          сбербанк россии     1\n",
       "20493   ёсаратов         ренессанс кредит     1\n",
       "\n",
       "[20494 rows x 3 columns]"
      ]
     },
     "execution_count": 11,
     "metadata": {},
     "output_type": "execute_result"
    }
   ],
   "source": [
    "df1"
   ]
  },
  {
   "cell_type": "markdown",
   "metadata": {},
   "source": [
    "Постройте гистограмы длин слов в символах и в словах"
   ]
  },
  {
   "cell_type": "markdown",
   "metadata": {},
   "source": [
    "Гистограмма по длине слов в отзывах"
   ]
  },
  {
   "cell_type": "code",
   "execution_count": 12,
   "metadata": {},
   "outputs": [],
   "source": [
    "df_2 = df.copy() #code df for calculations\n",
    "df_2.drop(['rating_not_checked', 'city', 'num_comments', \n",
    "           'bank_license', 'author', 'datetime', 'title',\n",
    "           'bank_name','rating_grade'], axis=1, inplace=True)\n",
    "df_2.text = df_2.text.str.replace('г\\.','') #delete from text г. \n",
    "df_2.text = df_2.text.str.replace('ст\\.','') #delete from text ст. \n",
    "df_2.text = df_2.text.str.replace('обл\\.','область') #rename text  "
   ]
  },
  {
   "cell_type": "code",
   "execution_count": 13,
   "metadata": {},
   "outputs": [],
   "source": [
    "df_2['text'] = df_2.text.apply(remove_chars_from_text) #clear text from chars"
   ]
  },
  {
   "cell_type": "code",
   "execution_count": 14,
   "metadata": {},
   "outputs": [
    {
     "name": "stderr",
     "output_type": "stream",
     "text": [
      "100%|█████████████████████████████████████████████████████████████████████| 201030/201030 [00:00<00:00, 1988446.69it/s]\n"
     ]
    },
    {
     "name": "stdout",
     "output_type": "stream",
     "text": [
      "Wall time: 3min 25s\n"
     ]
    }
   ],
   "source": [
    "%%time\n",
    "\n",
    "df_2['words'] = tqdm(df_2.text.apply(word_tokenize)) #tokenized"
   ]
  },
  {
   "cell_type": "code",
   "execution_count": 15,
   "metadata": {},
   "outputs": [],
   "source": [
    "df_2['word_freq'] = df_2.words.apply(FreqDist) #dict with word frequency"
   ]
  },
  {
   "cell_type": "code",
   "execution_count": 16,
   "metadata": {},
   "outputs": [
    {
     "data": {
      "text/html": [
       "<div>\n",
       "<style scoped>\n",
       "    .dataframe tbody tr th:only-of-type {\n",
       "        vertical-align: middle;\n",
       "    }\n",
       "\n",
       "    .dataframe tbody tr th {\n",
       "        vertical-align: top;\n",
       "    }\n",
       "\n",
       "    .dataframe thead th {\n",
       "        text-align: right;\n",
       "    }\n",
       "</style>\n",
       "<table border=\"1\" class=\"dataframe\">\n",
       "  <thead>\n",
       "    <tr style=\"text-align: right;\">\n",
       "      <th></th>\n",
       "      <th>text</th>\n",
       "      <th>words</th>\n",
       "      <th>word_freq</th>\n",
       "    </tr>\n",
       "  </thead>\n",
       "  <tbody>\n",
       "    <tr>\n",
       "      <th>0</th>\n",
       "      <td>здравствуйте  хотелось бы выразить благодарнос...</td>\n",
       "      <td>[здравствуйте, хотелось, бы, выразить, благода...</td>\n",
       "      <td>{'здравствуйте': 1, 'хотелось': 1, 'бы': 1, 'в...</td>\n",
       "    </tr>\n",
       "    <tr>\n",
       "      <th>1</th>\n",
       "      <td>уважаемые представители департамента по работе...</td>\n",
       "      <td>[уважаемые, представители, департамента, по, р...</td>\n",
       "      <td>{'уважаемые': 1, 'представители': 1, 'департам...</td>\n",
       "    </tr>\n",
       "    <tr>\n",
       "      <th>2</th>\n",
       "      <td>здравствуйте столкнулась с такой ситуацией в  ...</td>\n",
       "      <td>[здравствуйте, столкнулась, с, такой, ситуацие...</td>\n",
       "      <td>{'здравствуйте': 1, 'столкнулась': 1, 'с': 12,...</td>\n",
       "    </tr>\n",
       "    <tr>\n",
       "      <th>3</th>\n",
       "      <td>июня  в москве в отделении по адресусмоленска...</td>\n",
       "      <td>[июня, в, москве, в, отделении, по, адресусмол...</td>\n",
       "      <td>{'июня': 2, 'в': 12, 'москве': 1, 'отделении':...</td>\n",
       "    </tr>\n",
       "    <tr>\n",
       "      <th>4</th>\n",
       "      <td>история очень долгая пришел я в банк это раз  ...</td>\n",
       "      <td>[история, очень, долгая, пришел, я, в, банк, э...</td>\n",
       "      <td>{'история': 1, 'очень': 1, 'долгая': 1, 'прише...</td>\n",
       "    </tr>\n",
       "  </tbody>\n",
       "</table>\n",
       "</div>"
      ],
      "text/plain": [
       "                                                text  \\\n",
       "0  здравствуйте  хотелось бы выразить благодарнос...   \n",
       "1  уважаемые представители департамента по работе...   \n",
       "2  здравствуйте столкнулась с такой ситуацией в  ...   \n",
       "3   июня  в москве в отделении по адресусмоленска...   \n",
       "4  история очень долгая пришел я в банк это раз  ...   \n",
       "\n",
       "                                               words  \\\n",
       "0  [здравствуйте, хотелось, бы, выразить, благода...   \n",
       "1  [уважаемые, представители, департамента, по, р...   \n",
       "2  [здравствуйте, столкнулась, с, такой, ситуацие...   \n",
       "3  [июня, в, москве, в, отделении, по, адресусмол...   \n",
       "4  [история, очень, долгая, пришел, я, в, банк, э...   \n",
       "\n",
       "                                           word_freq  \n",
       "0  {'здравствуйте': 1, 'хотелось': 1, 'бы': 1, 'в...  \n",
       "1  {'уважаемые': 1, 'представители': 1, 'департам...  \n",
       "2  {'здравствуйте': 1, 'столкнулась': 1, 'с': 12,...  \n",
       "3  {'июня': 2, 'в': 12, 'москве': 1, 'отделении':...  \n",
       "4  {'история': 1, 'очень': 1, 'долгая': 1, 'прише...  "
      ]
     },
     "execution_count": 16,
     "metadata": {},
     "output_type": "execute_result"
    }
   ],
   "source": [
    "df_2.head()"
   ]
  },
  {
   "cell_type": "code",
   "execution_count": 86,
   "metadata": {},
   "outputs": [
    {
     "data": {
      "text/plain": [
       "0         None\n",
       "1         None\n",
       "2         None\n",
       "3         None\n",
       "4         None\n",
       "          ... \n",
       "201025    None\n",
       "201026    None\n",
       "201027    None\n",
       "201028    None\n",
       "201029    None\n",
       "Name: word_freq, Length: 201030, dtype: object"
      ]
     },
     "execution_count": 86,
     "metadata": {},
     "output_type": "execute_result"
    }
   ],
   "source": [
    "GLOBAL_DICT = {}\n",
    "\n",
    "def len_word_count(dict1):\n",
    "    for key in dict1.keys():\n",
    "        if len(key) in GLOBAL_DICT.keys():\n",
    "            GLOBAL_DICT[len(key)] += dict1[key]\n",
    "        else:\n",
    "            GLOBAL_DICT[len(key)] = dict1[key]\n",
    "\n",
    "            \n",
    "df_2.word_freq.apply(len_word_count)"
   ]
  },
  {
   "cell_type": "code",
   "execution_count": 18,
   "metadata": {},
   "outputs": [
    {
     "data": {
      "text/plain": [
       "<AxesSubplot:>"
      ]
     },
     "execution_count": 18,
     "metadata": {},
     "output_type": "execute_result"
    },
    {
     "data": {
      "image/png": "[encoded data removed]",
      "text/plain": [
       "<Figure size 432x288 with 1 Axes>"
      ]
     },
     "metadata": {
      "needs_background": "light"
     },
     "output_type": "display_data"
    }
   ],
   "source": [
    "df_w = pd.DataFrame.from_dict(dict(sorted(GLOBAL_DICT.items(), key=lambda x: x[0])), orient='index')\n",
    "#df_w.tail(20)\n",
    "df_w[0].hist(bins=50)"
   ]
  },
  {
   "cell_type": "markdown",
   "metadata": {},
   "source": [
    "Гистограмма по количеству слов в отзывах"
   ]
  },
  {
   "cell_type": "code",
   "execution_count": 19,
   "metadata": {},
   "outputs": [],
   "source": [
    "df_2['word_len'] = df_2.words.apply(len_text_sym)"
   ]
  },
  {
   "cell_type": "code",
   "execution_count": 20,
   "metadata": {},
   "outputs": [
    {
     "data": {
      "image/png": "[encoded data removed]",
      "text/plain": [
       "<Figure size 432x288 with 1 Axes>"
      ]
     },
     "metadata": {
      "needs_background": "light"
     },
     "output_type": "display_data"
    }
   ],
   "source": [
    "from matplotlib import pyplot as plt\n",
    "plt.hist(df_2.word_len, bins=30)\n",
    "plt.grid()\n",
    "plt.show()"
   ]
  },
  {
   "cell_type": "markdown",
   "metadata": {},
   "source": [
    "Найдите 10 самых частых слов"
   ]
  },
  {
   "cell_type": "code",
   "execution_count": 21,
   "metadata": {},
   "outputs": [],
   "source": [
    "df_3 = df_2.copy()\n",
    "df_3.drop(['word_freq', 'word_len'], axis=1, inplace=True)"
   ]
  },
  {
   "cell_type": "code",
   "execution_count": 14,
   "metadata": {},
   "outputs": [],
   "source": [
    "from nltk.corpus import stopwords\n",
    "mystopwords = stopwords.words('russian') + ['это', 'наш' , 'тыс', 'млн', 'млрд', 'также',  'т', 'д']"
   ]
  },
  {
   "cell_type": "code",
   "execution_count": 24,
   "metadata": {},
   "outputs": [],
   "source": [
    "def remove_stopwords(text, mystopwords = mystopwords):\n",
    "    try:\n",
    "        return \" \".join([token for token in text.split() if not token in mystopwords])\n",
    "    except:\n",
    "        return \"\""
   ]
  },
  {
   "cell_type": "code",
   "execution_count": 25,
   "metadata": {},
   "outputs": [],
   "source": [
    "df_3['wo_stop_words'] = df_3.text.apply(remove_stopwords)"
   ]
  },
  {
   "cell_type": "code",
   "execution_count": 28,
   "metadata": {},
   "outputs": [],
   "source": [
    "df_3['wo_stop_words_token'] = df_3.wo_stop_words.apply(word_tokenize)"
   ]
  },
  {
   "cell_type": "code",
   "execution_count": 29,
   "metadata": {},
   "outputs": [
    {
     "data": {
      "text/html": [
       "<div>\n",
       "<style scoped>\n",
       "    .dataframe tbody tr th:only-of-type {\n",
       "        vertical-align: middle;\n",
       "    }\n",
       "\n",
       "    .dataframe tbody tr th {\n",
       "        vertical-align: top;\n",
       "    }\n",
       "\n",
       "    .dataframe thead th {\n",
       "        text-align: right;\n",
       "    }\n",
       "</style>\n",
       "<table border=\"1\" class=\"dataframe\">\n",
       "  <thead>\n",
       "    <tr style=\"text-align: right;\">\n",
       "      <th></th>\n",
       "      <th>text</th>\n",
       "      <th>words</th>\n",
       "      <th>wo_stop_words</th>\n",
       "      <th>wo_stop_words_token</th>\n",
       "    </tr>\n",
       "  </thead>\n",
       "  <tbody>\n",
       "    <tr>\n",
       "      <th>0</th>\n",
       "      <td>здравствуйте  хотелось бы выразить благодарнос...</td>\n",
       "      <td>[здравствуйте, хотелось, бы, выразить, благода...</td>\n",
       "      <td>здравствуйте хотелось выразить благодарность б...</td>\n",
       "      <td>[здравствуйте, хотелось, выразить, благодарнос...</td>\n",
       "    </tr>\n",
       "    <tr>\n",
       "      <th>1</th>\n",
       "      <td>уважаемые представители департамента по работе...</td>\n",
       "      <td>[уважаемые, представители, департамента, по, р...</td>\n",
       "      <td>уважаемые представители департамента работе пр...</td>\n",
       "      <td>[уважаемые, представители, департамента, работ...</td>\n",
       "    </tr>\n",
       "    <tr>\n",
       "      <th>2</th>\n",
       "      <td>здравствуйте столкнулась с такой ситуацией в  ...</td>\n",
       "      <td>[здравствуйте, столкнулась, с, такой, ситуацие...</td>\n",
       "      <td>здравствуйте столкнулась ситуацией году взяла ...</td>\n",
       "      <td>[здравствуйте, столкнулась, ситуацией, году, в...</td>\n",
       "    </tr>\n",
       "    <tr>\n",
       "      <th>3</th>\n",
       "      <td>июня  в москве в отделении по адресусмоленска...</td>\n",
       "      <td>[июня, в, москве, в, отделении, по, адресусмол...</td>\n",
       "      <td>июня москве отделении адресусмоленскаясенная п...</td>\n",
       "      <td>[июня, москве, отделении, адресусмоленскаясенн...</td>\n",
       "    </tr>\n",
       "    <tr>\n",
       "      <th>4</th>\n",
       "      <td>история очень долгая пришел я в банк это раз  ...</td>\n",
       "      <td>[история, очень, долгая, пришел, я, в, банк, э...</td>\n",
       "      <td>история очень долгая пришел банк маязакрывать ...</td>\n",
       "      <td>[история, очень, долгая, пришел, банк, маязакр...</td>\n",
       "    </tr>\n",
       "  </tbody>\n",
       "</table>\n",
       "</div>"
      ],
      "text/plain": [
       "                                                text  \\\n",
       "0  здравствуйте  хотелось бы выразить благодарнос...   \n",
       "1  уважаемые представители департамента по работе...   \n",
       "2  здравствуйте столкнулась с такой ситуацией в  ...   \n",
       "3   июня  в москве в отделении по адресусмоленска...   \n",
       "4  история очень долгая пришел я в банк это раз  ...   \n",
       "\n",
       "                                               words  \\\n",
       "0  [здравствуйте, хотелось, бы, выразить, благода...   \n",
       "1  [уважаемые, представители, департамента, по, р...   \n",
       "2  [здравствуйте, столкнулась, с, такой, ситуацие...   \n",
       "3  [июня, в, москве, в, отделении, по, адресусмол...   \n",
       "4  [история, очень, долгая, пришел, я, в, банк, э...   \n",
       "\n",
       "                                       wo_stop_words  \\\n",
       "0  здравствуйте хотелось выразить благодарность б...   \n",
       "1  уважаемые представители департамента работе пр...   \n",
       "2  здравствуйте столкнулась ситуацией году взяла ...   \n",
       "3  июня москве отделении адресусмоленскаясенная п...   \n",
       "4  история очень долгая пришел банк маязакрывать ...   \n",
       "\n",
       "                                 wo_stop_words_token  \n",
       "0  [здравствуйте, хотелось, выразить, благодарнос...  \n",
       "1  [уважаемые, представители, департамента, работ...  \n",
       "2  [здравствуйте, столкнулась, ситуацией, году, в...  \n",
       "3  [июня, москве, отделении, адресусмоленскаясенн...  \n",
       "4  [история, очень, долгая, пришел, банк, маязакр...  "
      ]
     },
     "execution_count": 29,
     "metadata": {},
     "output_type": "execute_result"
    }
   ],
   "source": [
    "df_3.head()"
   ]
  },
  {
   "cell_type": "code",
   "execution_count": 31,
   "metadata": {},
   "outputs": [],
   "source": [
    "morph = MorphAnalyzer()\n",
    "\n",
    "def make_lemmas(text):\n",
    "    tokens = []\n",
    "    for word in text:\n",
    "        tokens.append(morph.normal_forms(word)[0])\n",
    "    \n",
    "    return tokens\n",
    "\n"
   ]
  },
  {
   "cell_type": "code",
   "execution_count": 32,
   "metadata": {},
   "outputs": [
    {
     "name": "stdout",
     "output_type": "stream",
     "text": [
      "Wall time: 1h 27min 26s\n"
     ]
    }
   ],
   "source": [
    "%%time\n",
    "\n",
    "df_3['wo_stop_words_lemmas'] = df_3.wo_stop_words_token.apply(make_lemmas)"
   ]
  },
  {
   "cell_type": "code",
   "execution_count": 35,
   "metadata": {},
   "outputs": [
    {
     "data": {
      "text/html": [
       "<div>\n",
       "<style scoped>\n",
       "    .dataframe tbody tr th:only-of-type {\n",
       "        vertical-align: middle;\n",
       "    }\n",
       "\n",
       "    .dataframe tbody tr th {\n",
       "        vertical-align: top;\n",
       "    }\n",
       "\n",
       "    .dataframe thead th {\n",
       "        text-align: right;\n",
       "    }\n",
       "</style>\n",
       "<table border=\"1\" class=\"dataframe\">\n",
       "  <thead>\n",
       "    <tr style=\"text-align: right;\">\n",
       "      <th></th>\n",
       "      <th>text</th>\n",
       "      <th>words</th>\n",
       "      <th>wo_stop_words</th>\n",
       "      <th>wo_stop_words_token</th>\n",
       "      <th>wo_stop_words_lemmas</th>\n",
       "    </tr>\n",
       "  </thead>\n",
       "  <tbody>\n",
       "    <tr>\n",
       "      <th>0</th>\n",
       "      <td>здравствуйте  хотелось бы выразить благодарнос...</td>\n",
       "      <td>[здравствуйте, хотелось, бы, выразить, благода...</td>\n",
       "      <td>здравствуйте хотелось выразить благодарность б...</td>\n",
       "      <td>[здравствуйте, хотелось, выразить, благодарнос...</td>\n",
       "      <td>[здравствуйте, хотеться, выразить, благодарнос...</td>\n",
       "    </tr>\n",
       "    <tr>\n",
       "      <th>1</th>\n",
       "      <td>уважаемые представители департамента по работе...</td>\n",
       "      <td>[уважаемые, представители, департамента, по, р...</td>\n",
       "      <td>уважаемые представители департамента работе пр...</td>\n",
       "      <td>[уважаемые, представители, департамента, работ...</td>\n",
       "      <td>[уважаемый, представитель, департамент, работа...</td>\n",
       "    </tr>\n",
       "    <tr>\n",
       "      <th>2</th>\n",
       "      <td>здравствуйте столкнулась с такой ситуацией в  ...</td>\n",
       "      <td>[здравствуйте, столкнулась, с, такой, ситуацие...</td>\n",
       "      <td>здравствуйте столкнулась ситуацией году взяла ...</td>\n",
       "      <td>[здравствуйте, столкнулась, ситуацией, году, в...</td>\n",
       "      <td>[здравствуйте, столкнуться, ситуация, год, взя...</td>\n",
       "    </tr>\n",
       "    <tr>\n",
       "      <th>3</th>\n",
       "      <td>июня  в москве в отделении по адресусмоленска...</td>\n",
       "      <td>[июня, в, москве, в, отделении, по, адресусмол...</td>\n",
       "      <td>июня москве отделении адресусмоленскаясенная п...</td>\n",
       "      <td>[июня, москве, отделении, адресусмоленскаясенн...</td>\n",
       "      <td>[июнь, москва, отделение, адресусмоленскаясенн...</td>\n",
       "    </tr>\n",
       "    <tr>\n",
       "      <th>4</th>\n",
       "      <td>история очень долгая пришел я в банк это раз  ...</td>\n",
       "      <td>[история, очень, долгая, пришел, я, в, банк, э...</td>\n",
       "      <td>история очень долгая пришел банк маязакрывать ...</td>\n",
       "      <td>[история, очень, долгая, пришел, банк, маязакр...</td>\n",
       "      <td>[история, очень, долгий, прийти, банк, маязакр...</td>\n",
       "    </tr>\n",
       "  </tbody>\n",
       "</table>\n",
       "</div>"
      ],
      "text/plain": [
       "                                                text  \\\n",
       "0  здравствуйте  хотелось бы выразить благодарнос...   \n",
       "1  уважаемые представители департамента по работе...   \n",
       "2  здравствуйте столкнулась с такой ситуацией в  ...   \n",
       "3   июня  в москве в отделении по адресусмоленска...   \n",
       "4  история очень долгая пришел я в банк это раз  ...   \n",
       "\n",
       "                                               words  \\\n",
       "0  [здравствуйте, хотелось, бы, выразить, благода...   \n",
       "1  [уважаемые, представители, департамента, по, р...   \n",
       "2  [здравствуйте, столкнулась, с, такой, ситуацие...   \n",
       "3  [июня, в, москве, в, отделении, по, адресусмол...   \n",
       "4  [история, очень, долгая, пришел, я, в, банк, э...   \n",
       "\n",
       "                                       wo_stop_words  \\\n",
       "0  здравствуйте хотелось выразить благодарность б...   \n",
       "1  уважаемые представители департамента работе пр...   \n",
       "2  здравствуйте столкнулась ситуацией году взяла ...   \n",
       "3  июня москве отделении адресусмоленскаясенная п...   \n",
       "4  история очень долгая пришел банк маязакрывать ...   \n",
       "\n",
       "                                 wo_stop_words_token  \\\n",
       "0  [здравствуйте, хотелось, выразить, благодарнос...   \n",
       "1  [уважаемые, представители, департамента, работ...   \n",
       "2  [здравствуйте, столкнулась, ситуацией, году, в...   \n",
       "3  [июня, москве, отделении, адресусмоленскаясенн...   \n",
       "4  [история, очень, долгая, пришел, банк, маязакр...   \n",
       "\n",
       "                                wo_stop_words_lemmas  \n",
       "0  [здравствуйте, хотеться, выразить, благодарнос...  \n",
       "1  [уважаемый, представитель, департамент, работа...  \n",
       "2  [здравствуйте, столкнуться, ситуация, год, взя...  \n",
       "3  [июнь, москва, отделение, адресусмоленскаясенн...  \n",
       "4  [история, очень, долгий, прийти, банк, маязакр...  "
      ]
     },
     "execution_count": 35,
     "metadata": {},
     "output_type": "execute_result"
    }
   ],
   "source": [
    "df_3.head()"
   ]
  },
  {
   "cell_type": "markdown",
   "metadata": {},
   "source": [
    "Построим кривую Ципфа"
   ]
  },
  {
   "cell_type": "code",
   "execution_count": 71,
   "metadata": {},
   "outputs": [],
   "source": [
    "ALL = []\n",
    "for elem in df_2.iloc[:,1]:\n",
    "    ALL +=elem"
   ]
  },
  {
   "cell_type": "code",
   "execution_count": 78,
   "metadata": {
    "scrolled": true
   },
   "outputs": [
    {
     "data": {
      "image/png": "[encoded data removed]",
      "text/plain": [
       "<Figure size 432x288 with 1 Axes>"
      ]
     },
     "metadata": {
      "needs_background": "light"
     },
     "output_type": "display_data"
    },
    {
     "data": {
      "text/plain": [
       "<AxesSubplot:xlabel='Samples', ylabel='Counts'>"
      ]
     },
     "execution_count": 78,
     "metadata": {},
     "output_type": "execute_result"
    }
   ],
   "source": [
    "FreqDist(ALL).plot(50,cumulative=False)"
   ]
  },
  {
   "cell_type": "markdown",
   "metadata": {},
   "source": [
    "Построим кривую Хипса"
   ]
  },
  {
   "cell_type": "code",
   "execution_count": 118,
   "metadata": {},
   "outputs": [
    {
     "data": {
      "image/png": "[encoded data removed]",
      "text/plain": [
       "<Figure size 432x288 with 1 Axes>"
      ]
     },
     "metadata": {
      "needs_background": "light"
     },
     "output_type": "display_data"
    }
   ],
   "source": [
    "Y = []\n",
    "X = []\n",
    "prev = len(df_2.iloc[0,2])\n",
    "Y.append(prev)\n",
    "for i in range(1, df_2.shape[0]):\n",
    "    Y.append(prev+len(df_2.iloc[i,2]))\n",
    "    prev += len(df_2.iloc[i,2])\n",
    "\n",
    "prev = len(df_2.iloc[0,1])\n",
    "X.append(prev)\n",
    "for i in range(1, df_2.shape[0]):\n",
    "    X.append(prev+len(df_2.iloc[i,1]))\n",
    "    prev += len(df_2.iloc[i,1])\n",
    "\n",
    "    \n",
    "plt.title('Кривая Хипса')\n",
    "plt.plot(X,Y,'ro')\n",
    "plt.show()"
   ]
  },
  {
   "cell_type": "markdown",
   "metadata": {},
   "source": [
    "10 самых частых слов"
   ]
  },
  {
   "cell_type": "code",
   "execution_count": 55,
   "metadata": {},
   "outputs": [
    {
     "data": {
      "text/plain": [
       "['в', 'и', 'не', 'на', 'что', 'я', 'с', 'по', 'мне', 'банка']"
      ]
     },
     "execution_count": 55,
     "metadata": {},
     "output_type": "execute_result"
    }
   ],
   "source": [
    "all_word_freq = defaultdict(int)\n",
    "for tokens in df_3.loc[:,'words']:\n",
    "    for token in tokens:\n",
    "        all_word_freq[token] += 1\n",
    "sorted(all_word_freq, key=all_word_freq.get, reverse=True)[:10]"
   ]
  },
  {
   "cell_type": "markdown",
   "metadata": {},
   "source": [
    "10 самых частых слов без стоп-слов "
   ]
  },
  {
   "cell_type": "code",
   "execution_count": 56,
   "metadata": {},
   "outputs": [
    {
     "data": {
      "text/plain": [
       "['банка',\n",
       " 'банк',\n",
       " 'деньги',\n",
       " 'карту',\n",
       " 'карты',\n",
       " 'кредит',\n",
       " 'день',\n",
       " 'очень',\n",
       " 'банке',\n",
       " 'время']"
      ]
     },
     "execution_count": 56,
     "metadata": {},
     "output_type": "execute_result"
    }
   ],
   "source": [
    "wo_stopword_freq = defaultdict(int)\n",
    "for tokens in df_3.loc[:,'wo_stop_words_token']:\n",
    "    for token in tokens:\n",
    "        wo_stopword_freq[token] += 1\n",
    "\n",
    "sorted(wo_stopword_freq, key=wo_stopword_freq.get, reverse=True)[:10]"
   ]
  },
  {
   "cell_type": "markdown",
   "metadata": {},
   "source": [
    "10 самых частых лемм"
   ]
  },
  {
   "cell_type": "code",
   "execution_count": 57,
   "metadata": {},
   "outputs": [
    {
     "data": {
      "text/plain": [
       "['банк',\n",
       " 'карта',\n",
       " 'деньга',\n",
       " 'день',\n",
       " 'кредит',\n",
       " 'мой',\n",
       " 'который',\n",
       " 'счёт',\n",
       " 'отделение',\n",
       " 'клиент']"
      ]
     },
     "execution_count": 57,
     "metadata": {},
     "output_type": "execute_result"
    }
   ],
   "source": [
    "lemmas_freq = defaultdict(int)\n",
    "for tokens in df_3.loc[:,'wo_stop_words_lemmas']:\n",
    "    for token in tokens:\n",
    "        lemmas_freq[token] += 1\n",
    "\n",
    "sorted(lemmas_freq, key=lemmas_freq.get, reverse=True)[:10]"
   ]
  },
  {
   "cell_type": "markdown",
   "metadata": {},
   "source": [
    "10 самых частых существительных"
   ]
  },
  {
   "cell_type": "code",
   "execution_count": 58,
   "metadata": {},
   "outputs": [
    {
     "data": {
      "text/plain": [
       "['банк',\n",
       " 'карта',\n",
       " 'деньга',\n",
       " 'день',\n",
       " 'кредит',\n",
       " 'счёт',\n",
       " 'отделение',\n",
       " 'клиент',\n",
       " 'сотрудник',\n",
       " 'сумма']"
      ]
     },
     "execution_count": 58,
     "metadata": {},
     "output_type": "execute_result"
    }
   ],
   "source": [
    "noun_freq = defaultdict(int)\n",
    "for tokens in df_3.loc[:,'wo_stop_words_lemmas']:\n",
    "    for token in tokens:\n",
    "        if morph.parse(token)[0].tag.POS == 'NOUN':\n",
    "            noun_freq[token] += 1\n",
    "\n",
    "sorted(noun_freq, key=noun_freq.get, reverse=True)[:10]"
   ]
  },
  {
   "cell_type": "markdown",
   "metadata": {},
   "source": [
    "Ответьте на следующие вопросы:"
   ]
  },
  {
   "cell_type": "markdown",
   "metadata": {},
   "source": [
    "какое слово встречается чаще, \"сотрудник\" или \"клиент\"?"
   ]
  },
  {
   "cell_type": "code",
   "execution_count": 82,
   "metadata": {},
   "outputs": [
    {
     "name": "stdout",
     "output_type": "stream",
     "text": [
      "Слово СПЕЦИАЛИСТ встречается реже слова КЛИЕНТ\n",
      "Кол-во упоминаний слова СПЕЦИАЛИСТ:  34645\n",
      "Кол-во упоминаний слова КЛИЕНТ:  168006\n"
     ]
    }
   ],
   "source": [
    "if noun_freq['специалист'] > noun_freq['клиент']:\n",
    "    print('Слово СПЕЦИАЛИСТ встречается чаще слова КЛИЕНТ')\n",
    "else:\n",
    "    print('Слово СПЕЦИАЛИСТ встречается реже слова КЛИЕНТ')\n",
    "print('Кол-во упоминаний слова СПЕЦИАЛИСТ: ', noun_freq['специалист'])\n",
    "print('Кол-во упоминаний слова КЛИЕНТ: ', noun_freq['клиент'])"
   ]
  },
  {
   "cell_type": "markdown",
   "metadata": {},
   "source": [
    "сколько раз встречается слова \"мошенничество\" и \"доверие\"?"
   ]
  },
  {
   "cell_type": "code",
   "execution_count": 83,
   "metadata": {},
   "outputs": [
    {
     "name": "stdout",
     "output_type": "stream",
     "text": [
      "Кол-во упоминаний слова МОШЕННИЧЕСТВО:  3864\n",
      "Кол-во упоминаний слова ДОВЕРИЕ:  2723\n"
     ]
    }
   ],
   "source": [
    "print('Кол-во упоминаний слова МОШЕННИЧЕСТВО: ', noun_freq['мошенничество'])\n",
    "print('Кол-во упоминаний слова ДОВЕРИЕ: ', noun_freq['доверие'])"
   ]
  },
  {
   "cell_type": "markdown",
   "metadata": {},
   "source": [
    "В поле \"rating_grade\" записана оценка отзыва по шкале от 1 до 5. Используйте меру $tf-idf$, для того, чтобы найти ключевые слова и биграмы для положительных отзывов (с оценкой 5) и отрицательных отзывов (с оценкой 1)"
   ]
  },
  {
   "cell_type": "markdown",
   "metadata": {},
   "source": [
    "Подготовим 2 дата фрейма "
   ]
  },
  {
   "cell_type": "code",
   "execution_count": 3,
   "metadata": {},
   "outputs": [],
   "source": [
    "df_5 = pd.read_json('banki_responses.json', lines = True)\n",
    "df_5.drop(['city', 'bank_name', 'rating_not_checked', 'num_comments', 'bank_license', 'author', 'datetime', 'title'], axis=1, inplace=True)\n",
    "df_1 = df_5[df_5.rating_grade == 1.0] #датафрейм с негативными отзывами\n",
    "df_5 = df_5[df_5.rating_grade == 5.0] #датафрейм с позитивными отзывами\n",
    "df_1.drop(['rating_grade'], axis=1, inplace=True)\n",
    "df_5.drop(['rating_grade'], axis=1, inplace=True)"
   ]
  },
  {
   "cell_type": "markdown",
   "metadata": {},
   "source": [
    "Отработаем негативный датафрейм"
   ]
  },
  {
   "cell_type": "code",
   "execution_count": 8,
   "metadata": {},
   "outputs": [],
   "source": [
    "df_1.text = df_1.text.str.lower()\n",
    "df_1['text'] = df_1.text.apply(remove_chars_from_text) #clear text from chars\n",
    "df_1['tokens'] = df_1.text.apply(word_tokenize)"
   ]
  },
  {
   "cell_type": "markdown",
   "metadata": {},
   "source": [
    "Выделим ключевые слова"
   ]
  },
  {
   "cell_type": "code",
   "execution_count": 17,
   "metadata": {},
   "outputs": [],
   "source": [
    "tfidf = TfidfVectorizer(analyzer='word', ngram_range=(1,1), min_df = 0, stop_words=stopwords)\n",
    "tfidf_matrix =  tfidf.fit_transform(df_1.iloc[:,0])"
   ]
  },
  {
   "cell_type": "code",
   "execution_count": 18,
   "metadata": {},
   "outputs": [
    {
     "data": {
      "text/plain": [
       "['банка',\n",
       " 'банк',\n",
       " 'деньги',\n",
       " 'это',\n",
       " 'карту',\n",
       " 'кредит',\n",
       " 'карты',\n",
       " 'заявление',\n",
       " 'день',\n",
       " 'отделение']"
      ]
     },
     "execution_count": 18,
     "metadata": {},
     "output_type": "execute_result"
    }
   ],
   "source": [
    "idx = np.ravel(tfidf_matrix.sum(axis=0).argsort(axis=1))[::-1][:10]\n",
    "top_10_words = np.array(tfidf.get_feature_names())[idx].tolist()\n",
    "top_10_words"
   ]
  },
  {
   "cell_type": "markdown",
   "metadata": {},
   "source": [
    "Выделим ключевые биграммы"
   ]
  },
  {
   "cell_type": "code",
   "execution_count": 19,
   "metadata": {},
   "outputs": [
    {
     "data": {
      "text/plain": [
       "['добрый день',\n",
       " 'отделение банка',\n",
       " 'сих пор',\n",
       " 'денежных средств',\n",
       " 'денежные средства',\n",
       " 'следующий день',\n",
       " 'сотрудники банка',\n",
       " 'кредитную карту',\n",
       " 'сотрудник банка',\n",
       " 'горячую линию']"
      ]
     },
     "execution_count": 19,
     "metadata": {},
     "output_type": "execute_result"
    }
   ],
   "source": [
    "tfidf_1_bigrams = TfidfVectorizer(analyzer='word', ngram_range=(2,2), min_df = 0, stop_words=stopwords)\n",
    "tfidf_matrix_1_bigrams =  tfidf_1_bigrams.fit_transform(df_1.iloc[:,0])\n",
    "\n",
    "idx = np.ravel(tfidf_matrix_1_bigrams.sum(axis=0).argsort(axis=1))[::-1][:10]\n",
    "top_10_bigrams = np.array(tfidf_1_bigrams.get_feature_names())[idx].tolist()\n",
    "top_10_bigrams"
   ]
  },
  {
   "cell_type": "markdown",
   "metadata": {},
   "source": [
    "Отработаем позитивный датафрейм"
   ]
  },
  {
   "cell_type": "code",
   "execution_count": 20,
   "metadata": {},
   "outputs": [],
   "source": [
    "df_5.text = df_5.text.str.lower()\n",
    "df_5['text'] = df_5.text.apply(remove_chars_from_text) #clear text from chars\n",
    "df_5['tokens'] = df_5.text.apply(word_tokenize)"
   ]
  },
  {
   "cell_type": "markdown",
   "metadata": {},
   "source": [
    "Выделим ключевые слова"
   ]
  },
  {
   "cell_type": "code",
   "execution_count": 21,
   "metadata": {},
   "outputs": [],
   "source": [
    "tfidf_5_words = TfidfVectorizer(analyzer='word', ngram_range=(1,1), min_df = 0, stop_words=stopwords)\n",
    "tfidf_5_matrix =  tfidf_5_words.fit_transform(df_5.iloc[:,0])"
   ]
  },
  {
   "cell_type": "code",
   "execution_count": 22,
   "metadata": {},
   "outputs": [
    {
     "data": {
      "text/plain": [
       "['банка',\n",
       " 'очень',\n",
       " 'банк',\n",
       " 'это',\n",
       " 'кредит',\n",
       " 'спасибо',\n",
       " 'карту',\n",
       " 'деньги',\n",
       " 'банке',\n",
       " 'быстро']"
      ]
     },
     "execution_count": 22,
     "metadata": {},
     "output_type": "execute_result"
    }
   ],
   "source": [
    "idx_5_words = np.ravel(tfidf_5_matrix.sum(axis=0).argsort(axis=1))[::-1][:10]\n",
    "pos_top_10_words = np.array(tfidf_5_words.get_feature_names())[idx_5_words].tolist()\n",
    "pos_top_10_words"
   ]
  },
  {
   "cell_type": "markdown",
   "metadata": {},
   "source": [
    "Выделим ключевые биграммы"
   ]
  },
  {
   "cell_type": "code",
   "execution_count": 23,
   "metadata": {},
   "outputs": [],
   "source": [
    "tfidf_5_bigrams = TfidfVectorizer(analyzer='word', ngram_range=(2,2), min_df = 0, stop_words=stopwords)\n",
    "tfidf_matrix_5_bigrams =  tfidf_5_bigrams.fit_transform(df_5.iloc[:,0])"
   ]
  },
  {
   "cell_type": "code",
   "execution_count": 24,
   "metadata": {},
   "outputs": [
    {
     "data": {
      "text/plain": [
       "['являюсь клиентом',\n",
       " 'хочу выразить',\n",
       " 'добрый день',\n",
       " 'клиентом банка',\n",
       " 'выразить благодарность',\n",
       " 'очень удобно',\n",
       " 'большое спасибо',\n",
       " 'следующий день',\n",
       " 'очень быстро',\n",
       " 'огромное спасибо']"
      ]
     },
     "execution_count": 24,
     "metadata": {},
     "output_type": "execute_result"
    }
   ],
   "source": [
    "idx_5_bigrams = np.ravel(tfidf_matrix_5_bigrams.sum(axis=0).argsort(axis=1))[::-1][:10]\n",
    "pos_top_10_bigrams = np.array(tfidf_5_bigrams.get_feature_names())[idx_5_bigrams].tolist()\n",
    "pos_top_10_bigrams"
   ]
  },
  {
   "cell_type": "markdown",
   "metadata": {},
   "source": [
    "Часть 2. Тематическое моделирование"
   ]
  },
  {
   "cell_type": "markdown",
   "metadata": {},
   "source": [
    "Постройте несколько тематических моделей коллекции документов с разным числом тем. Приведите примеры понятных (интерпретируемых) тем."
   ]
  },
  {
   "cell_type": "code",
   "execution_count": 26,
   "metadata": {},
   "outputs": [],
   "source": [
    "from nltk.corpus import stopwords\n",
    "mystopwords = stopwords.words('russian') + [\n",
    "    'это', 'наш' , 'тыс', 'млн', 'млрд', 'также',  'т', 'д',\n",
    "    'который','прошлый','сей', 'свой', 'наш', 'мочь', 'такой'\n",
    "]\n",
    "ru_words = re.compile(\"[А-Яа-я]+\")\n",
    "\n",
    "\n",
    "def words_only(text):\n",
    "    return \" \".join(ru_words.findall(text))\n",
    "\n",
    "\n",
    "def my_lemmatize(text):\n",
    "    res = []\n",
    "    for el in text.split(' '):\n",
    "        res.append(morph.parse(el)[0].normal_form)\n",
    "    return ' '.join(res)\n",
    "\n",
    "\n",
    "def remove_stopwords(text, mystopwords = mystopwords):\n",
    "    try:\n",
    "        return \" \".join([token for token in text.split() if not token in mystopwords])\n",
    "    except:\n",
    "        return \"\"\n",
    "\n",
    "    \n",
    "def preprocess(text):\n",
    "    return remove_stopwords(my_lemmatize(words_only(text.lower())))"
   ]
  },
  {
   "cell_type": "code",
   "execution_count": 28,
   "metadata": {},
   "outputs": [],
   "source": [
    "df = pd.read_json('banki_responses.json', lines = True)\n",
    "df.drop(['city', 'bank_name', 'rating_not_checked', 'num_comments', 'bank_license', 'author', 'datetime', 'rating_grade'], axis=1, inplace=True)"
   ]
  },
  {
   "cell_type": "code",
   "execution_count": null,
   "metadata": {},
   "outputs": [],
   "source": [
    "df.text = df.text.apply(preprocess)"
   ]
  },
  {
   "cell_type": "markdown",
   "metadata": {},
   "source": [
    "CPU times: user 3h 29min 18s, sys: 24 s, total: 3h 29min 42s\n",
    "Wall time: 3h 30min 4s"
   ]
  },
  {
   "cell_type": "code",
   "execution_count": null,
   "metadata": {},
   "outputs": [],
   "source": [
    "df.to_json('my_j.json', orient='split')"
   ]
  },
  {
   "cell_type": "code",
   "execution_count": 3,
   "metadata": {},
   "outputs": [],
   "source": [
    "df = pd.read_json('my_j.json', orient='split')"
   ]
  },
  {
   "cell_type": "code",
   "execution_count": 31,
   "metadata": {},
   "outputs": [],
   "source": [
    "from gensim.corpora import Dictionary\n",
    "from gensim.models import TfidfModel\n",
    "from gensim import similarities\n",
    "from gensim.models import lsimodel"
   ]
  },
  {
   "cell_type": "code",
   "execution_count": 32,
   "metadata": {},
   "outputs": [],
   "source": [
    "texts = [text.split() for text in df.text]\n",
    "\n",
    "dictionary = Dictionary(texts)\n",
    "corpus = [dictionary.doc2bow(text) for text in texts]\n",
    "\n",
    "tfidf = TfidfModel(corpus)\n",
    "corpus_tfidf = tfidf[corpus]\n",
    "\n"
   ]
  },
  {
   "cell_type": "code",
   "execution_count": 33,
   "metadata": {},
   "outputs": [
    {
     "name": "stdout",
     "output_type": "stream",
     "text": [
      "Wall time: 2min 5s\n"
     ]
    }
   ],
   "source": [
    "%%time\n",
    "lsi_30 = lsimodel.LsiModel(corpus=corpus_tfidf, id2word=dictionary, num_topics=30)"
   ]
  },
  {
   "cell_type": "code",
   "execution_count": 34,
   "metadata": {},
   "outputs": [
    {
     "name": "stdout",
     "output_type": "stream",
     "text": [
      "Wall time: 2min 17s\n"
     ]
    }
   ],
   "source": [
    "%%time\n",
    "lsi_50 = lsimodel.LsiModel(corpus=corpus_tfidf, id2word=dictionary, num_topics=50)"
   ]
  },
  {
   "cell_type": "code",
   "execution_count": 35,
   "metadata": {},
   "outputs": [],
   "source": [
    "lsi_10 = lsimodel.LsiModel(corpus=corpus_tfidf, id2word=dictionary, num_topics=10)\n"
   ]
  },
  {
   "cell_type": "code",
   "execution_count": 36,
   "metadata": {},
   "outputs": [
    {
     "data": {
      "text/plain": [
       "[(0,\n",
       "  '0.199*\"карта\" + 0.140*\"кредит\" + 0.118*\"деньга\" + 0.110*\"счёт\" + 0.107*\"заявление\" + 0.102*\"вклад\" + 0.101*\"отделение\" + 0.100*\"сумма\" + 0.097*\"банкомат\" + 0.093*\"сбербанк\"'),\n",
       " (1,\n",
       "  '-0.450*\"вклад\" + 0.332*\"кредит\" + -0.169*\"банкомат\" + -0.152*\"карта\" + 0.148*\"платёж\" + 0.147*\"страховка\" + 0.145*\"задолженность\" + 0.132*\"погашение\" + 0.119*\"звонок\" + -0.115*\"открыть\"'),\n",
       " (2,\n",
       "  '0.440*\"вклад\" + -0.271*\"банкомат\" + -0.260*\"карта\" + -0.184*\"сбербанк\" + 0.182*\"кредит\" + -0.132*\"операция\" + -0.131*\"деньга\" + -0.130*\"заявление\" + -0.125*\"средство\" + 0.116*\"договор\"'),\n",
       " (3,\n",
       "  '-0.249*\"вклад\" + -0.222*\"сумма\" + 0.210*\"номер\" + -0.201*\"руб\" + 0.166*\"заявка\" + -0.164*\"платёж\" + -0.160*\"погашение\" + -0.159*\"договор\" + -0.157*\"процент\" + -0.156*\"комиссия\"'),\n",
       " (4,\n",
       "  '0.346*\"вклад\" + -0.297*\"карта\" + 0.252*\"номер\" + -0.190*\"заявка\" + 0.181*\"звонок\" + -0.169*\"страховка\" + -0.155*\"лимит\" + -0.141*\"кредитный\" + -0.131*\"кредит\" + 0.130*\"телефон\"')]"
      ]
     },
     "execution_count": 36,
     "metadata": {},
     "output_type": "execute_result"
    }
   ],
   "source": [
    "lsi_30.show_topics(5)"
   ]
  },
  {
   "cell_type": "code",
   "execution_count": 37,
   "metadata": {},
   "outputs": [
    {
     "data": {
      "text/plain": [
       "[(0,\n",
       "  '0.199*\"карта\" + 0.139*\"кредит\" + 0.118*\"деньга\" + 0.110*\"счёт\" + 0.107*\"заявление\" + 0.102*\"вклад\" + 0.101*\"отделение\" + 0.100*\"сумма\" + 0.097*\"банкомат\" + 0.093*\"сбербанк\"'),\n",
       " (1,\n",
       "  '-0.447*\"вклад\" + 0.332*\"кредит\" + -0.171*\"банкомат\" + -0.153*\"карта\" + 0.148*\"платёж\" + 0.148*\"страховка\" + 0.145*\"задолженность\" + 0.130*\"погашение\" + 0.120*\"звонок\" + -0.115*\"открыть\"'),\n",
       " (2,\n",
       "  '0.441*\"вклад\" + -0.270*\"банкомат\" + -0.259*\"карта\" + -0.184*\"сбербанк\" + 0.180*\"кредит\" + -0.132*\"операция\" + -0.131*\"деньга\" + -0.130*\"заявление\" + -0.125*\"средство\" + 0.115*\"договор\"'),\n",
       " (3,\n",
       "  '-0.243*\"вклад\" + -0.222*\"сумма\" + 0.218*\"номер\" + -0.201*\"руб\" + -0.164*\"платёж\" + 0.162*\"заявка\" + 0.160*\"звонок\" + -0.159*\"погашение\" + -0.158*\"договор\" + -0.156*\"процент\"'),\n",
       " (4,\n",
       "  '0.351*\"вклад\" + -0.291*\"карта\" + 0.252*\"номер\" + -0.196*\"заявка\" + 0.179*\"звонок\" + -0.168*\"страховка\" + -0.153*\"лимит\" + -0.139*\"кредитный\" + -0.132*\"кредит\" + 0.129*\"телефон\"')]"
      ]
     },
     "execution_count": 37,
     "metadata": {},
     "output_type": "execute_result"
    }
   ],
   "source": [
    "lsi_50.show_topics(5)"
   ]
  },
  {
   "cell_type": "markdown",
   "metadata": {},
   "source": [
    "Найдите темы, в которых упомянуты конкретные банки (Сбербанк, ВТБ, другой банк). Можете ли вы их прокомментировать / объяснить?"
   ]
  },
  {
   "cell_type": "code",
   "execution_count": 38,
   "metadata": {},
   "outputs": [],
   "source": [
    "def check_bank(thems, bank_name):\n",
    "    for el in thems:\n",
    "        if el[1].find(bank_name) != -1:\n",
    "            print(el[1])"
   ]
  },
  {
   "cell_type": "code",
   "execution_count": 39,
   "metadata": {},
   "outputs": [
    {
     "name": "stdout",
     "output_type": "stream",
     "text": [
      "0.199*\"карта\" + 0.140*\"кредит\" + 0.118*\"деньга\" + 0.110*\"счёт\" + 0.107*\"заявление\" + 0.102*\"вклад\" + 0.101*\"отделение\" + 0.100*\"сумма\" + 0.097*\"банкомат\" + 0.093*\"сбербанк\"\n",
      "0.440*\"вклад\" + -0.271*\"банкомат\" + -0.260*\"карта\" + -0.184*\"сбербанк\" + 0.182*\"кредит\" + -0.132*\"операция\" + -0.131*\"деньга\" + -0.130*\"заявление\" + -0.125*\"средство\" + 0.116*\"договор\"\n",
      "0.230*\"сбербанк\" + 0.224*\"заявка\" + 0.222*\"заявление\" + 0.189*\"страховка\" + -0.175*\"платёж\" + 0.153*\"документ\" + 0.147*\"страхование\" + 0.141*\"договор\" + -0.140*\"банкомат\" + 0.128*\"денежный\"\n",
      "-0.303*\"вклад\" + 0.227*\"перевод\" + -0.196*\"карта\" + 0.168*\"комиссия\" + 0.140*\"услуга\" + -0.133*\"заявление\" + 0.124*\"средство\" + -0.119*\"звонить\" + -0.116*\"позвонить\" + 0.114*\"сбербанк\"\n",
      "0.426*\"банкомат\" + -0.276*\"сбербанк\" + -0.269*\"платёж\" + -0.202*\"перевод\" + 0.153*\"страховка\" + 0.130*\"карта\" + -0.128*\"счёт\" + 0.125*\"альфа\" + 0.117*\"ваш\" + 0.114*\"страхование\"\n",
      "-0.456*\"страховка\" + -0.200*\"страхование\" + -0.182*\"номер\" + 0.180*\"кредитный\" + -0.157*\"смс\" + 0.150*\"задолженность\" + 0.142*\"справка\" + -0.138*\"страховой\" + -0.132*\"услуга\" + -0.131*\"сбербанк\"\n",
      "-0.409*\"заявка\" + 0.314*\"сбербанк\" + 0.207*\"карта\" + 0.193*\"заявление\" + -0.159*\"перевод\" + 0.154*\"отделение\" + -0.147*\"комиссия\" + 0.143*\"очередь\" + -0.139*\"кошелёк\" + -0.124*\"киви\"\n",
      "0.485*\"сбербанк\" + -0.246*\"счёт\" + 0.199*\"вклад\" + -0.165*\"перевод\" + 0.153*\"онлайн\" + -0.151*\"комиссия\" + 0.139*\"кредит\" + 0.137*\"заявка\" + 0.130*\"смс\" + -0.127*\"заявление\"\n",
      "0.357*\"сбербанк\" + 0.282*\"комиссия\" + -0.223*\"платёж\" + -0.189*\"терминал\" + -0.168*\"кошелёк\" + 0.160*\"перевод\" + -0.145*\"страховка\" + -0.140*\"киви\" + 0.126*\"справка\" + 0.112*\"снять\"\n",
      "-0.277*\"альфа\" + 0.223*\"ваш\" + 0.202*\"курс\" + -0.180*\"претензия\" + 0.165*\"платёж\" + -0.147*\"линия\" + -0.143*\"сбербанк\" + 0.142*\"валюта\" + -0.140*\"горячий\" + 0.138*\"доллар\"\n"
     ]
    }
   ],
   "source": [
    "check_bank(lsi_30.show_topics(), 'сбербанк')"
   ]
  },
  {
   "cell_type": "code",
   "execution_count": 40,
   "metadata": {},
   "outputs": [
    {
     "name": "stdout",
     "output_type": "stream",
     "text": [
      "0.426*\"банкомат\" + -0.276*\"сбербанк\" + -0.269*\"платёж\" + -0.202*\"перевод\" + 0.153*\"страховка\" + 0.130*\"карта\" + -0.128*\"счёт\" + 0.125*\"альфа\" + 0.117*\"ваш\" + 0.114*\"страхование\"\n",
      "0.271*\"кошелёк\" + 0.231*\"терминал\" + 0.222*\"киви\" + -0.221*\"смс\" + -0.198*\"погашение\" + -0.183*\"альфа\" + -0.167*\"досрочный\" + -0.162*\"услуга\" + 0.142*\"лимит\" + -0.131*\"претензия\"\n",
      "0.305*\"руб\" + 0.234*\"терминал\" + -0.223*\"счёт\" + 0.209*\"очередь\" + -0.187*\"деньга\" + -0.178*\"альфа\" + 0.162*\"касса\" + -0.159*\"перевод\" + -0.132*\"кредит\" + 0.128*\"кассир\"\n",
      "0.309*\"перевод\" + -0.225*\"смс\" + 0.192*\"комиссия\" + -0.189*\"альфа\" + -0.169*\"документ\" + 0.155*\"страховка\" + 0.150*\"терминал\" + -0.149*\"договор\" + 0.147*\"карта\" + -0.144*\"услуга\"\n",
      "0.312*\"кошелёк\" + -0.305*\"платёж\" + 0.241*\"киви\" + 0.230*\"справка\" + 0.199*\"терминал\" + 0.193*\"кредит\" + 0.186*\"руб\" + 0.169*\"альфа\" + -0.142*\"банкомат\" + -0.138*\"договор\"\n",
      "0.385*\"альфа\" + -0.272*\"погашение\" + -0.266*\"досрочный\" + 0.215*\"счёт\" + 0.197*\"руб\" + 0.172*\"терминал\" + -0.164*\"комиссия\" + 0.156*\"претензия\" + -0.153*\"кошелёк\" + -0.151*\"заявление\"\n",
      "-0.442*\"терминал\" + 0.393*\"руб\" + -0.283*\"комиссия\" + -0.183*\"альфа\" + 0.182*\"банкомат\" + -0.179*\"рубль\" + 0.143*\"кошелёк\" + 0.142*\"лимит\" + -0.138*\"р\" + -0.130*\"заявление\"\n",
      "0.587*\"р\" + -0.274*\"альфа\" + 0.272*\"смс\" + -0.234*\"руб\" + 0.177*\"лимит\" + -0.164*\"карта\" + 0.151*\"заявление\" + 0.138*\"сч\" + -0.135*\"курс\" + 0.104*\"вс\"\n",
      "-0.277*\"альфа\" + 0.223*\"ваш\" + 0.202*\"курс\" + -0.180*\"претензия\" + 0.165*\"платёж\" + -0.147*\"линия\" + -0.143*\"сбербанк\" + 0.142*\"валюта\" + -0.140*\"горячий\" + 0.138*\"доллар\"\n"
     ]
    }
   ],
   "source": [
    "check_bank(lsi_30.show_topics(), 'альфа')"
   ]
  },
  {
   "cell_type": "code",
   "execution_count": 41,
   "metadata": {},
   "outputs": [],
   "source": [
    "check_bank(lsi_30.show_topics(), 'втб')"
   ]
  },
  {
   "cell_type": "code",
   "execution_count": 42,
   "metadata": {},
   "outputs": [
    {
     "name": "stdout",
     "output_type": "stream",
     "text": [
      "-0.258*\"линия\" + -0.255*\"горячий\" + 0.234*\"страховка\" + 0.221*\"перевод\" + 0.219*\"задолженность\" + -0.215*\"договор\" + -0.143*\"магазин\" + -0.137*\"связный\" + 0.137*\"втб\" + 0.136*\"справка\"\n",
      "0.366*\"справка\" + 0.256*\"ваш\" + 0.199*\"услуга\" + 0.191*\"горячий\" + 0.187*\"линия\" + 0.149*\"страхование\" + -0.134*\"письмо\" + 0.134*\"деньга\" + -0.130*\"задолженность\" + 0.124*\"втб\"\n",
      "0.230*\"горячий\" + 0.226*\"линия\" + -0.210*\"справка\" + 0.192*\"ваш\" + 0.190*\"рубль\" + -0.190*\"договор\" + -0.178*\"курс\" + -0.175*\"заявление\" + 0.165*\"погашение\" + 0.162*\"втб\"\n",
      "0.257*\"связный\" + -0.207*\"горячий\" + -0.205*\"линия\" + -0.198*\"заявление\" + 0.188*\"г\" + -0.169*\"втб\" + 0.165*\"справка\" + -0.151*\"операция\" + -0.144*\"задолженность\" + 0.122*\"офис\"\n",
      "-0.257*\"претензия\" + 0.233*\"связный\" + -0.225*\"втб\" + -0.215*\"номер\" + 0.212*\"персональный\" + 0.181*\"альфа\" + 0.166*\"ваш\" + 0.148*\"данные\" + 0.130*\"менеджер\" + 0.123*\"сделка\"\n",
      "0.227*\"мтс\" + 0.189*\"втб\" + -0.187*\"альфа\" + 0.186*\"услуга\" + 0.184*\"персональный\" + -0.181*\"реструктуризация\" + -0.170*\"справка\" + -0.164*\"страховка\" + 0.160*\"декабрь\" + 0.160*\"претензия\"\n",
      "-0.302*\"связный\" + 0.276*\"траст\" + -0.274*\"втб\" + -0.154*\"страхование\" + -0.149*\"арест\" + -0.144*\"ставка\" + 0.142*\"пароль\" + -0.138*\"пристав\" + 0.135*\"карточка\" + 0.122*\"онлайн\"\n"
     ]
    }
   ],
   "source": [
    "check_bank(lsi_50.show_topics(), 'втб')"
   ]
  },
  {
   "cell_type": "markdown",
   "metadata": {},
   "source": [
    "Часть 3. Классификация текстов "
   ]
  },
  {
   "cell_type": "code",
   "execution_count": 1,
   "metadata": {},
   "outputs": [],
   "source": [
    "from sklearn.model_selection import train_test_split\n",
    "from sklearn.feature_extraction.text import CountVectorizer\n",
    "from sklearn.feature_extraction.text import TfidfTransformer\n",
    "from sklearn.decomposition import TruncatedSVD\n",
    "from sklearn.ensemble import RandomForestClassifier\n",
    "from sklearn.pipeline import Pipeline\n",
    "from sklearn.metrics import accuracy_score"
   ]
  },
  {
   "cell_type": "code",
   "execution_count": 4,
   "metadata": {
    "scrolled": true
   },
   "outputs": [
    {
     "data": {
      "text/html": [
       "<div>\n",
       "<style scoped>\n",
       "    .dataframe tbody tr th:only-of-type {\n",
       "        vertical-align: middle;\n",
       "    }\n",
       "\n",
       "    .dataframe tbody tr th {\n",
       "        vertical-align: top;\n",
       "    }\n",
       "\n",
       "    .dataframe thead th {\n",
       "        text-align: right;\n",
       "    }\n",
       "</style>\n",
       "<table border=\"1\" class=\"dataframe\">\n",
       "  <thead>\n",
       "    <tr style=\"text-align: right;\">\n",
       "      <th></th>\n",
       "      <th>text</th>\n",
       "      <th>cls</th>\n",
       "    </tr>\n",
       "  </thead>\n",
       "  <tbody>\n",
       "    <tr>\n",
       "      <th>0</th>\n",
       "      <td>здравствуйте хотеться выразить благодарность б...</td>\n",
       "      <td>1</td>\n",
       "    </tr>\n",
       "    <tr>\n",
       "      <th>3</th>\n",
       "      <td>июнь москва отделение адрес смоленский сенной ...</td>\n",
       "      <td>0</td>\n",
       "    </tr>\n",
       "    <tr>\n",
       "      <th>4</th>\n",
       "      <td>история очень долгий прийти банк маязакрывать ...</td>\n",
       "      <td>0</td>\n",
       "    </tr>\n",
       "    <tr>\n",
       "      <th>9</th>\n",
       "      <td>хотеть поблагодарить надежда отдел ипотечный к...</td>\n",
       "      <td>1</td>\n",
       "    </tr>\n",
       "    <tr>\n",
       "      <th>10</th>\n",
       "      <td>интербыстробанк удобно оплачивать платёж польз...</td>\n",
       "      <td>0</td>\n",
       "    </tr>\n",
       "  </tbody>\n",
       "</table>\n",
       "</div>"
      ],
      "text/plain": [
       "                                                 text  cls\n",
       "0   здравствуйте хотеться выразить благодарность б...    1\n",
       "3   июнь москва отделение адрес смоленский сенной ...    0\n",
       "4   история очень долгий прийти банк маязакрывать ...    0\n",
       "9   хотеть поблагодарить надежда отдел ипотечный к...    1\n",
       "10  интербыстробанк удобно оплачивать платёж польз...    0"
      ]
     },
     "execution_count": 4,
     "metadata": {},
     "output_type": "execute_result"
    }
   ],
   "source": [
    "df_full = pd.read_json('banki_responses.json', lines = True)\n",
    "\n",
    "df_full.drop(['city', 'bank_name', 'rating_not_checked', 'num_comments', 'bank_license', 'author', 'datetime', 'text', 'title'], axis=1, inplace=True)\n",
    "\n",
    "df_ = df.join(df_full)\n",
    "\n",
    "df_ = df_.loc[df_['rating_grade'].isin([1.0, 5.0])]\n",
    "\n",
    "df_['cls'] = np.where(df_.rating_grade == 1.0, 0, 1)\n",
    "\n",
    "df_.drop(['title', 'rating_grade'], axis=1, inplace=True)\n",
    "\n",
    "df_.head()"
   ]
  },
  {
   "cell_type": "code",
   "execution_count": 7,
   "metadata": {},
   "outputs": [
    {
     "name": "stdout",
     "output_type": "stream",
     "text": [
      "Wall time: 16.7 ms\n"
     ]
    }
   ],
   "source": [
    "%%time\n",
    "x = df_.text\n",
    "y = df_.cls\n",
    "X_train, X_test, y_train, y_test = train_test_split(x, y, test_size=0.33)"
   ]
  },
  {
   "cell_type": "markdown",
   "metadata": {},
   "source": [
    "30 компонент ngram_range=(1,1)"
   ]
  },
  {
   "cell_type": "code",
   "execution_count": 12,
   "metadata": {},
   "outputs": [],
   "source": [
    "text_clf = Pipeline([('vect', CountVectorizer(ngram_range=(1,1))), \n",
    "                     ('tfidf', TfidfTransformer()), \n",
    "                     ('tm', TruncatedSVD(n_components=30, random_state=0)), \n",
    "                     ('clf', RandomForestClassifier())])"
   ]
  },
  {
   "cell_type": "code",
   "execution_count": 13,
   "metadata": {},
   "outputs": [
    {
     "name": "stdout",
     "output_type": "stream",
     "text": [
      "Wall time: 48.8 s\n"
     ]
    }
   ],
   "source": [
    "%%time\n",
    "text_clf = text_clf.fit(X_train, y_train)\n",
    "y_pred = text_clf.predict(X_test)"
   ]
  },
  {
   "cell_type": "code",
   "execution_count": 14,
   "metadata": {},
   "outputs": [
    {
     "data": {
      "text/plain": [
       "0.9197013281106555"
      ]
     },
     "execution_count": 14,
     "metadata": {},
     "output_type": "execute_result"
    }
   ],
   "source": [
    "accuracy_score(y_pred, y_test)"
   ]
  },
  {
   "cell_type": "markdown",
   "metadata": {},
   "source": [
    "30 компонент, ngram_range=(2,2)"
   ]
  },
  {
   "cell_type": "code",
   "execution_count": 19,
   "metadata": {},
   "outputs": [],
   "source": [
    "text_clf = Pipeline([('vect', CountVectorizer(ngram_range=(2,2))), \n",
    "                     ('tfidf', TfidfTransformer()), \n",
    "                     ('tm', TruncatedSVD(n_components=30, random_state=0)), \n",
    "                     ('clf', RandomForestClassifier())])"
   ]
  },
  {
   "cell_type": "code",
   "execution_count": 20,
   "metadata": {},
   "outputs": [
    {
     "name": "stdout",
     "output_type": "stream",
     "text": [
      "Wall time: 1min 57s\n"
     ]
    },
    {
     "data": {
      "text/plain": [
       "0.8987698145541343"
      ]
     },
     "execution_count": 20,
     "metadata": {},
     "output_type": "execute_result"
    }
   ],
   "source": [
    "%%time\n",
    "text_clf = text_clf.fit(X_train, y_train)\n",
    "y_pred = text_clf.predict(X_test)\n",
    "accuracy_score(y_pred, y_test)"
   ]
  },
  {
   "cell_type": "markdown",
   "metadata": {},
   "source": [
    "30 компонент, ngram_range=(3,3)"
   ]
  },
  {
   "cell_type": "code",
   "execution_count": 5,
   "metadata": {},
   "outputs": [],
   "source": [
    "text_clf = Pipeline([('vect', CountVectorizer(ngram_range=(3,3))), \n",
    "                     ('tfidf', TfidfTransformer()), \n",
    "                     ('tm', TruncatedSVD(n_components=30, random_state=0)), \n",
    "                     ('clf', RandomForestClassifier())])"
   ]
  },
  {
   "cell_type": "code",
   "execution_count": 8,
   "metadata": {},
   "outputs": [
    {
     "name": "stdout",
     "output_type": "stream",
     "text": [
      "Wall time: 3min 24s\n"
     ]
    },
    {
     "data": {
      "text/plain": [
       "0.8590795030295612"
      ]
     },
     "execution_count": 8,
     "metadata": {},
     "output_type": "execute_result"
    }
   ],
   "source": [
    "%%time\n",
    "text_clf = text_clf.fit(X_train, y_train)\n",
    "y_pred = text_clf.predict(X_test)\n",
    "accuracy_score(y_pred, y_test)"
   ]
  },
  {
   "cell_type": "markdown",
   "metadata": {},
   "source": [
    "Вывод: с ростом размера рассматрвиаемого элемента качество модели классификации снижается."
   ]
  },
  {
   "cell_type": "code",
   "execution_count": null,
   "metadata": {},
   "outputs": [],
   "source": []
  }
 ],
 "metadata": {
  "kernelspec": {
   "display_name": "Python 3",
   "language": "python",
   "name": "python3"
  },
  "language_info": {
   "codemirror_mode": {
    "name": "ipython",
    "version": 3
   },
   "file_extension": ".py",
   "mimetype": "text/x-python",
   "name": "python",
   "nbconvert_exporter": "python",
   "pygments_lexer": "ipython3",
   "version": "3.8.5"
  }
 },
 "nbformat": 4,
 "nbformat_minor": 4
}
