{
 "cells": [
  {
   "cell_type": "code",
   "execution_count": 15,
   "metadata": {},
   "outputs": [],
   "source": [
    "from scipy.special import comb"
   ]
  },
  {
   "cell_type": "code",
   "execution_count": 17,
   "metadata": {},
   "outputs": [
    {
     "name": "stdout",
     "output_type": "stream",
     "text": [
      "105.0\n",
      "455.0\n",
      "3003.0\n",
      "6435.0\n",
      "1365.0\n",
      "105.0\n",
      "11468.0\n",
      "3.0517578125e-05\n",
      "0.3499755859375\n"
     ]
    }
   ],
   "source": [
    "events_prime_numbers = [2, 3, 5, 7, 11, 13]\n",
    "RT = []\n",
    "for item in events_prime_numbers:\n",
    "    rt = comb(15, item)\n",
    "    print(rt)\n",
    "    RT.append(rt)\n",
    "print(sum(RT))\n",
    "print(total_)\n",
    "print(sum(RT)*total_)"
   ]
  },
  {
   "cell_type": "code",
   "execution_count": 16,
   "metadata": {},
   "outputs": [
    {
     "data": {
      "text/plain": [
       "3.0517578125e-05"
      ]
     },
     "execution_count": 16,
     "metadata": {},
     "output_type": "execute_result"
    }
   ],
   "source": [
    "total_ = 0.5**15\n",
    "total_"
   ]
  },
  {
   "cell_type": "code",
   "execution_count": 18,
   "metadata": {},
   "outputs": [
    {
     "name": "stdout",
     "output_type": "stream",
     "text": [
      "1365.0\n"
     ]
    }
   ],
   "source": [
    "print(comb(15,11))"
   ]
  },
  {
   "cell_type": "code",
   "execution_count": null,
   "metadata": {},
   "outputs": [],
   "source": []
  }
 ],
 "metadata": {
  "kernelspec": {
   "display_name": "Python 3",
   "language": "python",
   "name": "python3"
  },
  "language_info": {
   "codemirror_mode": {
    "name": "ipython",
    "version": 3
   },
   "file_extension": ".py",
   "mimetype": "text/x-python",
   "name": "python",
   "nbconvert_exporter": "python",
   "pygments_lexer": "ipython3",
   "version": "3.7.6"
  }
 },
 "nbformat": 4,
 "nbformat_minor": 4
}
