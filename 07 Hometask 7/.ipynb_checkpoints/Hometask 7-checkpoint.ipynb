{
 "cells": [
  {
   "cell_type": "code",
   "execution_count": 139,
   "metadata": {},
   "outputs": [],
   "source": [
    "import numpy as np\n",
    "from scipy.special import comb"
   ]
  },
  {
   "cell_type": "markdown",
   "metadata": {},
   "source": [
    "** Уровень 0 **"
   ]
  },
  {
   "cell_type": "markdown",
   "metadata": {},
   "source": [
    "** Задача 1 **"
   ]
  },
  {
   "cell_type": "code",
   "execution_count": 9,
   "metadata": {},
   "outputs": [],
   "source": [
    "events_prime_numbers = [2, 3, 5, 7, 11, 13]    #Событие \n",
    "set_outcomes = [0, 1, 2, 3, 4, 5, 6, 7, 8, 9, 10, 11, 12, 13, 14, 15] #Множество исходов\n",
    "N = 15"
   ]
  },
  {
   "cell_type": "code",
   "execution_count": null,
   "metadata": {},
   "outputs": [],
   "source": [
    "#Используем формулу Бернулли для каждого из событий, равных простому числу, умноженному на  вероятность каждого броска = 0.5\n",
    "# и просуммируем все вероятности\n",
    "P = comb(15,2)*0.5^15 + comb(15,3)*0.5^15 + comb(15,5)*0.5^15 + comb(15,7)*0.5^15 + comb(15,11)*0.5^15 + comb(15,13)*0.5^15\n",
    "  = (105 + 455 + 3003 + 6435 + 1365 + 105)*0.5^15 = 11468 * 0.5^15 = 0.3499"
   ]
  },
  {
   "cell_type": "code",
   "execution_count": 141,
   "metadata": {},
   "outputs": [
    {
     "name": "stdout",
     "output_type": "stream",
     "text": [
      "0.3499755859375\n"
     ]
    }
   ],
   "source": [
    "RT = []\n",
    "for item in events_prime_numbers:\n",
    "    rt = comb(15, item)\n",
    "    RT.append(rt)\n",
    "print(sum(RT)*(0.5**15))"
   ]
  },
  {
   "cell_type": "code",
   "execution_count": 144,
   "metadata": {},
   "outputs": [
    {
     "name": "stdout",
     "output_type": "stream",
     "text": [
      "3502\n",
      "0.3502\n"
     ]
    }
   ],
   "source": [
    "res = []\n",
    "qty = 0\n",
    "for _ in range(10000):\n",
    "    a = 0\n",
    "    for _ in range(N):\n",
    "        a += np.random.choice([0,1])\n",
    "    res.append(a)\n",
    "    if a in events_prime_numbers:\n",
    "        qty +=1\n",
    "print(qty)\n",
    "print(qty/10000)"
   ]
  },
  {
   "cell_type": "code",
   "execution_count": null,
   "metadata": {},
   "outputs": [],
   "source": []
  },
  {
   "cell_type": "markdown",
   "metadata": {},
   "source": [
    "** Задание 2 ***"
   ]
  },
  {
   "cell_type": "code",
   "execution_count": 40,
   "metadata": {},
   "outputs": [],
   "source": [
    "import pandas as pd"
   ]
  },
  {
   "cell_type": "code",
   "execution_count": 104,
   "metadata": {},
   "outputs": [
    {
     "data": {
      "text/plain": [
       "<matplotlib.axes._subplots.AxesSubplot at 0xa62f348>"
      ]
     },
     "execution_count": 104,
     "metadata": {},
     "output_type": "execute_result"
    },
    {
     "data": {
      "image/png": "[encoded data removed]",
      "text/plain": [
       "<Figure size 432x288 with 1 Axes>"
      ]
     },
     "metadata": {
      "needs_background": "light"
     },
     "output_type": "display_data"
    }
   ],
   "source": [
    "res = []\n",
    "for _ in range(1000):\n",
    "    res.append(np.random.choice(list(range(2, 18))))\n",
    "\n",
    "df = pd.DataFrame({'value': res})\n",
    "df['value'].hist()              \n",
    "               "
   ]
  },
  {
   "cell_type": "code",
   "execution_count": 105,
   "metadata": {},
   "outputs": [
    {
     "name": "stdout",
     "output_type": "stream",
     "text": [
      "Медиана 9.0\n",
      "Дисперсия 20.685504\n",
      "Отклонение 4.548131924208004\n",
      "Среднее 9.136\n"
     ]
    }
   ],
   "source": [
    "print('Медиана', np.median(res))\n",
    "print('Дисперсия', np.var(res))\n",
    "print('Отклонение', np.std(res))\n",
    "print('Среднее', np.mean(res))"
   ]
  },
  {
   "cell_type": "code",
   "execution_count": null,
   "metadata": {},
   "outputs": [],
   "source": []
  }
 ],
 "metadata": {
  "kernelspec": {
   "display_name": "Python 3",
   "language": "python",
   "name": "python3"
  },
  "language_info": {
   "codemirror_mode": {
    "name": "ipython",
    "version": 3
   },
   "file_extension": ".py",
   "mimetype": "text/x-python",
   "name": "python",
   "nbconvert_exporter": "python",
   "pygments_lexer": "ipython3",
   "version": "3.7.6"
  }
 },
 "nbformat": 4,
 "nbformat_minor": 4
}
